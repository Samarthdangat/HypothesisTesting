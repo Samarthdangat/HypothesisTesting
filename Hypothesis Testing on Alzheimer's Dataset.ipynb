{
  "cells": [
    {
      "cell_type": "markdown",
      "id": "ad1f9348-04b2-44bf-8b6d-dccd8f6bfe16",
      "metadata": {
        "id": "ad1f9348-04b2-44bf-8b6d-dccd8f6bfe16"
      },
      "source": [
        "# Importing & Storing Data"
      ]
    },
    {
      "cell_type": "code",
      "execution_count": null,
      "id": "12804521-fc93-467d-b572-6a1534f0f97f",
      "metadata": {
        "id": "12804521-fc93-467d-b572-6a1534f0f97f"
      },
      "outputs": [],
      "source": [
        "import numpy as np\n",
        "import pandas as pd\n",
        "import seaborn as sns\n",
        "from scipy import stats\n",
        "import statsmodels.api as sm\n",
        "import matplotlib.pyplot as plt\n",
        "from scipy.stats import ttest_ind\n",
        "from statsmodels.formula.api import ols\n",
        "from scipy.stats import chi2_contingency\n",
        "from scipy.stats import pearsonr, spearmanr\n",
        "from statsmodels.stats.weightstats import ztest\n",
        "from sklearn.preprocessing import PowerTransformer\n",
        "from statsmodels.multivariate.manova import MANOVA\n",
        "from statsmodels.stats.proportion import proportions_ztest"
      ]
    },
    {
      "cell_type": "code",
      "execution_count": null,
      "id": "95b74d61-5035-497f-81c3-aef29fc27f54",
      "metadata": {
        "id": "95b74d61-5035-497f-81c3-aef29fc27f54"
      },
      "outputs": [],
      "source": [
        "df = pd.read_csv('alzheimers_disease_data.csv')"
      ]
    },
    {
      "cell_type": "markdown",
      "id": "bbbe3723-2644-4ff1-a7d9-6f5bb8307832",
      "metadata": {
        "id": "bbbe3723-2644-4ff1-a7d9-6f5bb8307832"
      },
      "source": [
        "Copying data for operations"
      ]
    },
    {
      "cell_type": "code",
      "execution_count": null,
      "id": "fa3aa40f-af0d-4235-b5c9-6467f1ac4b9b",
      "metadata": {
        "id": "fa3aa40f-af0d-4235-b5c9-6467f1ac4b9b",
        "colab": {
          "base_uri": "https://localhost:8080/",
          "height": 256
        },
        "outputId": "463eaf1b-48a4-4440-c7e7-dc2a60cfeaaa"
      },
      "outputs": [
        {
          "output_type": "execute_result",
          "data": {
            "text/plain": [
              "   PatientID  Age  Gender  Ethnicity  EducationLevel        BMI  Smoking  \\\n",
              "0       4751   73       0          0               2  22.927749        0   \n",
              "1       4752   89       0          0               0  26.827681        0   \n",
              "2       4753   73       0          3               1  17.795882        0   \n",
              "3       4754   74       1          0               1  33.800817        1   \n",
              "4       4755   89       0          0               0  20.716974        0   \n",
              "\n",
              "   AlcoholConsumption  PhysicalActivity  DietQuality  ...  MemoryComplaints  \\\n",
              "0           13.297218          6.327112     1.347214  ...                 0   \n",
              "1            4.542524          7.619885     0.518767  ...                 0   \n",
              "2           19.555085          7.844988     1.826335  ...                 0   \n",
              "3           12.209266          8.428001     7.435604  ...                 0   \n",
              "4           18.454356          6.310461     0.795498  ...                 0   \n",
              "\n",
              "   BehavioralProblems       ADL  Confusion  Disorientation  \\\n",
              "0                   0  1.725883          0               0   \n",
              "1                   0  2.592424          0               0   \n",
              "2                   0  7.119548          0               1   \n",
              "3                   1  6.481226          0               0   \n",
              "4                   0  0.014691          0               0   \n",
              "\n",
              "   PersonalityChanges  DifficultyCompletingTasks  Forgetfulness  Diagnosis  \\\n",
              "0                   0                          1              0          0   \n",
              "1                   0                          0              1          0   \n",
              "2                   0                          1              0          0   \n",
              "3                   0                          0              0          0   \n",
              "4                   1                          1              0          0   \n",
              "\n",
              "   DoctorInCharge  \n",
              "0       XXXConfid  \n",
              "1       XXXConfid  \n",
              "2       XXXConfid  \n",
              "3       XXXConfid  \n",
              "4       XXXConfid  \n",
              "\n",
              "[5 rows x 35 columns]"
            ],
            "text/html": [
              "\n",
              "  <div id=\"df-c88a2a29-daa4-43ab-a734-32623cd76c8d\" class=\"colab-df-container\">\n",
              "    <div>\n",
              "<style scoped>\n",
              "    .dataframe tbody tr th:only-of-type {\n",
              "        vertical-align: middle;\n",
              "    }\n",
              "\n",
              "    .dataframe tbody tr th {\n",
              "        vertical-align: top;\n",
              "    }\n",
              "\n",
              "    .dataframe thead th {\n",
              "        text-align: right;\n",
              "    }\n",
              "</style>\n",
              "<table border=\"1\" class=\"dataframe\">\n",
              "  <thead>\n",
              "    <tr style=\"text-align: right;\">\n",
              "      <th></th>\n",
              "      <th>PatientID</th>\n",
              "      <th>Age</th>\n",
              "      <th>Gender</th>\n",
              "      <th>Ethnicity</th>\n",
              "      <th>EducationLevel</th>\n",
              "      <th>BMI</th>\n",
              "      <th>Smoking</th>\n",
              "      <th>AlcoholConsumption</th>\n",
              "      <th>PhysicalActivity</th>\n",
              "      <th>DietQuality</th>\n",
              "      <th>...</th>\n",
              "      <th>MemoryComplaints</th>\n",
              "      <th>BehavioralProblems</th>\n",
              "      <th>ADL</th>\n",
              "      <th>Confusion</th>\n",
              "      <th>Disorientation</th>\n",
              "      <th>PersonalityChanges</th>\n",
              "      <th>DifficultyCompletingTasks</th>\n",
              "      <th>Forgetfulness</th>\n",
              "      <th>Diagnosis</th>\n",
              "      <th>DoctorInCharge</th>\n",
              "    </tr>\n",
              "  </thead>\n",
              "  <tbody>\n",
              "    <tr>\n",
              "      <th>0</th>\n",
              "      <td>4751</td>\n",
              "      <td>73</td>\n",
              "      <td>0</td>\n",
              "      <td>0</td>\n",
              "      <td>2</td>\n",
              "      <td>22.927749</td>\n",
              "      <td>0</td>\n",
              "      <td>13.297218</td>\n",
              "      <td>6.327112</td>\n",
              "      <td>1.347214</td>\n",
              "      <td>...</td>\n",
              "      <td>0</td>\n",
              "      <td>0</td>\n",
              "      <td>1.725883</td>\n",
              "      <td>0</td>\n",
              "      <td>0</td>\n",
              "      <td>0</td>\n",
              "      <td>1</td>\n",
              "      <td>0</td>\n",
              "      <td>0</td>\n",
              "      <td>XXXConfid</td>\n",
              "    </tr>\n",
              "    <tr>\n",
              "      <th>1</th>\n",
              "      <td>4752</td>\n",
              "      <td>89</td>\n",
              "      <td>0</td>\n",
              "      <td>0</td>\n",
              "      <td>0</td>\n",
              "      <td>26.827681</td>\n",
              "      <td>0</td>\n",
              "      <td>4.542524</td>\n",
              "      <td>7.619885</td>\n",
              "      <td>0.518767</td>\n",
              "      <td>...</td>\n",
              "      <td>0</td>\n",
              "      <td>0</td>\n",
              "      <td>2.592424</td>\n",
              "      <td>0</td>\n",
              "      <td>0</td>\n",
              "      <td>0</td>\n",
              "      <td>0</td>\n",
              "      <td>1</td>\n",
              "      <td>0</td>\n",
              "      <td>XXXConfid</td>\n",
              "    </tr>\n",
              "    <tr>\n",
              "      <th>2</th>\n",
              "      <td>4753</td>\n",
              "      <td>73</td>\n",
              "      <td>0</td>\n",
              "      <td>3</td>\n",
              "      <td>1</td>\n",
              "      <td>17.795882</td>\n",
              "      <td>0</td>\n",
              "      <td>19.555085</td>\n",
              "      <td>7.844988</td>\n",
              "      <td>1.826335</td>\n",
              "      <td>...</td>\n",
              "      <td>0</td>\n",
              "      <td>0</td>\n",
              "      <td>7.119548</td>\n",
              "      <td>0</td>\n",
              "      <td>1</td>\n",
              "      <td>0</td>\n",
              "      <td>1</td>\n",
              "      <td>0</td>\n",
              "      <td>0</td>\n",
              "      <td>XXXConfid</td>\n",
              "    </tr>\n",
              "    <tr>\n",
              "      <th>3</th>\n",
              "      <td>4754</td>\n",
              "      <td>74</td>\n",
              "      <td>1</td>\n",
              "      <td>0</td>\n",
              "      <td>1</td>\n",
              "      <td>33.800817</td>\n",
              "      <td>1</td>\n",
              "      <td>12.209266</td>\n",
              "      <td>8.428001</td>\n",
              "      <td>7.435604</td>\n",
              "      <td>...</td>\n",
              "      <td>0</td>\n",
              "      <td>1</td>\n",
              "      <td>6.481226</td>\n",
              "      <td>0</td>\n",
              "      <td>0</td>\n",
              "      <td>0</td>\n",
              "      <td>0</td>\n",
              "      <td>0</td>\n",
              "      <td>0</td>\n",
              "      <td>XXXConfid</td>\n",
              "    </tr>\n",
              "    <tr>\n",
              "      <th>4</th>\n",
              "      <td>4755</td>\n",
              "      <td>89</td>\n",
              "      <td>0</td>\n",
              "      <td>0</td>\n",
              "      <td>0</td>\n",
              "      <td>20.716974</td>\n",
              "      <td>0</td>\n",
              "      <td>18.454356</td>\n",
              "      <td>6.310461</td>\n",
              "      <td>0.795498</td>\n",
              "      <td>...</td>\n",
              "      <td>0</td>\n",
              "      <td>0</td>\n",
              "      <td>0.014691</td>\n",
              "      <td>0</td>\n",
              "      <td>0</td>\n",
              "      <td>1</td>\n",
              "      <td>1</td>\n",
              "      <td>0</td>\n",
              "      <td>0</td>\n",
              "      <td>XXXConfid</td>\n",
              "    </tr>\n",
              "  </tbody>\n",
              "</table>\n",
              "<p>5 rows × 35 columns</p>\n",
              "</div>\n",
              "    <div class=\"colab-df-buttons\">\n",
              "\n",
              "  <div class=\"colab-df-container\">\n",
              "    <button class=\"colab-df-convert\" onclick=\"convertToInteractive('df-c88a2a29-daa4-43ab-a734-32623cd76c8d')\"\n",
              "            title=\"Convert this dataframe to an interactive table.\"\n",
              "            style=\"display:none;\">\n",
              "\n",
              "  <svg xmlns=\"http://www.w3.org/2000/svg\" height=\"24px\" viewBox=\"0 -960 960 960\">\n",
              "    <path d=\"M120-120v-720h720v720H120Zm60-500h600v-160H180v160Zm220 220h160v-160H400v160Zm0 220h160v-160H400v160ZM180-400h160v-160H180v160Zm440 0h160v-160H620v160ZM180-180h160v-160H180v160Zm440 0h160v-160H620v160Z\"/>\n",
              "  </svg>\n",
              "    </button>\n",
              "\n",
              "  <style>\n",
              "    .colab-df-container {\n",
              "      display:flex;\n",
              "      gap: 12px;\n",
              "    }\n",
              "\n",
              "    .colab-df-convert {\n",
              "      background-color: #E8F0FE;\n",
              "      border: none;\n",
              "      border-radius: 50%;\n",
              "      cursor: pointer;\n",
              "      display: none;\n",
              "      fill: #1967D2;\n",
              "      height: 32px;\n",
              "      padding: 0 0 0 0;\n",
              "      width: 32px;\n",
              "    }\n",
              "\n",
              "    .colab-df-convert:hover {\n",
              "      background-color: #E2EBFA;\n",
              "      box-shadow: 0px 1px 2px rgba(60, 64, 67, 0.3), 0px 1px 3px 1px rgba(60, 64, 67, 0.15);\n",
              "      fill: #174EA6;\n",
              "    }\n",
              "\n",
              "    .colab-df-buttons div {\n",
              "      margin-bottom: 4px;\n",
              "    }\n",
              "\n",
              "    [theme=dark] .colab-df-convert {\n",
              "      background-color: #3B4455;\n",
              "      fill: #D2E3FC;\n",
              "    }\n",
              "\n",
              "    [theme=dark] .colab-df-convert:hover {\n",
              "      background-color: #434B5C;\n",
              "      box-shadow: 0px 1px 3px 1px rgba(0, 0, 0, 0.15);\n",
              "      filter: drop-shadow(0px 1px 2px rgba(0, 0, 0, 0.3));\n",
              "      fill: #FFFFFF;\n",
              "    }\n",
              "  </style>\n",
              "\n",
              "    <script>\n",
              "      const buttonEl =\n",
              "        document.querySelector('#df-c88a2a29-daa4-43ab-a734-32623cd76c8d button.colab-df-convert');\n",
              "      buttonEl.style.display =\n",
              "        google.colab.kernel.accessAllowed ? 'block' : 'none';\n",
              "\n",
              "      async function convertToInteractive(key) {\n",
              "        const element = document.querySelector('#df-c88a2a29-daa4-43ab-a734-32623cd76c8d');\n",
              "        const dataTable =\n",
              "          await google.colab.kernel.invokeFunction('convertToInteractive',\n",
              "                                                    [key], {});\n",
              "        if (!dataTable) return;\n",
              "\n",
              "        const docLinkHtml = 'Like what you see? Visit the ' +\n",
              "          '<a target=\"_blank\" href=https://colab.research.google.com/notebooks/data_table.ipynb>data table notebook</a>'\n",
              "          + ' to learn more about interactive tables.';\n",
              "        element.innerHTML = '';\n",
              "        dataTable['output_type'] = 'display_data';\n",
              "        await google.colab.output.renderOutput(dataTable, element);\n",
              "        const docLink = document.createElement('div');\n",
              "        docLink.innerHTML = docLinkHtml;\n",
              "        element.appendChild(docLink);\n",
              "      }\n",
              "    </script>\n",
              "  </div>\n",
              "\n",
              "\n",
              "<div id=\"df-c9327bc7-2942-4adb-8878-d9a3953bef08\">\n",
              "  <button class=\"colab-df-quickchart\" onclick=\"quickchart('df-c9327bc7-2942-4adb-8878-d9a3953bef08')\"\n",
              "            title=\"Suggest charts\"\n",
              "            style=\"display:none;\">\n",
              "\n",
              "<svg xmlns=\"http://www.w3.org/2000/svg\" height=\"24px\"viewBox=\"0 0 24 24\"\n",
              "     width=\"24px\">\n",
              "    <g>\n",
              "        <path d=\"M19 3H5c-1.1 0-2 .9-2 2v14c0 1.1.9 2 2 2h14c1.1 0 2-.9 2-2V5c0-1.1-.9-2-2-2zM9 17H7v-7h2v7zm4 0h-2V7h2v10zm4 0h-2v-4h2v4z\"/>\n",
              "    </g>\n",
              "</svg>\n",
              "  </button>\n",
              "\n",
              "<style>\n",
              "  .colab-df-quickchart {\n",
              "      --bg-color: #E8F0FE;\n",
              "      --fill-color: #1967D2;\n",
              "      --hover-bg-color: #E2EBFA;\n",
              "      --hover-fill-color: #174EA6;\n",
              "      --disabled-fill-color: #AAA;\n",
              "      --disabled-bg-color: #DDD;\n",
              "  }\n",
              "\n",
              "  [theme=dark] .colab-df-quickchart {\n",
              "      --bg-color: #3B4455;\n",
              "      --fill-color: #D2E3FC;\n",
              "      --hover-bg-color: #434B5C;\n",
              "      --hover-fill-color: #FFFFFF;\n",
              "      --disabled-bg-color: #3B4455;\n",
              "      --disabled-fill-color: #666;\n",
              "  }\n",
              "\n",
              "  .colab-df-quickchart {\n",
              "    background-color: var(--bg-color);\n",
              "    border: none;\n",
              "    border-radius: 50%;\n",
              "    cursor: pointer;\n",
              "    display: none;\n",
              "    fill: var(--fill-color);\n",
              "    height: 32px;\n",
              "    padding: 0;\n",
              "    width: 32px;\n",
              "  }\n",
              "\n",
              "  .colab-df-quickchart:hover {\n",
              "    background-color: var(--hover-bg-color);\n",
              "    box-shadow: 0 1px 2px rgba(60, 64, 67, 0.3), 0 1px 3px 1px rgba(60, 64, 67, 0.15);\n",
              "    fill: var(--button-hover-fill-color);\n",
              "  }\n",
              "\n",
              "  .colab-df-quickchart-complete:disabled,\n",
              "  .colab-df-quickchart-complete:disabled:hover {\n",
              "    background-color: var(--disabled-bg-color);\n",
              "    fill: var(--disabled-fill-color);\n",
              "    box-shadow: none;\n",
              "  }\n",
              "\n",
              "  .colab-df-spinner {\n",
              "    border: 2px solid var(--fill-color);\n",
              "    border-color: transparent;\n",
              "    border-bottom-color: var(--fill-color);\n",
              "    animation:\n",
              "      spin 1s steps(1) infinite;\n",
              "  }\n",
              "\n",
              "  @keyframes spin {\n",
              "    0% {\n",
              "      border-color: transparent;\n",
              "      border-bottom-color: var(--fill-color);\n",
              "      border-left-color: var(--fill-color);\n",
              "    }\n",
              "    20% {\n",
              "      border-color: transparent;\n",
              "      border-left-color: var(--fill-color);\n",
              "      border-top-color: var(--fill-color);\n",
              "    }\n",
              "    30% {\n",
              "      border-color: transparent;\n",
              "      border-left-color: var(--fill-color);\n",
              "      border-top-color: var(--fill-color);\n",
              "      border-right-color: var(--fill-color);\n",
              "    }\n",
              "    40% {\n",
              "      border-color: transparent;\n",
              "      border-right-color: var(--fill-color);\n",
              "      border-top-color: var(--fill-color);\n",
              "    }\n",
              "    60% {\n",
              "      border-color: transparent;\n",
              "      border-right-color: var(--fill-color);\n",
              "    }\n",
              "    80% {\n",
              "      border-color: transparent;\n",
              "      border-right-color: var(--fill-color);\n",
              "      border-bottom-color: var(--fill-color);\n",
              "    }\n",
              "    90% {\n",
              "      border-color: transparent;\n",
              "      border-bottom-color: var(--fill-color);\n",
              "    }\n",
              "  }\n",
              "</style>\n",
              "\n",
              "  <script>\n",
              "    async function quickchart(key) {\n",
              "      const quickchartButtonEl =\n",
              "        document.querySelector('#' + key + ' button');\n",
              "      quickchartButtonEl.disabled = true;  // To prevent multiple clicks.\n",
              "      quickchartButtonEl.classList.add('colab-df-spinner');\n",
              "      try {\n",
              "        const charts = await google.colab.kernel.invokeFunction(\n",
              "            'suggestCharts', [key], {});\n",
              "      } catch (error) {\n",
              "        console.error('Error during call to suggestCharts:', error);\n",
              "      }\n",
              "      quickchartButtonEl.classList.remove('colab-df-spinner');\n",
              "      quickchartButtonEl.classList.add('colab-df-quickchart-complete');\n",
              "    }\n",
              "    (() => {\n",
              "      let quickchartButtonEl =\n",
              "        document.querySelector('#df-c9327bc7-2942-4adb-8878-d9a3953bef08 button');\n",
              "      quickchartButtonEl.style.display =\n",
              "        google.colab.kernel.accessAllowed ? 'block' : 'none';\n",
              "    })();\n",
              "  </script>\n",
              "</div>\n",
              "\n",
              "    </div>\n",
              "  </div>\n"
            ],
            "application/vnd.google.colaboratory.intrinsic+json": {
              "type": "dataframe",
              "variable_name": "new"
            }
          },
          "metadata": {},
          "execution_count": 5
        }
      ],
      "source": [
        "new = df.copy()\n",
        "new.head()"
      ]
    },
    {
      "cell_type": "code",
      "execution_count": null,
      "id": "635f4f8f-9f01-4cf3-861a-eb913ea17652",
      "metadata": {
        "id": "635f4f8f-9f01-4cf3-861a-eb913ea17652",
        "colab": {
          "base_uri": "https://localhost:8080/"
        },
        "outputId": "3972c984-3e63-4730-9996-d0d885239bf5"
      },
      "outputs": [
        {
          "output_type": "execute_result",
          "data": {
            "text/plain": [
              "(2149, 33)"
            ]
          },
          "metadata": {},
          "execution_count": 5
        }
      ],
      "source": [
        "new = new.drop(['DoctorInCharge', 'PatientID'], axis = 1)\n",
        "new.shape"
      ]
    },
    {
      "cell_type": "markdown",
      "id": "5621625a-a3e9-411c-8b5b-c638d67c8a41",
      "metadata": {
        "id": "5621625a-a3e9-411c-8b5b-c638d67c8a41"
      },
      "source": [
        "# Outlier Work"
      ]
    },
    {
      "cell_type": "code",
      "execution_count": null,
      "id": "81bc0daa-4b08-46b3-868a-2ba25da5da49",
      "metadata": {
        "id": "81bc0daa-4b08-46b3-868a-2ba25da5da49",
        "outputId": "f5b66c67-541f-478b-b6b4-eba3beff66d7",
        "colab": {
          "base_uri": "https://localhost:8080/",
          "height": 727
        }
      },
      "outputs": [
        {
          "output_type": "display_data",
          "data": {
            "text/plain": [
              "<Figure size 2500x700 with 15 Axes>"
            ],
            "image/png": "[encoded data removed]"
          },
          "metadata": {}
        }
      ],
      "source": [
        "columns_to_plot = ['Age', 'BMI', 'AlcoholConsumption', 'PhysicalActivity', 'DietQuality',\n",
        "                   'SleepQuality', 'SystolicBP', 'DiastolicBP', 'CholesterolTotal',\n",
        "                   'CholesterolLDL', 'CholesterolHDL', 'CholesterolTriglycerides', 'MMSE',\n",
        "                   'FunctionalAssessment', 'ADL']\n",
        "\n",
        "fig, axes = plt.subplots(figsize=(25,7), ncols=len(columns_to_plot))\n",
        "\n",
        "for column, axis in zip(columns_to_plot, axes):\n",
        "    sns.boxplot(data=df[column], ax=axis)\n",
        "    axis.set_title(column)\n",
        "    sns.stripplot(data=df[column], ax=axis, size=4, color=\".3\")\n",
        "\n",
        "plt.tight_layout()\n",
        "plt.show()"
      ]
    },
    {
      "cell_type": "code",
      "execution_count": null,
      "id": "f5b8cd28-ffe5-4064-990e-2180f914d537",
      "metadata": {
        "id": "f5b8cd28-ffe5-4064-990e-2180f914d537",
        "outputId": "fb70befa-99e6-4d00-fd8e-c701c51eddcb",
        "colab": {
          "base_uri": "https://localhost:8080/"
        }
      },
      "outputs": [
        {
          "output_type": "execute_result",
          "data": {
            "text/plain": [
              "(2149, 33)"
            ]
          },
          "metadata": {},
          "execution_count": 7
        }
      ],
      "source": [
        "columns_to_process = ['Age', 'BMI', 'AlcoholConsumption', 'PhysicalActivity', 'DietQuality',\n",
        "                   'SleepQuality', 'SystolicBP', 'DiastolicBP', 'CholesterolTotal',\n",
        "                   'CholesterolLDL', 'CholesterolHDL', 'CholesterolTriglycerides', 'MMSE',\n",
        "                   'FunctionalAssessment', 'ADL']\n",
        "\n",
        "for i in columns_to_process:\n",
        "    q1 = new[i].quantile(0.25)\n",
        "    q3 = new[i].quantile(0.75)\n",
        "    iqr = q3 - q1\n",
        "    ul = q3 + (iqr * 1.5)\n",
        "    ll = q1 - (iqr * 1.5)\n",
        "    new = new.loc[(new[i] > ll) | (new[i] < ul)]\n",
        "\n",
        "new.shape"
      ]
    },
    {
      "cell_type": "markdown",
      "id": "25c47e38-a65d-48ce-9d24-f9a1b73bbf72",
      "metadata": {
        "id": "25c47e38-a65d-48ce-9d24-f9a1b73bbf72"
      },
      "source": [
        "No outlier present"
      ]
    },
    {
      "cell_type": "markdown",
      "id": "f8e52995-4948-4120-9b25-788a9fdf7625",
      "metadata": {
        "id": "f8e52995-4948-4120-9b25-788a9fdf7625"
      },
      "source": [
        "# Hypothesis 1:"
      ]
    },
    {
      "cell_type": "markdown",
      "id": "30007d07-7646-4bfc-96be-f6bfee4f7737",
      "metadata": {
        "id": "30007d07-7646-4bfc-96be-f6bfee4f7737"
      },
      "source": [
        "Do people who are diagnosed with alzheimers older?\n",
        "\n",
        "H0: There is no difference in age with respect to Alzheimer's diagnosis, H1: There is significant difference in age with respect to Alzheimer's Diagnosis"
      ]
    },
    {
      "cell_type": "markdown",
      "source": [
        "Two Numerical Samples: T test, Z test"
      ],
      "metadata": {
        "id": "HVcKhP6Oxyuv"
      },
      "id": "HVcKhP6Oxyuv"
    },
    {
      "cell_type": "code",
      "execution_count": null,
      "id": "1de188a5-6a9f-4e5b-950a-3edc8db65dcf",
      "metadata": {
        "id": "1de188a5-6a9f-4e5b-950a-3edc8db65dcf",
        "colab": {
          "base_uri": "https://localhost:8080/",
          "height": 206
        },
        "outputId": "ce26d67a-d526-4006-9606-03ca81572212"
      },
      "outputs": [
        {
          "output_type": "execute_result",
          "data": {
            "text/plain": [
              "   Age  Diagnosis\n",
              "0   73          0\n",
              "1   89          0\n",
              "2   73          0\n",
              "3   74          0\n",
              "4   89          0"
            ],
            "text/html": [
              "\n",
              "  <div id=\"df-6f3cc57a-f44c-407f-8c46-07d47a6af5b4\" class=\"colab-df-container\">\n",
              "    <div>\n",
              "<style scoped>\n",
              "    .dataframe tbody tr th:only-of-type {\n",
              "        vertical-align: middle;\n",
              "    }\n",
              "\n",
              "    .dataframe tbody tr th {\n",
              "        vertical-align: top;\n",
              "    }\n",
              "\n",
              "    .dataframe thead th {\n",
              "        text-align: right;\n",
              "    }\n",
              "</style>\n",
              "<table border=\"1\" class=\"dataframe\">\n",
              "  <thead>\n",
              "    <tr style=\"text-align: right;\">\n",
              "      <th></th>\n",
              "      <th>Age</th>\n",
              "      <th>Diagnosis</th>\n",
              "    </tr>\n",
              "  </thead>\n",
              "  <tbody>\n",
              "    <tr>\n",
              "      <th>0</th>\n",
              "      <td>73</td>\n",
              "      <td>0</td>\n",
              "    </tr>\n",
              "    <tr>\n",
              "      <th>1</th>\n",
              "      <td>89</td>\n",
              "      <td>0</td>\n",
              "    </tr>\n",
              "    <tr>\n",
              "      <th>2</th>\n",
              "      <td>73</td>\n",
              "      <td>0</td>\n",
              "    </tr>\n",
              "    <tr>\n",
              "      <th>3</th>\n",
              "      <td>74</td>\n",
              "      <td>0</td>\n",
              "    </tr>\n",
              "    <tr>\n",
              "      <th>4</th>\n",
              "      <td>89</td>\n",
              "      <td>0</td>\n",
              "    </tr>\n",
              "  </tbody>\n",
              "</table>\n",
              "</div>\n",
              "    <div class=\"colab-df-buttons\">\n",
              "\n",
              "  <div class=\"colab-df-container\">\n",
              "    <button class=\"colab-df-convert\" onclick=\"convertToInteractive('df-6f3cc57a-f44c-407f-8c46-07d47a6af5b4')\"\n",
              "            title=\"Convert this dataframe to an interactive table.\"\n",
              "            style=\"display:none;\">\n",
              "\n",
              "  <svg xmlns=\"http://www.w3.org/2000/svg\" height=\"24px\" viewBox=\"0 -960 960 960\">\n",
              "    <path d=\"M120-120v-720h720v720H120Zm60-500h600v-160H180v160Zm220 220h160v-160H400v160Zm0 220h160v-160H400v160ZM180-400h160v-160H180v160Zm440 0h160v-160H620v160ZM180-180h160v-160H180v160Zm440 0h160v-160H620v160Z\"/>\n",
              "  </svg>\n",
              "    </button>\n",
              "\n",
              "  <style>\n",
              "    .colab-df-container {\n",
              "      display:flex;\n",
              "      gap: 12px;\n",
              "    }\n",
              "\n",
              "    .colab-df-convert {\n",
              "      background-color: #E8F0FE;\n",
              "      border: none;\n",
              "      border-radius: 50%;\n",
              "      cursor: pointer;\n",
              "      display: none;\n",
              "      fill: #1967D2;\n",
              "      height: 32px;\n",
              "      padding: 0 0 0 0;\n",
              "      width: 32px;\n",
              "    }\n",
              "\n",
              "    .colab-df-convert:hover {\n",
              "      background-color: #E2EBFA;\n",
              "      box-shadow: 0px 1px 2px rgba(60, 64, 67, 0.3), 0px 1px 3px 1px rgba(60, 64, 67, 0.15);\n",
              "      fill: #174EA6;\n",
              "    }\n",
              "\n",
              "    .colab-df-buttons div {\n",
              "      margin-bottom: 4px;\n",
              "    }\n",
              "\n",
              "    [theme=dark] .colab-df-convert {\n",
              "      background-color: #3B4455;\n",
              "      fill: #D2E3FC;\n",
              "    }\n",
              "\n",
              "    [theme=dark] .colab-df-convert:hover {\n",
              "      background-color: #434B5C;\n",
              "      box-shadow: 0px 1px 3px 1px rgba(0, 0, 0, 0.15);\n",
              "      filter: drop-shadow(0px 1px 2px rgba(0, 0, 0, 0.3));\n",
              "      fill: #FFFFFF;\n",
              "    }\n",
              "  </style>\n",
              "\n",
              "    <script>\n",
              "      const buttonEl =\n",
              "        document.querySelector('#df-6f3cc57a-f44c-407f-8c46-07d47a6af5b4 button.colab-df-convert');\n",
              "      buttonEl.style.display =\n",
              "        google.colab.kernel.accessAllowed ? 'block' : 'none';\n",
              "\n",
              "      async function convertToInteractive(key) {\n",
              "        const element = document.querySelector('#df-6f3cc57a-f44c-407f-8c46-07d47a6af5b4');\n",
              "        const dataTable =\n",
              "          await google.colab.kernel.invokeFunction('convertToInteractive',\n",
              "                                                    [key], {});\n",
              "        if (!dataTable) return;\n",
              "\n",
              "        const docLinkHtml = 'Like what you see? Visit the ' +\n",
              "          '<a target=\"_blank\" href=https://colab.research.google.com/notebooks/data_table.ipynb>data table notebook</a>'\n",
              "          + ' to learn more about interactive tables.';\n",
              "        element.innerHTML = '';\n",
              "        dataTable['output_type'] = 'display_data';\n",
              "        await google.colab.output.renderOutput(dataTable, element);\n",
              "        const docLink = document.createElement('div');\n",
              "        docLink.innerHTML = docLinkHtml;\n",
              "        element.appendChild(docLink);\n",
              "      }\n",
              "    </script>\n",
              "  </div>\n",
              "\n",
              "\n",
              "<div id=\"df-4f233b3b-19e6-4c4a-84e2-72ae2dbd50f2\">\n",
              "  <button class=\"colab-df-quickchart\" onclick=\"quickchart('df-4f233b3b-19e6-4c4a-84e2-72ae2dbd50f2')\"\n",
              "            title=\"Suggest charts\"\n",
              "            style=\"display:none;\">\n",
              "\n",
              "<svg xmlns=\"http://www.w3.org/2000/svg\" height=\"24px\"viewBox=\"0 0 24 24\"\n",
              "     width=\"24px\">\n",
              "    <g>\n",
              "        <path d=\"M19 3H5c-1.1 0-2 .9-2 2v14c0 1.1.9 2 2 2h14c1.1 0 2-.9 2-2V5c0-1.1-.9-2-2-2zM9 17H7v-7h2v7zm4 0h-2V7h2v10zm4 0h-2v-4h2v4z\"/>\n",
              "    </g>\n",
              "</svg>\n",
              "  </button>\n",
              "\n",
              "<style>\n",
              "  .colab-df-quickchart {\n",
              "      --bg-color: #E8F0FE;\n",
              "      --fill-color: #1967D2;\n",
              "      --hover-bg-color: #E2EBFA;\n",
              "      --hover-fill-color: #174EA6;\n",
              "      --disabled-fill-color: #AAA;\n",
              "      --disabled-bg-color: #DDD;\n",
              "  }\n",
              "\n",
              "  [theme=dark] .colab-df-quickchart {\n",
              "      --bg-color: #3B4455;\n",
              "      --fill-color: #D2E3FC;\n",
              "      --hover-bg-color: #434B5C;\n",
              "      --hover-fill-color: #FFFFFF;\n",
              "      --disabled-bg-color: #3B4455;\n",
              "      --disabled-fill-color: #666;\n",
              "  }\n",
              "\n",
              "  .colab-df-quickchart {\n",
              "    background-color: var(--bg-color);\n",
              "    border: none;\n",
              "    border-radius: 50%;\n",
              "    cursor: pointer;\n",
              "    display: none;\n",
              "    fill: var(--fill-color);\n",
              "    height: 32px;\n",
              "    padding: 0;\n",
              "    width: 32px;\n",
              "  }\n",
              "\n",
              "  .colab-df-quickchart:hover {\n",
              "    background-color: var(--hover-bg-color);\n",
              "    box-shadow: 0 1px 2px rgba(60, 64, 67, 0.3), 0 1px 3px 1px rgba(60, 64, 67, 0.15);\n",
              "    fill: var(--button-hover-fill-color);\n",
              "  }\n",
              "\n",
              "  .colab-df-quickchart-complete:disabled,\n",
              "  .colab-df-quickchart-complete:disabled:hover {\n",
              "    background-color: var(--disabled-bg-color);\n",
              "    fill: var(--disabled-fill-color);\n",
              "    box-shadow: none;\n",
              "  }\n",
              "\n",
              "  .colab-df-spinner {\n",
              "    border: 2px solid var(--fill-color);\n",
              "    border-color: transparent;\n",
              "    border-bottom-color: var(--fill-color);\n",
              "    animation:\n",
              "      spin 1s steps(1) infinite;\n",
              "  }\n",
              "\n",
              "  @keyframes spin {\n",
              "    0% {\n",
              "      border-color: transparent;\n",
              "      border-bottom-color: var(--fill-color);\n",
              "      border-left-color: var(--fill-color);\n",
              "    }\n",
              "    20% {\n",
              "      border-color: transparent;\n",
              "      border-left-color: var(--fill-color);\n",
              "      border-top-color: var(--fill-color);\n",
              "    }\n",
              "    30% {\n",
              "      border-color: transparent;\n",
              "      border-left-color: var(--fill-color);\n",
              "      border-top-color: var(--fill-color);\n",
              "      border-right-color: var(--fill-color);\n",
              "    }\n",
              "    40% {\n",
              "      border-color: transparent;\n",
              "      border-right-color: var(--fill-color);\n",
              "      border-top-color: var(--fill-color);\n",
              "    }\n",
              "    60% {\n",
              "      border-color: transparent;\n",
              "      border-right-color: var(--fill-color);\n",
              "    }\n",
              "    80% {\n",
              "      border-color: transparent;\n",
              "      border-right-color: var(--fill-color);\n",
              "      border-bottom-color: var(--fill-color);\n",
              "    }\n",
              "    90% {\n",
              "      border-color: transparent;\n",
              "      border-bottom-color: var(--fill-color);\n",
              "    }\n",
              "  }\n",
              "</style>\n",
              "\n",
              "  <script>\n",
              "    async function quickchart(key) {\n",
              "      const quickchartButtonEl =\n",
              "        document.querySelector('#' + key + ' button');\n",
              "      quickchartButtonEl.disabled = true;  // To prevent multiple clicks.\n",
              "      quickchartButtonEl.classList.add('colab-df-spinner');\n",
              "      try {\n",
              "        const charts = await google.colab.kernel.invokeFunction(\n",
              "            'suggestCharts', [key], {});\n",
              "      } catch (error) {\n",
              "        console.error('Error during call to suggestCharts:', error);\n",
              "      }\n",
              "      quickchartButtonEl.classList.remove('colab-df-spinner');\n",
              "      quickchartButtonEl.classList.add('colab-df-quickchart-complete');\n",
              "    }\n",
              "    (() => {\n",
              "      let quickchartButtonEl =\n",
              "        document.querySelector('#df-4f233b3b-19e6-4c4a-84e2-72ae2dbd50f2 button');\n",
              "      quickchartButtonEl.style.display =\n",
              "        google.colab.kernel.accessAllowed ? 'block' : 'none';\n",
              "    })();\n",
              "  </script>\n",
              "</div>\n",
              "\n",
              "    </div>\n",
              "  </div>\n"
            ],
            "application/vnd.google.colaboratory.intrinsic+json": {
              "type": "dataframe",
              "variable_name": "data",
              "summary": "{\n  \"name\": \"data\",\n  \"rows\": 2149,\n  \"fields\": [\n    {\n      \"column\": \"Age\",\n      \"properties\": {\n        \"dtype\": \"number\",\n        \"std\": 8,\n        \"min\": 60,\n        \"max\": 90,\n        \"num_unique_values\": 31,\n        \"samples\": [\n          61,\n          77,\n          60\n        ],\n        \"semantic_type\": \"\",\n        \"description\": \"\"\n      }\n    },\n    {\n      \"column\": \"Diagnosis\",\n      \"properties\": {\n        \"dtype\": \"number\",\n        \"std\": 0,\n        \"min\": 0,\n        \"max\": 1,\n        \"num_unique_values\": 2,\n        \"samples\": [\n          1,\n          0\n        ],\n        \"semantic_type\": \"\",\n        \"description\": \"\"\n      }\n    }\n  ]\n}"
            }
          },
          "metadata": {},
          "execution_count": 61
        }
      ],
      "source": [
        "data = new.copy()\n",
        "data = data.loc[:, df.columns.intersection(['Age','Diagnosis'])]\n",
        "data.head()"
      ]
    },
    {
      "cell_type": "markdown",
      "id": "0aa21927-0fd3-42aa-83ca-aa01d8a857f2",
      "metadata": {
        "id": "0aa21927-0fd3-42aa-83ca-aa01d8a857f2"
      },
      "source": [
        "Checking Skewness"
      ]
    },
    {
      "cell_type": "code",
      "execution_count": null,
      "id": "859f5239-bd93-4980-a0bd-8c12c007c074",
      "metadata": {
        "id": "859f5239-bd93-4980-a0bd-8c12c007c074",
        "outputId": "08565ebd-11b8-4aca-89eb-89c4ce58b326",
        "colab": {
          "base_uri": "https://localhost:8080/"
        }
      },
      "outputs": [
        {
          "output_type": "execute_result",
          "data": {
            "text/plain": [
              "0.04596434063152629"
            ]
          },
          "metadata": {},
          "execution_count": 11
        }
      ],
      "source": [
        "data['Age'].skew()"
      ]
    },
    {
      "cell_type": "markdown",
      "id": "06af5992-24cc-45e1-a1f7-d197c1a0f41a",
      "metadata": {
        "id": "06af5992-24cc-45e1-a1f7-d197c1a0f41a"
      },
      "source": [
        "Checking if data is normally distributed"
      ]
    },
    {
      "cell_type": "markdown",
      "source": [
        "T-Test"
      ],
      "metadata": {
        "id": "Ec8Q5fD0j-iE"
      },
      "id": "Ec8Q5fD0j-iE"
    },
    {
      "cell_type": "code",
      "source": [
        "diagnosed = data[data['Diagnosis'] == 1]\n",
        "notdiagnosed = data[data['Diagnosis'] == 0]\n",
        "\n",
        "t_stat, p_value = stats.ttest_ind(diagnosed['Age'], notdiagnosed['Age'])\n",
        "\n",
        "if p_value < 0.05:\n",
        "    print(f\"There is significant difference in age regardless of Alzheimer's (p-value = {p_value})\")\n",
        "else:\n",
        "    print(f\"There is no significant difference in age regardless of Alzheimer's (p-value = {p_value})\")\n",
        "print(f\"Diagnosed: Proportion with Alzheimer's disease = {diagnosed['Age'].mean()}, n = {len(diagnosed)}\")\n",
        "print(f\"Not Diagnosed: Proportion with Alzheimer's disease = {notdiagnosed['Age'].mean()}, n = {len(notdiagnosed)}\")"
      ],
      "metadata": {
        "colab": {
          "base_uri": "https://localhost:8080/"
        },
        "id": "JLcNhiNykAK7",
        "outputId": "94dfbf13-2876-4222-ec2a-22fe0430271e"
      },
      "id": "JLcNhiNykAK7",
      "execution_count": null,
      "outputs": [
        {
          "output_type": "stream",
          "name": "stdout",
          "text": [
            "There is no significant difference in age regardless of Alzheimer's (p-value = 0.799279022412382)\n",
            "Diagnosed: Proportion with Alzheimer's disease = 74.84210526315789, n = 760\n",
            "Not Diagnosed: Proportion with Alzheimer's disease = 74.94528437724982, n = 1389\n"
          ]
        }
      ]
    },
    {
      "cell_type": "markdown",
      "source": [
        "Z-Test"
      ],
      "metadata": {
        "id": "_5fe-b0aiyoC"
      },
      "id": "_5fe-b0aiyoC"
    },
    {
      "cell_type": "code",
      "source": [
        "diagnosed = data[data['Diagnosis'] == 1]\n",
        "notdiagnosed = data[data['Diagnosis'] == 0]\n",
        "\n",
        "z_stat, p_value = ztest(diagnosed['Age'], notdiagnosed['Age'])\n",
        "\n",
        "if p_value < 0.05:\n",
        "    print(f\"There is significant difference in age regardless of Alzheimer's (p-value = {p_value})\")\n",
        "else:\n",
        "    print(f\"There is no significant difference in age regardless of Alzheimer's (p-value = {p_value})\")\n",
        "print(f\"Diagnosed: Proportion with Alzheimer's disease = {diagnosed['Age'].mean()}, n = {len(diagnosed)}\")\n",
        "print(f\"Not Diagnosed: Proportion with Alzheimer's disease = {notdiagnosed['Age'].mean()}, n = {len(notdiagnosed)}\")"
      ],
      "metadata": {
        "colab": {
          "base_uri": "https://localhost:8080/"
        },
        "id": "hdyyZdbdi0pd",
        "outputId": "c394cdf6-e45c-4391-dc93-6fb018e409d0"
      },
      "id": "hdyyZdbdi0pd",
      "execution_count": null,
      "outputs": [
        {
          "output_type": "stream",
          "name": "stdout",
          "text": [
            "There is no significant difference in age regardless of Alzheimer's (p-value = 0.7992546689347748)\n",
            "Diagnosed: Proportion with Alzheimer's disease = 74.84210526315789, n = 760\n",
            "Not Diagnosed: Proportion with Alzheimer's disease = 74.94528437724982, n = 1389\n"
          ]
        }
      ]
    },
    {
      "cell_type": "markdown",
      "id": "af7539f6-3a37-4eb0-a60a-cb29d0ed5691",
      "metadata": {
        "id": "af7539f6-3a37-4eb0-a60a-cb29d0ed5691"
      },
      "source": [
        "Non parametric test"
      ]
    },
    {
      "cell_type": "code",
      "execution_count": null,
      "id": "d40b6915-df79-4e8e-9a4b-e04234907e62",
      "metadata": {
        "id": "d40b6915-df79-4e8e-9a4b-e04234907e62",
        "outputId": "fb0ab7a9-a5cd-427f-f820-56a74b44bb7c",
        "colab": {
          "base_uri": "https://localhost:8080/"
        }
      },
      "outputs": [
        {
          "output_type": "stream",
          "name": "stdout",
          "text": [
            "There is no significant difference in age regardless of Alzheimer's (p-value = 0.7905593814888701)\n",
            "Diagnosed: Proportion with Alzheimer's disease = 74.84210526315789, n = 760\n",
            "Not Diagnosed: Proportion with Alzheimer's disease = 74.94528437724982, n = 1389\n"
          ]
        }
      ],
      "source": [
        "diagnosed = data[data['Diagnosis'] == 1]['Age']\n",
        "notdiagnosed = data[data['Diagnosis'] == 0]['Age']\n",
        "\n",
        "statistic, p_value = stats.mannwhitneyu(diagnosed, notdiagnosed, alternative='two-sided')\n",
        "\n",
        "if p_value < 0.05:\n",
        "    print(f\"There is significant difference in age regardless of Alzheimer's (p-value = {p_value})\")\n",
        "else:\n",
        "    print(f\"There is no significant difference in age regardless of Alzheimer's (p-value = {p_value})\")\n",
        "print(f\"Diagnosed: Proportion with Alzheimer's disease = {diagnosed.mean()}, n = {len(diagnosed)}\")\n",
        "print(f\"Not Diagnosed: Proportion with Alzheimer's disease = {notdiagnosed.mean()}, n = {len(notdiagnosed)}\")"
      ]
    },
    {
      "cell_type": "markdown",
      "id": "70f42600-9049-4389-9378-ee496c55e271",
      "metadata": {
        "id": "70f42600-9049-4389-9378-ee496c55e271"
      },
      "source": [
        "After performing three tests, we arrive at the same conclusion always, that is there is no significant difference in the age of patients regardless of Alzheimer's diagnosis"
      ]
    },
    {
      "cell_type": "markdown",
      "source": [
        "# Hypothesis 2:"
      ],
      "metadata": {
        "id": "qnRshTQ7SGV9"
      },
      "id": "qnRshTQ7SGV9"
    },
    {
      "cell_type": "markdown",
      "source": [
        "Do people drink just as much regardless of Alzheimers?\n",
        "\n",
        "H1: There is significant differnce between people who drink more based on diagnosis, H1: There is no significant difference between people who drink based on diagnosis"
      ],
      "metadata": {
        "id": "bXKa2xIVSNGK"
      },
      "id": "bXKa2xIVSNGK"
    },
    {
      "cell_type": "markdown",
      "source": [
        "Two Numerical Samples: Z test, T test"
      ],
      "metadata": {
        "id": "pxhNSHM90DEh"
      },
      "id": "pxhNSHM90DEh"
    },
    {
      "cell_type": "code",
      "source": [
        "data = new.copy()\n",
        "data = data.loc[:, df.columns.intersection(['AlcoholConsumption','Diagnosis'])]\n",
        "data.head()"
      ],
      "metadata": {
        "colab": {
          "base_uri": "https://localhost:8080/",
          "height": 206
        },
        "id": "pCvtHQoFSMpR",
        "outputId": "f37f7029-89c8-4ce8-b98f-721f015a6388"
      },
      "id": "pCvtHQoFSMpR",
      "execution_count": null,
      "outputs": [
        {
          "output_type": "execute_result",
          "data": {
            "text/plain": [
              "   AlcoholConsumption  Diagnosis\n",
              "0           13.297218          0\n",
              "1            4.542524          0\n",
              "2           19.555085          0\n",
              "3           12.209266          0\n",
              "4           18.454356          0"
            ],
            "text/html": [
              "\n",
              "  <div id=\"df-dbda8714-a66b-4741-ab34-c67d905ab596\" class=\"colab-df-container\">\n",
              "    <div>\n",
              "<style scoped>\n",
              "    .dataframe tbody tr th:only-of-type {\n",
              "        vertical-align: middle;\n",
              "    }\n",
              "\n",
              "    .dataframe tbody tr th {\n",
              "        vertical-align: top;\n",
              "    }\n",
              "\n",
              "    .dataframe thead th {\n",
              "        text-align: right;\n",
              "    }\n",
              "</style>\n",
              "<table border=\"1\" class=\"dataframe\">\n",
              "  <thead>\n",
              "    <tr style=\"text-align: right;\">\n",
              "      <th></th>\n",
              "      <th>AlcoholConsumption</th>\n",
              "      <th>Diagnosis</th>\n",
              "    </tr>\n",
              "  </thead>\n",
              "  <tbody>\n",
              "    <tr>\n",
              "      <th>0</th>\n",
              "      <td>13.297218</td>\n",
              "      <td>0</td>\n",
              "    </tr>\n",
              "    <tr>\n",
              "      <th>1</th>\n",
              "      <td>4.542524</td>\n",
              "      <td>0</td>\n",
              "    </tr>\n",
              "    <tr>\n",
              "      <th>2</th>\n",
              "      <td>19.555085</td>\n",
              "      <td>0</td>\n",
              "    </tr>\n",
              "    <tr>\n",
              "      <th>3</th>\n",
              "      <td>12.209266</td>\n",
              "      <td>0</td>\n",
              "    </tr>\n",
              "    <tr>\n",
              "      <th>4</th>\n",
              "      <td>18.454356</td>\n",
              "      <td>0</td>\n",
              "    </tr>\n",
              "  </tbody>\n",
              "</table>\n",
              "</div>\n",
              "    <div class=\"colab-df-buttons\">\n",
              "\n",
              "  <div class=\"colab-df-container\">\n",
              "    <button class=\"colab-df-convert\" onclick=\"convertToInteractive('df-dbda8714-a66b-4741-ab34-c67d905ab596')\"\n",
              "            title=\"Convert this dataframe to an interactive table.\"\n",
              "            style=\"display:none;\">\n",
              "\n",
              "  <svg xmlns=\"http://www.w3.org/2000/svg\" height=\"24px\" viewBox=\"0 -960 960 960\">\n",
              "    <path d=\"M120-120v-720h720v720H120Zm60-500h600v-160H180v160Zm220 220h160v-160H400v160Zm0 220h160v-160H400v160ZM180-400h160v-160H180v160Zm440 0h160v-160H620v160ZM180-180h160v-160H180v160Zm440 0h160v-160H620v160Z\"/>\n",
              "  </svg>\n",
              "    </button>\n",
              "\n",
              "  <style>\n",
              "    .colab-df-container {\n",
              "      display:flex;\n",
              "      gap: 12px;\n",
              "    }\n",
              "\n",
              "    .colab-df-convert {\n",
              "      background-color: #E8F0FE;\n",
              "      border: none;\n",
              "      border-radius: 50%;\n",
              "      cursor: pointer;\n",
              "      display: none;\n",
              "      fill: #1967D2;\n",
              "      height: 32px;\n",
              "      padding: 0 0 0 0;\n",
              "      width: 32px;\n",
              "    }\n",
              "\n",
              "    .colab-df-convert:hover {\n",
              "      background-color: #E2EBFA;\n",
              "      box-shadow: 0px 1px 2px rgba(60, 64, 67, 0.3), 0px 1px 3px 1px rgba(60, 64, 67, 0.15);\n",
              "      fill: #174EA6;\n",
              "    }\n",
              "\n",
              "    .colab-df-buttons div {\n",
              "      margin-bottom: 4px;\n",
              "    }\n",
              "\n",
              "    [theme=dark] .colab-df-convert {\n",
              "      background-color: #3B4455;\n",
              "      fill: #D2E3FC;\n",
              "    }\n",
              "\n",
              "    [theme=dark] .colab-df-convert:hover {\n",
              "      background-color: #434B5C;\n",
              "      box-shadow: 0px 1px 3px 1px rgba(0, 0, 0, 0.15);\n",
              "      filter: drop-shadow(0px 1px 2px rgba(0, 0, 0, 0.3));\n",
              "      fill: #FFFFFF;\n",
              "    }\n",
              "  </style>\n",
              "\n",
              "    <script>\n",
              "      const buttonEl =\n",
              "        document.querySelector('#df-dbda8714-a66b-4741-ab34-c67d905ab596 button.colab-df-convert');\n",
              "      buttonEl.style.display =\n",
              "        google.colab.kernel.accessAllowed ? 'block' : 'none';\n",
              "\n",
              "      async function convertToInteractive(key) {\n",
              "        const element = document.querySelector('#df-dbda8714-a66b-4741-ab34-c67d905ab596');\n",
              "        const dataTable =\n",
              "          await google.colab.kernel.invokeFunction('convertToInteractive',\n",
              "                                                    [key], {});\n",
              "        if (!dataTable) return;\n",
              "\n",
              "        const docLinkHtml = 'Like what you see? Visit the ' +\n",
              "          '<a target=\"_blank\" href=https://colab.research.google.com/notebooks/data_table.ipynb>data table notebook</a>'\n",
              "          + ' to learn more about interactive tables.';\n",
              "        element.innerHTML = '';\n",
              "        dataTable['output_type'] = 'display_data';\n",
              "        await google.colab.output.renderOutput(dataTable, element);\n",
              "        const docLink = document.createElement('div');\n",
              "        docLink.innerHTML = docLinkHtml;\n",
              "        element.appendChild(docLink);\n",
              "      }\n",
              "    </script>\n",
              "  </div>\n",
              "\n",
              "\n",
              "<div id=\"df-15e32a18-6b56-4446-a6d2-476162a6e9a4\">\n",
              "  <button class=\"colab-df-quickchart\" onclick=\"quickchart('df-15e32a18-6b56-4446-a6d2-476162a6e9a4')\"\n",
              "            title=\"Suggest charts\"\n",
              "            style=\"display:none;\">\n",
              "\n",
              "<svg xmlns=\"http://www.w3.org/2000/svg\" height=\"24px\"viewBox=\"0 0 24 24\"\n",
              "     width=\"24px\">\n",
              "    <g>\n",
              "        <path d=\"M19 3H5c-1.1 0-2 .9-2 2v14c0 1.1.9 2 2 2h14c1.1 0 2-.9 2-2V5c0-1.1-.9-2-2-2zM9 17H7v-7h2v7zm4 0h-2V7h2v10zm4 0h-2v-4h2v4z\"/>\n",
              "    </g>\n",
              "</svg>\n",
              "  </button>\n",
              "\n",
              "<style>\n",
              "  .colab-df-quickchart {\n",
              "      --bg-color: #E8F0FE;\n",
              "      --fill-color: #1967D2;\n",
              "      --hover-bg-color: #E2EBFA;\n",
              "      --hover-fill-color: #174EA6;\n",
              "      --disabled-fill-color: #AAA;\n",
              "      --disabled-bg-color: #DDD;\n",
              "  }\n",
              "\n",
              "  [theme=dark] .colab-df-quickchart {\n",
              "      --bg-color: #3B4455;\n",
              "      --fill-color: #D2E3FC;\n",
              "      --hover-bg-color: #434B5C;\n",
              "      --hover-fill-color: #FFFFFF;\n",
              "      --disabled-bg-color: #3B4455;\n",
              "      --disabled-fill-color: #666;\n",
              "  }\n",
              "\n",
              "  .colab-df-quickchart {\n",
              "    background-color: var(--bg-color);\n",
              "    border: none;\n",
              "    border-radius: 50%;\n",
              "    cursor: pointer;\n",
              "    display: none;\n",
              "    fill: var(--fill-color);\n",
              "    height: 32px;\n",
              "    padding: 0;\n",
              "    width: 32px;\n",
              "  }\n",
              "\n",
              "  .colab-df-quickchart:hover {\n",
              "    background-color: var(--hover-bg-color);\n",
              "    box-shadow: 0 1px 2px rgba(60, 64, 67, 0.3), 0 1px 3px 1px rgba(60, 64, 67, 0.15);\n",
              "    fill: var(--button-hover-fill-color);\n",
              "  }\n",
              "\n",
              "  .colab-df-quickchart-complete:disabled,\n",
              "  .colab-df-quickchart-complete:disabled:hover {\n",
              "    background-color: var(--disabled-bg-color);\n",
              "    fill: var(--disabled-fill-color);\n",
              "    box-shadow: none;\n",
              "  }\n",
              "\n",
              "  .colab-df-spinner {\n",
              "    border: 2px solid var(--fill-color);\n",
              "    border-color: transparent;\n",
              "    border-bottom-color: var(--fill-color);\n",
              "    animation:\n",
              "      spin 1s steps(1) infinite;\n",
              "  }\n",
              "\n",
              "  @keyframes spin {\n",
              "    0% {\n",
              "      border-color: transparent;\n",
              "      border-bottom-color: var(--fill-color);\n",
              "      border-left-color: var(--fill-color);\n",
              "    }\n",
              "    20% {\n",
              "      border-color: transparent;\n",
              "      border-left-color: var(--fill-color);\n",
              "      border-top-color: var(--fill-color);\n",
              "    }\n",
              "    30% {\n",
              "      border-color: transparent;\n",
              "      border-left-color: var(--fill-color);\n",
              "      border-top-color: var(--fill-color);\n",
              "      border-right-color: var(--fill-color);\n",
              "    }\n",
              "    40% {\n",
              "      border-color: transparent;\n",
              "      border-right-color: var(--fill-color);\n",
              "      border-top-color: var(--fill-color);\n",
              "    }\n",
              "    60% {\n",
              "      border-color: transparent;\n",
              "      border-right-color: var(--fill-color);\n",
              "    }\n",
              "    80% {\n",
              "      border-color: transparent;\n",
              "      border-right-color: var(--fill-color);\n",
              "      border-bottom-color: var(--fill-color);\n",
              "    }\n",
              "    90% {\n",
              "      border-color: transparent;\n",
              "      border-bottom-color: var(--fill-color);\n",
              "    }\n",
              "  }\n",
              "</style>\n",
              "\n",
              "  <script>\n",
              "    async function quickchart(key) {\n",
              "      const quickchartButtonEl =\n",
              "        document.querySelector('#' + key + ' button');\n",
              "      quickchartButtonEl.disabled = true;  // To prevent multiple clicks.\n",
              "      quickchartButtonEl.classList.add('colab-df-spinner');\n",
              "      try {\n",
              "        const charts = await google.colab.kernel.invokeFunction(\n",
              "            'suggestCharts', [key], {});\n",
              "      } catch (error) {\n",
              "        console.error('Error during call to suggestCharts:', error);\n",
              "      }\n",
              "      quickchartButtonEl.classList.remove('colab-df-spinner');\n",
              "      quickchartButtonEl.classList.add('colab-df-quickchart-complete');\n",
              "    }\n",
              "    (() => {\n",
              "      let quickchartButtonEl =\n",
              "        document.querySelector('#df-15e32a18-6b56-4446-a6d2-476162a6e9a4 button');\n",
              "      quickchartButtonEl.style.display =\n",
              "        google.colab.kernel.accessAllowed ? 'block' : 'none';\n",
              "    })();\n",
              "  </script>\n",
              "</div>\n",
              "\n",
              "    </div>\n",
              "  </div>\n"
            ],
            "application/vnd.google.colaboratory.intrinsic+json": {
              "type": "dataframe",
              "variable_name": "data",
              "summary": "{\n  \"name\": \"data\",\n  \"rows\": 2149,\n  \"fields\": [\n    {\n      \"column\": \"AlcoholConsumption\",\n      \"properties\": {\n        \"dtype\": \"number\",\n        \"std\": 5.757910298128651,\n        \"min\": 0.0020030991362718,\n        \"max\": 19.98929335906197,\n        \"num_unique_values\": 2149,\n        \"samples\": [\n          17.79386563482942,\n          4.848164935592663,\n          19.57759110365766\n        ],\n        \"semantic_type\": \"\",\n        \"description\": \"\"\n      }\n    },\n    {\n      \"column\": \"Diagnosis\",\n      \"properties\": {\n        \"dtype\": \"number\",\n        \"std\": 0,\n        \"min\": 0,\n        \"max\": 1,\n        \"num_unique_values\": 2,\n        \"samples\": [\n          1,\n          0\n        ],\n        \"semantic_type\": \"\",\n        \"description\": \"\"\n      }\n    }\n  ]\n}"
            }
          },
          "metadata": {},
          "execution_count": 15
        }
      ]
    },
    {
      "cell_type": "code",
      "source": [
        "alcmean = data['AlcoholConsumption'].mean()"
      ],
      "metadata": {
        "id": "kLwXtWlyS4TZ"
      },
      "id": "kLwXtWlyS4TZ",
      "execution_count": null,
      "outputs": []
    },
    {
      "cell_type": "code",
      "source": [
        "data['AlcoholConsumption'].skew()"
      ],
      "metadata": {
        "colab": {
          "base_uri": "https://localhost:8080/"
        },
        "id": "JnaSStFJTF3p",
        "outputId": "44a9bb2f-b2f0-4a44-e0c6-a7a01876b39c"
      },
      "id": "JnaSStFJTF3p",
      "execution_count": null,
      "outputs": [
        {
          "output_type": "execute_result",
          "data": {
            "text/plain": [
              "0.018414566988674438"
            ]
          },
          "metadata": {},
          "execution_count": 17
        }
      ]
    },
    {
      "cell_type": "markdown",
      "source": [
        "T-test"
      ],
      "metadata": {
        "id": "LE3gHN1zrs1L"
      },
      "id": "LE3gHN1zrs1L"
    },
    {
      "cell_type": "code",
      "source": [
        "diagnosed = data[data['Diagnosis'] == 1]\n",
        "not_diagnosed = data[data['Diagnosis'] == 0]\n",
        "\n",
        "t_stat, p_val = stats.ttest_ind(diagnosed['AlcoholConsumption'], not_diagnosed['AlcoholConsumption'])\n",
        "\n",
        "if p_value < 0.05:\n",
        "    print(f\"There is evidence Alzheimer's patients drink more (p-value = {p_value})\")\n",
        "else:\n",
        "    print(f\"There is no sufficient evidence that Alzheimer's patients drink more (p-value = {p_value})\")\n",
        "print(f\"More Drinking: Proportion with Alzheimer's disease = {diagnosed['AlcoholConsumption'].mean()}, n = {len(diagnosed)}\")\n",
        "print(f\"Less Drinking: Proportion with Alzheimer's disease = {not_diagnosed['AlcoholConsumption'].mean()}, n = {len(not_diagnosed)}\")"
      ],
      "metadata": {
        "colab": {
          "base_uri": "https://localhost:8080/"
        },
        "id": "zD_FX1CRrt7M",
        "outputId": "fd9d0d90-8cf6-41b4-8ed7-d8d08fe1e3f6"
      },
      "id": "zD_FX1CRrt7M",
      "execution_count": null,
      "outputs": [
        {
          "output_type": "stream",
          "name": "stdout",
          "text": [
            "There is no sufficient evidence that Alzheimer's patients drink more (p-value = 0.7992546689347748)\n",
            "More Drinking: Proportion with Alzheimer's disease = 9.9801563679739, n = 760\n",
            "Less Drinking: Proportion with Alzheimer's disease = 10.07188005238948, n = 1389\n"
          ]
        }
      ]
    },
    {
      "cell_type": "markdown",
      "source": [
        "Z test"
      ],
      "metadata": {
        "id": "jrZQW8ANSML6"
      },
      "id": "jrZQW8ANSML6"
    },
    {
      "cell_type": "code",
      "source": [
        "diagnosed = data[data['Diagnosis'] == 1]\n",
        "not_diagnosed = data[data['Diagnosis'] == 0]\n",
        "\n",
        "z_stat, p_value = ztest(diagnosed['AlcoholConsumption'], not_diagnosed['AlcoholConsumption'])\n",
        "\n",
        "if p_value < 0.05:\n",
        "    print(f\"There is evidence Alzheimer's patients drink more (p-value = {p_value})\")\n",
        "else:\n",
        "    print(f\"There is no sufficient evidence that Alzheimer's patients drink more (p-value = {p_value})\")\n",
        "print(f\"More Drinking: Proportion with Alzheimer's disease = {diagnosed['AlcoholConsumption'].mean()}, n = {len(diagnosed)}\")\n",
        "print(f\"Less Drinking: Proportion with Alzheimer's disease = {not_diagnosed['AlcoholConsumption'].mean()}, n = {len(not_diagnosed)}\")"
      ],
      "metadata": {
        "colab": {
          "base_uri": "https://localhost:8080/"
        },
        "id": "0bzpeDeysuyP",
        "outputId": "3c20acc9-3e44-4579-8eb7-040454d1c2f8"
      },
      "id": "0bzpeDeysuyP",
      "execution_count": null,
      "outputs": [
        {
          "output_type": "stream",
          "name": "stdout",
          "text": [
            "There is no sufficient evidence that Alzheimer's patients drink more (p-value = 0.7240926521348919)\n",
            "More Drinking: Proportion with Alzheimer's disease = 9.9801563679739, n = 760\n",
            "Less Drinking: Proportion with Alzheimer's disease = 10.07188005238948, n = 1389\n"
          ]
        }
      ]
    },
    {
      "cell_type": "markdown",
      "source": [
        "Mann-Whitney U Test"
      ],
      "metadata": {
        "id": "kyRalm547ZoK"
      },
      "id": "kyRalm547ZoK"
    },
    {
      "cell_type": "code",
      "source": [
        "diagnosed = data[data['Diagnosis'] == 1]\n",
        "not_diagnosed = data[data['Diagnosis'] == 0]\n",
        "\n",
        "statistic, p_value = stats.mannwhitneyu(diagnosed['AlcoholConsumption'], not_diagnosed['AlcoholConsumption'], alternative='two-sided')\n",
        "\n",
        "if p_value < 0.05:\n",
        "    print(f\"There is evidence Alzheimer's patients drink more (p-value = {p_value})\")\n",
        "else:\n",
        "    print(f\"There is no sufficient evidence that Alzheimer's patients drink more (p-value = {p_value})\")\n",
        "print(f\"More Drinking: Proportion with Alzheimer's disease = {diagnosed['AlcoholConsumption'].mean()}, n = {len(diagnosed)}\")\n",
        "print(f\"Less Drinking: Proportion with Alzheimer's disease = {not_diagnosed['AlcoholConsumption'].mean()}, n = {len(not_diagnosed)}\")"
      ],
      "metadata": {
        "colab": {
          "base_uri": "https://localhost:8080/"
        },
        "id": "AD35nBKW7cGC",
        "outputId": "a5f7f33d-72da-4c3c-8af9-8f34f45fe312"
      },
      "id": "AD35nBKW7cGC",
      "execution_count": null,
      "outputs": [
        {
          "output_type": "stream",
          "name": "stdout",
          "text": [
            "There is no sufficient evidence that Alzheimer's patients drink more (p-value = 0.6891866003991506)\n",
            "More Drinking: Proportion with Alzheimer's disease = 9.9801563679739, n = 760\n",
            "Less Drinking: Proportion with Alzheimer's disease = 10.07188005238948, n = 1389\n"
          ]
        }
      ]
    },
    {
      "cell_type": "markdown",
      "source": [
        "Conclusion: From these tests, we derive that the drinking habits of those with Alzheimers do not differ from other who have not been diagnosed with Alzheimers."
      ],
      "metadata": {
        "id": "iE86ueT72LND"
      },
      "id": "iE86ueT72LND"
    },
    {
      "cell_type": "markdown",
      "id": "52e0b196-1b0a-407f-b45f-694aa4639834",
      "metadata": {
        "id": "52e0b196-1b0a-407f-b45f-694aa4639834"
      },
      "source": [
        "# Hypothesis 3:"
      ]
    },
    {
      "cell_type": "markdown",
      "id": "912d5fd2-c9f1-4396-bbf0-b3f67d9d01a2",
      "metadata": {
        "id": "912d5fd2-c9f1-4396-bbf0-b3f67d9d01a2"
      },
      "source": [
        "Is one gender more prone to Alzheimers than the other?\n",
        "\n",
        "H0: Gender does not have an influence on Alzheimers, H1: Gender has an influence on Alzheimers"
      ]
    },
    {
      "cell_type": "markdown",
      "source": [
        "Two Categorical Values: Chi Sqaure Test, Z test for proportion"
      ],
      "metadata": {
        "id": "yEBAy-6zycT9"
      },
      "id": "yEBAy-6zycT9"
    },
    {
      "cell_type": "code",
      "execution_count": null,
      "id": "e4400e33-6f3e-4264-b07d-da84cd089e18",
      "metadata": {
        "id": "e4400e33-6f3e-4264-b07d-da84cd089e18",
        "outputId": "97a4e93f-6fde-4a4b-c2e4-d1363ce1176d",
        "colab": {
          "base_uri": "https://localhost:8080/",
          "height": 206
        }
      },
      "outputs": [
        {
          "output_type": "execute_result",
          "data": {
            "text/plain": [
              "   Gender  Diagnosis\n",
              "0       0          0\n",
              "1       0          0\n",
              "2       0          0\n",
              "3       1          0\n",
              "4       0          0"
            ],
            "text/html": [
              "\n",
              "  <div id=\"df-d25b996d-ad51-4e93-a0f3-5462a913fecd\" class=\"colab-df-container\">\n",
              "    <div>\n",
              "<style scoped>\n",
              "    .dataframe tbody tr th:only-of-type {\n",
              "        vertical-align: middle;\n",
              "    }\n",
              "\n",
              "    .dataframe tbody tr th {\n",
              "        vertical-align: top;\n",
              "    }\n",
              "\n",
              "    .dataframe thead th {\n",
              "        text-align: right;\n",
              "    }\n",
              "</style>\n",
              "<table border=\"1\" class=\"dataframe\">\n",
              "  <thead>\n",
              "    <tr style=\"text-align: right;\">\n",
              "      <th></th>\n",
              "      <th>Gender</th>\n",
              "      <th>Diagnosis</th>\n",
              "    </tr>\n",
              "  </thead>\n",
              "  <tbody>\n",
              "    <tr>\n",
              "      <th>0</th>\n",
              "      <td>0</td>\n",
              "      <td>0</td>\n",
              "    </tr>\n",
              "    <tr>\n",
              "      <th>1</th>\n",
              "      <td>0</td>\n",
              "      <td>0</td>\n",
              "    </tr>\n",
              "    <tr>\n",
              "      <th>2</th>\n",
              "      <td>0</td>\n",
              "      <td>0</td>\n",
              "    </tr>\n",
              "    <tr>\n",
              "      <th>3</th>\n",
              "      <td>1</td>\n",
              "      <td>0</td>\n",
              "    </tr>\n",
              "    <tr>\n",
              "      <th>4</th>\n",
              "      <td>0</td>\n",
              "      <td>0</td>\n",
              "    </tr>\n",
              "  </tbody>\n",
              "</table>\n",
              "</div>\n",
              "    <div class=\"colab-df-buttons\">\n",
              "\n",
              "  <div class=\"colab-df-container\">\n",
              "    <button class=\"colab-df-convert\" onclick=\"convertToInteractive('df-d25b996d-ad51-4e93-a0f3-5462a913fecd')\"\n",
              "            title=\"Convert this dataframe to an interactive table.\"\n",
              "            style=\"display:none;\">\n",
              "\n",
              "  <svg xmlns=\"http://www.w3.org/2000/svg\" height=\"24px\" viewBox=\"0 -960 960 960\">\n",
              "    <path d=\"M120-120v-720h720v720H120Zm60-500h600v-160H180v160Zm220 220h160v-160H400v160Zm0 220h160v-160H400v160ZM180-400h160v-160H180v160Zm440 0h160v-160H620v160ZM180-180h160v-160H180v160Zm440 0h160v-160H620v160Z\"/>\n",
              "  </svg>\n",
              "    </button>\n",
              "\n",
              "  <style>\n",
              "    .colab-df-container {\n",
              "      display:flex;\n",
              "      gap: 12px;\n",
              "    }\n",
              "\n",
              "    .colab-df-convert {\n",
              "      background-color: #E8F0FE;\n",
              "      border: none;\n",
              "      border-radius: 50%;\n",
              "      cursor: pointer;\n",
              "      display: none;\n",
              "      fill: #1967D2;\n",
              "      height: 32px;\n",
              "      padding: 0 0 0 0;\n",
              "      width: 32px;\n",
              "    }\n",
              "\n",
              "    .colab-df-convert:hover {\n",
              "      background-color: #E2EBFA;\n",
              "      box-shadow: 0px 1px 2px rgba(60, 64, 67, 0.3), 0px 1px 3px 1px rgba(60, 64, 67, 0.15);\n",
              "      fill: #174EA6;\n",
              "    }\n",
              "\n",
              "    .colab-df-buttons div {\n",
              "      margin-bottom: 4px;\n",
              "    }\n",
              "\n",
              "    [theme=dark] .colab-df-convert {\n",
              "      background-color: #3B4455;\n",
              "      fill: #D2E3FC;\n",
              "    }\n",
              "\n",
              "    [theme=dark] .colab-df-convert:hover {\n",
              "      background-color: #434B5C;\n",
              "      box-shadow: 0px 1px 3px 1px rgba(0, 0, 0, 0.15);\n",
              "      filter: drop-shadow(0px 1px 2px rgba(0, 0, 0, 0.3));\n",
              "      fill: #FFFFFF;\n",
              "    }\n",
              "  </style>\n",
              "\n",
              "    <script>\n",
              "      const buttonEl =\n",
              "        document.querySelector('#df-d25b996d-ad51-4e93-a0f3-5462a913fecd button.colab-df-convert');\n",
              "      buttonEl.style.display =\n",
              "        google.colab.kernel.accessAllowed ? 'block' : 'none';\n",
              "\n",
              "      async function convertToInteractive(key) {\n",
              "        const element = document.querySelector('#df-d25b996d-ad51-4e93-a0f3-5462a913fecd');\n",
              "        const dataTable =\n",
              "          await google.colab.kernel.invokeFunction('convertToInteractive',\n",
              "                                                    [key], {});\n",
              "        if (!dataTable) return;\n",
              "\n",
              "        const docLinkHtml = 'Like what you see? Visit the ' +\n",
              "          '<a target=\"_blank\" href=https://colab.research.google.com/notebooks/data_table.ipynb>data table notebook</a>'\n",
              "          + ' to learn more about interactive tables.';\n",
              "        element.innerHTML = '';\n",
              "        dataTable['output_type'] = 'display_data';\n",
              "        await google.colab.output.renderOutput(dataTable, element);\n",
              "        const docLink = document.createElement('div');\n",
              "        docLink.innerHTML = docLinkHtml;\n",
              "        element.appendChild(docLink);\n",
              "      }\n",
              "    </script>\n",
              "  </div>\n",
              "\n",
              "\n",
              "<div id=\"df-aba5069b-4148-40b8-9311-0b51550f8391\">\n",
              "  <button class=\"colab-df-quickchart\" onclick=\"quickchart('df-aba5069b-4148-40b8-9311-0b51550f8391')\"\n",
              "            title=\"Suggest charts\"\n",
              "            style=\"display:none;\">\n",
              "\n",
              "<svg xmlns=\"http://www.w3.org/2000/svg\" height=\"24px\"viewBox=\"0 0 24 24\"\n",
              "     width=\"24px\">\n",
              "    <g>\n",
              "        <path d=\"M19 3H5c-1.1 0-2 .9-2 2v14c0 1.1.9 2 2 2h14c1.1 0 2-.9 2-2V5c0-1.1-.9-2-2-2zM9 17H7v-7h2v7zm4 0h-2V7h2v10zm4 0h-2v-4h2v4z\"/>\n",
              "    </g>\n",
              "</svg>\n",
              "  </button>\n",
              "\n",
              "<style>\n",
              "  .colab-df-quickchart {\n",
              "      --bg-color: #E8F0FE;\n",
              "      --fill-color: #1967D2;\n",
              "      --hover-bg-color: #E2EBFA;\n",
              "      --hover-fill-color: #174EA6;\n",
              "      --disabled-fill-color: #AAA;\n",
              "      --disabled-bg-color: #DDD;\n",
              "  }\n",
              "\n",
              "  [theme=dark] .colab-df-quickchart {\n",
              "      --bg-color: #3B4455;\n",
              "      --fill-color: #D2E3FC;\n",
              "      --hover-bg-color: #434B5C;\n",
              "      --hover-fill-color: #FFFFFF;\n",
              "      --disabled-bg-color: #3B4455;\n",
              "      --disabled-fill-color: #666;\n",
              "  }\n",
              "\n",
              "  .colab-df-quickchart {\n",
              "    background-color: var(--bg-color);\n",
              "    border: none;\n",
              "    border-radius: 50%;\n",
              "    cursor: pointer;\n",
              "    display: none;\n",
              "    fill: var(--fill-color);\n",
              "    height: 32px;\n",
              "    padding: 0;\n",
              "    width: 32px;\n",
              "  }\n",
              "\n",
              "  .colab-df-quickchart:hover {\n",
              "    background-color: var(--hover-bg-color);\n",
              "    box-shadow: 0 1px 2px rgba(60, 64, 67, 0.3), 0 1px 3px 1px rgba(60, 64, 67, 0.15);\n",
              "    fill: var(--button-hover-fill-color);\n",
              "  }\n",
              "\n",
              "  .colab-df-quickchart-complete:disabled,\n",
              "  .colab-df-quickchart-complete:disabled:hover {\n",
              "    background-color: var(--disabled-bg-color);\n",
              "    fill: var(--disabled-fill-color);\n",
              "    box-shadow: none;\n",
              "  }\n",
              "\n",
              "  .colab-df-spinner {\n",
              "    border: 2px solid var(--fill-color);\n",
              "    border-color: transparent;\n",
              "    border-bottom-color: var(--fill-color);\n",
              "    animation:\n",
              "      spin 1s steps(1) infinite;\n",
              "  }\n",
              "\n",
              "  @keyframes spin {\n",
              "    0% {\n",
              "      border-color: transparent;\n",
              "      border-bottom-color: var(--fill-color);\n",
              "      border-left-color: var(--fill-color);\n",
              "    }\n",
              "    20% {\n",
              "      border-color: transparent;\n",
              "      border-left-color: var(--fill-color);\n",
              "      border-top-color: var(--fill-color);\n",
              "    }\n",
              "    30% {\n",
              "      border-color: transparent;\n",
              "      border-left-color: var(--fill-color);\n",
              "      border-top-color: var(--fill-color);\n",
              "      border-right-color: var(--fill-color);\n",
              "    }\n",
              "    40% {\n",
              "      border-color: transparent;\n",
              "      border-right-color: var(--fill-color);\n",
              "      border-top-color: var(--fill-color);\n",
              "    }\n",
              "    60% {\n",
              "      border-color: transparent;\n",
              "      border-right-color: var(--fill-color);\n",
              "    }\n",
              "    80% {\n",
              "      border-color: transparent;\n",
              "      border-right-color: var(--fill-color);\n",
              "      border-bottom-color: var(--fill-color);\n",
              "    }\n",
              "    90% {\n",
              "      border-color: transparent;\n",
              "      border-bottom-color: var(--fill-color);\n",
              "    }\n",
              "  }\n",
              "</style>\n",
              "\n",
              "  <script>\n",
              "    async function quickchart(key) {\n",
              "      const quickchartButtonEl =\n",
              "        document.querySelector('#' + key + ' button');\n",
              "      quickchartButtonEl.disabled = true;  // To prevent multiple clicks.\n",
              "      quickchartButtonEl.classList.add('colab-df-spinner');\n",
              "      try {\n",
              "        const charts = await google.colab.kernel.invokeFunction(\n",
              "            'suggestCharts', [key], {});\n",
              "      } catch (error) {\n",
              "        console.error('Error during call to suggestCharts:', error);\n",
              "      }\n",
              "      quickchartButtonEl.classList.remove('colab-df-spinner');\n",
              "      quickchartButtonEl.classList.add('colab-df-quickchart-complete');\n",
              "    }\n",
              "    (() => {\n",
              "      let quickchartButtonEl =\n",
              "        document.querySelector('#df-aba5069b-4148-40b8-9311-0b51550f8391 button');\n",
              "      quickchartButtonEl.style.display =\n",
              "        google.colab.kernel.accessAllowed ? 'block' : 'none';\n",
              "    })();\n",
              "  </script>\n",
              "</div>\n",
              "\n",
              "    </div>\n",
              "  </div>\n"
            ],
            "application/vnd.google.colaboratory.intrinsic+json": {
              "type": "dataframe",
              "variable_name": "data",
              "summary": "{\n  \"name\": \"data\",\n  \"rows\": 2149,\n  \"fields\": [\n    {\n      \"column\": \"Gender\",\n      \"properties\": {\n        \"dtype\": \"number\",\n        \"std\": 0,\n        \"min\": 0,\n        \"max\": 1,\n        \"num_unique_values\": 2,\n        \"samples\": [\n          1,\n          0\n        ],\n        \"semantic_type\": \"\",\n        \"description\": \"\"\n      }\n    },\n    {\n      \"column\": \"Diagnosis\",\n      \"properties\": {\n        \"dtype\": \"number\",\n        \"std\": 0,\n        \"min\": 0,\n        \"max\": 1,\n        \"num_unique_values\": 2,\n        \"samples\": [\n          1,\n          0\n        ],\n        \"semantic_type\": \"\",\n        \"description\": \"\"\n      }\n    }\n  ]\n}"
            }
          },
          "metadata": {},
          "execution_count": 21
        }
      ],
      "source": [
        "data = new.copy()\n",
        "data = data.loc[:, df.columns.intersection(['Gender','Diagnosis'])]\n",
        "data.head()"
      ]
    },
    {
      "cell_type": "code",
      "execution_count": null,
      "id": "a7bee21d-04c9-43f7-a73e-eb2ef2541ad9",
      "metadata": {
        "id": "a7bee21d-04c9-43f7-a73e-eb2ef2541ad9",
        "outputId": "1d07d989-9734-406b-ba6e-d83f560df8ed",
        "colab": {
          "base_uri": "https://localhost:8080/"
        }
      },
      "outputs": [
        {
          "output_type": "execute_result",
          "data": {
            "text/plain": [
              "-0.025147506342251567"
            ]
          },
          "metadata": {},
          "execution_count": 22
        }
      ],
      "source": [
        "data['Gender'].skew()"
      ]
    },
    {
      "cell_type": "markdown",
      "source": [
        "Z Test for proportion"
      ],
      "metadata": {
        "id": "tM03DMwEPTye"
      },
      "id": "tM03DMwEPTye"
    },
    {
      "cell_type": "code",
      "execution_count": null,
      "id": "bde77906-1172-41de-9b3a-8ab8665c0a54",
      "metadata": {
        "id": "bde77906-1172-41de-9b3a-8ab8665c0a54",
        "outputId": "ec8d2916-c8ec-4d61-833f-2267f606d993",
        "colab": {
          "base_uri": "https://localhost:8080/"
        }
      },
      "outputs": [
        {
          "output_type": "stream",
          "name": "stdout",
          "text": [
            "There is no sufficient evidence that one gender has a higher risk of Alzheimer's (p-value = 0.33088585539179394)\n",
            "Male: Proportion with Alzheimer's disease = 0.36380772855796417, n = 1061\n",
            "Female: Proportion with Alzheimer's disease = 0.34375, n = 1088\n"
          ]
        }
      ],
      "source": [
        "male = data[data['Gender'] == 0]\n",
        "female = data[data['Gender'] == 1]\n",
        "\n",
        "count = np.array([\n",
        "    len(male[male['Diagnosis'] == 1]),\n",
        "    len(female[female['Diagnosis'] == 1])\n",
        "])\n",
        "nobs = np.array([len(male), len(female)])\n",
        "\n",
        "z_stat, p_value = proportions_ztest(count, nobs)\n",
        "\n",
        "if p_value < 0.05:\n",
        "    print(f\"There is evidence that one gender has a higher risk of Alzheimer's (p-value = {p_value})\")\n",
        "else:\n",
        "    print(f\"There is no sufficient evidence that one gender has a higher risk of Alzheimer's (p-value = {p_value})\")\n",
        "print(f\"Male: Proportion with Alzheimer's disease = {male['Diagnosis'].mean()}, n = {len(male)}\")\n",
        "print(f\"Female: Proportion with Alzheimer's disease = {female['Diagnosis'].mean()}, n = {len(female)}\")"
      ]
    },
    {
      "cell_type": "markdown",
      "id": "19604a5a-034c-45b8-8ab5-8d43f1272245",
      "metadata": {
        "id": "19604a5a-034c-45b8-8ab5-8d43f1272245"
      },
      "source": [
        "Chi Square"
      ]
    },
    {
      "cell_type": "code",
      "execution_count": null,
      "id": "b849c2ab-afd1-4848-829f-2f3fe7dc6e3d",
      "metadata": {
        "id": "b849c2ab-afd1-4848-829f-2f3fe7dc6e3d",
        "outputId": "09870980-6008-43a1-f7c8-f3d00f98f283",
        "colab": {
          "base_uri": "https://localhost:8080/"
        }
      },
      "outputs": [
        {
          "output_type": "stream",
          "name": "stdout",
          "text": [
            "There is no sufficient evidence that one gender has a higher risk of Alzheimer's (p-value = 0.35381831348465786)\n",
            "Male: Proportion with Alzheimer's disease = 0.36380772855796417, n = 1061\n",
            "Female: Proportion with Alzheimer's disease = 0.34375, n = 1088\n"
          ]
        }
      ],
      "source": [
        "contingency_table = pd.crosstab(data['Gender'], data['Diagnosis'])\n",
        "\n",
        "chi2, p_value, dof, expected = chi2_contingency(contingency_table)\n",
        "if p_value < 0.05:\n",
        "    print(f\"There is evidence that one gender has a higher risk of Alzheimer's (p-value = {p_value})\")\n",
        "else:\n",
        "    print(f\"There is no sufficient evidence that one gender has a higher risk of Alzheimer's (p-value = {p_value})\")\n",
        "print(f\"Male: Proportion with Alzheimer's disease = {male['Diagnosis'].mean()}, n = {len(male)}\")\n",
        "print(f\"Female: Proportion with Alzheimer's disease = {female['Diagnosis'].mean()}, n = {len(female)}\")"
      ]
    },
    {
      "cell_type": "markdown",
      "id": "6f0ea722-e774-4e17-8be0-d37dacb1b366",
      "metadata": {
        "id": "6f0ea722-e774-4e17-8be0-d37dacb1b366"
      },
      "source": [
        "Conclusion: In this case, Chi Square is the most reliable for us given the parameters. Hence, this test concludes there isn't sufficient information to prove that one gender is at a higher risk (proportion) for Alzheimer's than the other gender."
      ]
    },
    {
      "cell_type": "markdown",
      "id": "d4957c32-c2e1-4370-8964-5306d3ce268e",
      "metadata": {
        "id": "d4957c32-c2e1-4370-8964-5306d3ce268e"
      },
      "source": [
        "# Hypothesis 4:"
      ]
    },
    {
      "cell_type": "markdown",
      "id": "434c13c5-bc35-4475-8eea-5f4324020ec6",
      "metadata": {
        "id": "434c13c5-bc35-4475-8eea-5f4324020ec6"
      },
      "source": [
        "Do people with a family history of alzheimers at a higher risk of Alzheimers?\n",
        "\n",
        "H0: Family history of Alzheimers does not influence Alzheimers, H1: Family history of Alzheimers influences Alzheimers"
      ]
    },
    {
      "cell_type": "markdown",
      "source": [
        "Two Categorical Values: Chi Sqaure Test, Z test for proportion"
      ],
      "metadata": {
        "id": "QTDdE6--3GQp"
      },
      "id": "QTDdE6--3GQp"
    },
    {
      "cell_type": "code",
      "execution_count": null,
      "id": "0099b289-c279-424e-98db-65a9c2a9bb1e",
      "metadata": {
        "id": "0099b289-c279-424e-98db-65a9c2a9bb1e",
        "outputId": "3cfacdd7-178c-4848-fa3d-159264249ed5",
        "colab": {
          "base_uri": "https://localhost:8080/",
          "height": 206
        }
      },
      "outputs": [
        {
          "output_type": "execute_result",
          "data": {
            "text/plain": [
              "   FamilyHistoryAlzheimers  Diagnosis\n",
              "0                        0          0\n",
              "1                        0          0\n",
              "2                        1          0\n",
              "3                        0          0\n",
              "4                        0          0"
            ],
            "text/html": [
              "\n",
              "  <div id=\"df-c4201657-422a-4f23-9be7-aa57202a3e2a\" class=\"colab-df-container\">\n",
              "    <div>\n",
              "<style scoped>\n",
              "    .dataframe tbody tr th:only-of-type {\n",
              "        vertical-align: middle;\n",
              "    }\n",
              "\n",
              "    .dataframe tbody tr th {\n",
              "        vertical-align: top;\n",
              "    }\n",
              "\n",
              "    .dataframe thead th {\n",
              "        text-align: right;\n",
              "    }\n",
              "</style>\n",
              "<table border=\"1\" class=\"dataframe\">\n",
              "  <thead>\n",
              "    <tr style=\"text-align: right;\">\n",
              "      <th></th>\n",
              "      <th>FamilyHistoryAlzheimers</th>\n",
              "      <th>Diagnosis</th>\n",
              "    </tr>\n",
              "  </thead>\n",
              "  <tbody>\n",
              "    <tr>\n",
              "      <th>0</th>\n",
              "      <td>0</td>\n",
              "      <td>0</td>\n",
              "    </tr>\n",
              "    <tr>\n",
              "      <th>1</th>\n",
              "      <td>0</td>\n",
              "      <td>0</td>\n",
              "    </tr>\n",
              "    <tr>\n",
              "      <th>2</th>\n",
              "      <td>1</td>\n",
              "      <td>0</td>\n",
              "    </tr>\n",
              "    <tr>\n",
              "      <th>3</th>\n",
              "      <td>0</td>\n",
              "      <td>0</td>\n",
              "    </tr>\n",
              "    <tr>\n",
              "      <th>4</th>\n",
              "      <td>0</td>\n",
              "      <td>0</td>\n",
              "    </tr>\n",
              "  </tbody>\n",
              "</table>\n",
              "</div>\n",
              "    <div class=\"colab-df-buttons\">\n",
              "\n",
              "  <div class=\"colab-df-container\">\n",
              "    <button class=\"colab-df-convert\" onclick=\"convertToInteractive('df-c4201657-422a-4f23-9be7-aa57202a3e2a')\"\n",
              "            title=\"Convert this dataframe to an interactive table.\"\n",
              "            style=\"display:none;\">\n",
              "\n",
              "  <svg xmlns=\"http://www.w3.org/2000/svg\" height=\"24px\" viewBox=\"0 -960 960 960\">\n",
              "    <path d=\"M120-120v-720h720v720H120Zm60-500h600v-160H180v160Zm220 220h160v-160H400v160Zm0 220h160v-160H400v160ZM180-400h160v-160H180v160Zm440 0h160v-160H620v160ZM180-180h160v-160H180v160Zm440 0h160v-160H620v160Z\"/>\n",
              "  </svg>\n",
              "    </button>\n",
              "\n",
              "  <style>\n",
              "    .colab-df-container {\n",
              "      display:flex;\n",
              "      gap: 12px;\n",
              "    }\n",
              "\n",
              "    .colab-df-convert {\n",
              "      background-color: #E8F0FE;\n",
              "      border: none;\n",
              "      border-radius: 50%;\n",
              "      cursor: pointer;\n",
              "      display: none;\n",
              "      fill: #1967D2;\n",
              "      height: 32px;\n",
              "      padding: 0 0 0 0;\n",
              "      width: 32px;\n",
              "    }\n",
              "\n",
              "    .colab-df-convert:hover {\n",
              "      background-color: #E2EBFA;\n",
              "      box-shadow: 0px 1px 2px rgba(60, 64, 67, 0.3), 0px 1px 3px 1px rgba(60, 64, 67, 0.15);\n",
              "      fill: #174EA6;\n",
              "    }\n",
              "\n",
              "    .colab-df-buttons div {\n",
              "      margin-bottom: 4px;\n",
              "    }\n",
              "\n",
              "    [theme=dark] .colab-df-convert {\n",
              "      background-color: #3B4455;\n",
              "      fill: #D2E3FC;\n",
              "    }\n",
              "\n",
              "    [theme=dark] .colab-df-convert:hover {\n",
              "      background-color: #434B5C;\n",
              "      box-shadow: 0px 1px 3px 1px rgba(0, 0, 0, 0.15);\n",
              "      filter: drop-shadow(0px 1px 2px rgba(0, 0, 0, 0.3));\n",
              "      fill: #FFFFFF;\n",
              "    }\n",
              "  </style>\n",
              "\n",
              "    <script>\n",
              "      const buttonEl =\n",
              "        document.querySelector('#df-c4201657-422a-4f23-9be7-aa57202a3e2a button.colab-df-convert');\n",
              "      buttonEl.style.display =\n",
              "        google.colab.kernel.accessAllowed ? 'block' : 'none';\n",
              "\n",
              "      async function convertToInteractive(key) {\n",
              "        const element = document.querySelector('#df-c4201657-422a-4f23-9be7-aa57202a3e2a');\n",
              "        const dataTable =\n",
              "          await google.colab.kernel.invokeFunction('convertToInteractive',\n",
              "                                                    [key], {});\n",
              "        if (!dataTable) return;\n",
              "\n",
              "        const docLinkHtml = 'Like what you see? Visit the ' +\n",
              "          '<a target=\"_blank\" href=https://colab.research.google.com/notebooks/data_table.ipynb>data table notebook</a>'\n",
              "          + ' to learn more about interactive tables.';\n",
              "        element.innerHTML = '';\n",
              "        dataTable['output_type'] = 'display_data';\n",
              "        await google.colab.output.renderOutput(dataTable, element);\n",
              "        const docLink = document.createElement('div');\n",
              "        docLink.innerHTML = docLinkHtml;\n",
              "        element.appendChild(docLink);\n",
              "      }\n",
              "    </script>\n",
              "  </div>\n",
              "\n",
              "\n",
              "<div id=\"df-4dc8fa40-8421-41a6-acf5-56786ef99010\">\n",
              "  <button class=\"colab-df-quickchart\" onclick=\"quickchart('df-4dc8fa40-8421-41a6-acf5-56786ef99010')\"\n",
              "            title=\"Suggest charts\"\n",
              "            style=\"display:none;\">\n",
              "\n",
              "<svg xmlns=\"http://www.w3.org/2000/svg\" height=\"24px\"viewBox=\"0 0 24 24\"\n",
              "     width=\"24px\">\n",
              "    <g>\n",
              "        <path d=\"M19 3H5c-1.1 0-2 .9-2 2v14c0 1.1.9 2 2 2h14c1.1 0 2-.9 2-2V5c0-1.1-.9-2-2-2zM9 17H7v-7h2v7zm4 0h-2V7h2v10zm4 0h-2v-4h2v4z\"/>\n",
              "    </g>\n",
              "</svg>\n",
              "  </button>\n",
              "\n",
              "<style>\n",
              "  .colab-df-quickchart {\n",
              "      --bg-color: #E8F0FE;\n",
              "      --fill-color: #1967D2;\n",
              "      --hover-bg-color: #E2EBFA;\n",
              "      --hover-fill-color: #174EA6;\n",
              "      --disabled-fill-color: #AAA;\n",
              "      --disabled-bg-color: #DDD;\n",
              "  }\n",
              "\n",
              "  [theme=dark] .colab-df-quickchart {\n",
              "      --bg-color: #3B4455;\n",
              "      --fill-color: #D2E3FC;\n",
              "      --hover-bg-color: #434B5C;\n",
              "      --hover-fill-color: #FFFFFF;\n",
              "      --disabled-bg-color: #3B4455;\n",
              "      --disabled-fill-color: #666;\n",
              "  }\n",
              "\n",
              "  .colab-df-quickchart {\n",
              "    background-color: var(--bg-color);\n",
              "    border: none;\n",
              "    border-radius: 50%;\n",
              "    cursor: pointer;\n",
              "    display: none;\n",
              "    fill: var(--fill-color);\n",
              "    height: 32px;\n",
              "    padding: 0;\n",
              "    width: 32px;\n",
              "  }\n",
              "\n",
              "  .colab-df-quickchart:hover {\n",
              "    background-color: var(--hover-bg-color);\n",
              "    box-shadow: 0 1px 2px rgba(60, 64, 67, 0.3), 0 1px 3px 1px rgba(60, 64, 67, 0.15);\n",
              "    fill: var(--button-hover-fill-color);\n",
              "  }\n",
              "\n",
              "  .colab-df-quickchart-complete:disabled,\n",
              "  .colab-df-quickchart-complete:disabled:hover {\n",
              "    background-color: var(--disabled-bg-color);\n",
              "    fill: var(--disabled-fill-color);\n",
              "    box-shadow: none;\n",
              "  }\n",
              "\n",
              "  .colab-df-spinner {\n",
              "    border: 2px solid var(--fill-color);\n",
              "    border-color: transparent;\n",
              "    border-bottom-color: var(--fill-color);\n",
              "    animation:\n",
              "      spin 1s steps(1) infinite;\n",
              "  }\n",
              "\n",
              "  @keyframes spin {\n",
              "    0% {\n",
              "      border-color: transparent;\n",
              "      border-bottom-color: var(--fill-color);\n",
              "      border-left-color: var(--fill-color);\n",
              "    }\n",
              "    20% {\n",
              "      border-color: transparent;\n",
              "      border-left-color: var(--fill-color);\n",
              "      border-top-color: var(--fill-color);\n",
              "    }\n",
              "    30% {\n",
              "      border-color: transparent;\n",
              "      border-left-color: var(--fill-color);\n",
              "      border-top-color: var(--fill-color);\n",
              "      border-right-color: var(--fill-color);\n",
              "    }\n",
              "    40% {\n",
              "      border-color: transparent;\n",
              "      border-right-color: var(--fill-color);\n",
              "      border-top-color: var(--fill-color);\n",
              "    }\n",
              "    60% {\n",
              "      border-color: transparent;\n",
              "      border-right-color: var(--fill-color);\n",
              "    }\n",
              "    80% {\n",
              "      border-color: transparent;\n",
              "      border-right-color: var(--fill-color);\n",
              "      border-bottom-color: var(--fill-color);\n",
              "    }\n",
              "    90% {\n",
              "      border-color: transparent;\n",
              "      border-bottom-color: var(--fill-color);\n",
              "    }\n",
              "  }\n",
              "</style>\n",
              "\n",
              "  <script>\n",
              "    async function quickchart(key) {\n",
              "      const quickchartButtonEl =\n",
              "        document.querySelector('#' + key + ' button');\n",
              "      quickchartButtonEl.disabled = true;  // To prevent multiple clicks.\n",
              "      quickchartButtonEl.classList.add('colab-df-spinner');\n",
              "      try {\n",
              "        const charts = await google.colab.kernel.invokeFunction(\n",
              "            'suggestCharts', [key], {});\n",
              "      } catch (error) {\n",
              "        console.error('Error during call to suggestCharts:', error);\n",
              "      }\n",
              "      quickchartButtonEl.classList.remove('colab-df-spinner');\n",
              "      quickchartButtonEl.classList.add('colab-df-quickchart-complete');\n",
              "    }\n",
              "    (() => {\n",
              "      let quickchartButtonEl =\n",
              "        document.querySelector('#df-4dc8fa40-8421-41a6-acf5-56786ef99010 button');\n",
              "      quickchartButtonEl.style.display =\n",
              "        google.colab.kernel.accessAllowed ? 'block' : 'none';\n",
              "    })();\n",
              "  </script>\n",
              "</div>\n",
              "\n",
              "    </div>\n",
              "  </div>\n"
            ],
            "application/vnd.google.colaboratory.intrinsic+json": {
              "type": "dataframe",
              "variable_name": "data",
              "summary": "{\n  \"name\": \"data\",\n  \"rows\": 2149,\n  \"fields\": [\n    {\n      \"column\": \"FamilyHistoryAlzheimers\",\n      \"properties\": {\n        \"dtype\": \"number\",\n        \"std\": 0,\n        \"min\": 0,\n        \"max\": 1,\n        \"num_unique_values\": 2,\n        \"samples\": [\n          1,\n          0\n        ],\n        \"semantic_type\": \"\",\n        \"description\": \"\"\n      }\n    },\n    {\n      \"column\": \"Diagnosis\",\n      \"properties\": {\n        \"dtype\": \"number\",\n        \"std\": 0,\n        \"min\": 0,\n        \"max\": 1,\n        \"num_unique_values\": 2,\n        \"samples\": [\n          1,\n          0\n        ],\n        \"semantic_type\": \"\",\n        \"description\": \"\"\n      }\n    }\n  ]\n}"
            }
          },
          "metadata": {},
          "execution_count": 62
        }
      ],
      "source": [
        "data = new.copy()\n",
        "data = data.loc[:, df.columns.intersection(['FamilyHistoryAlzheimers','Diagnosis'])]\n",
        "data.head()"
      ]
    },
    {
      "cell_type": "code",
      "execution_count": null,
      "id": "9fa63660-73a9-4438-a84f-48f2fdcdad70",
      "metadata": {
        "id": "9fa63660-73a9-4438-a84f-48f2fdcdad70",
        "outputId": "d23a4489-54f3-49c6-9df2-10afb815c885",
        "colab": {
          "base_uri": "https://localhost:8080/"
        }
      },
      "outputs": [
        {
          "output_type": "execute_result",
          "data": {
            "text/plain": [
              "1.1419453698287734"
            ]
          },
          "metadata": {},
          "execution_count": 27
        }
      ],
      "source": [
        "data['FamilyHistoryAlzheimers'].skew()"
      ]
    },
    {
      "cell_type": "markdown",
      "source": [
        "Z Test for Proportions"
      ],
      "metadata": {
        "id": "EBxixpIEPfbQ"
      },
      "id": "EBxixpIEPfbQ"
    },
    {
      "cell_type": "code",
      "execution_count": null,
      "id": "654f2fbf-41c8-45e3-85fd-8a7a71907012",
      "metadata": {
        "id": "654f2fbf-41c8-45e3-85fd-8a7a71907012",
        "outputId": "a357d206-2e4d-4754-aabb-1a9a32d14a00",
        "colab": {
          "base_uri": "https://localhost:8080/"
        }
      },
      "outputs": [
        {
          "output_type": "stream",
          "name": "stdout",
          "text": [
            "There is no sufficient evidence that having a family history of alzheimers leads to a higher risk of Alzheimer' (p-value = 0.12722325266073925)\n",
            "With Family History of Alzheimers: Proportion with Alzheimer's disease = 0.32656826568265684, n = 542\n",
            "Without Family History of Alzheimers: Proportion with Alzheimer's disease = 0.3627878033602987, n = 1607\n"
          ]
        }
      ],
      "source": [
        "with_alz = data[data['FamilyHistoryAlzheimers'] == 1]\n",
        "without_alz = data[data['FamilyHistoryAlzheimers'] == 0]\n",
        "\n",
        "count = np.array([\n",
        "    len(with_alz[with_alz['Diagnosis'] == 1]),\n",
        "    len(without_alz[without_alz['Diagnosis'] == 1])\n",
        "])\n",
        "nobs = np.array([len(with_alz), len(without_alz)])\n",
        "\n",
        "z_stat, p_value = proportions_ztest(count, nobs)\n",
        "\n",
        "if p_value < 0.05:\n",
        "    print(f\"There is evidence that having a family history of alzheimers leads to a higher risk of Alzheimer's (p-value = {p_value})\")\n",
        "else:\n",
        "    print(f\"There is no sufficient evidence that having a family history of alzheimers leads to a higher risk of Alzheimer' (p-value = {p_value})\")\n",
        "print(f\"With Family History of Alzheimers: Proportion with Alzheimer's disease = {with_alz['Diagnosis'].mean()}, n = {len(with_alz)}\")\n",
        "print(f\"Without Family History of Alzheimers: Proportion with Alzheimer's disease = {without_alz['Diagnosis'].mean()}, n = {len(without_alz)}\")"
      ]
    },
    {
      "cell_type": "markdown",
      "id": "205d00a8-17ff-42a4-ad58-af08d8e863fe",
      "metadata": {
        "id": "205d00a8-17ff-42a4-ad58-af08d8e863fe"
      },
      "source": [
        "Chi Square"
      ]
    },
    {
      "cell_type": "code",
      "execution_count": null,
      "id": "ec66d991-ff17-4edc-8edf-c57705579b39",
      "metadata": {
        "id": "ec66d991-ff17-4edc-8edf-c57705579b39",
        "outputId": "b8aea7ff-69e1-4768-8dd9-77238a6a09da",
        "colab": {
          "base_uri": "https://localhost:8080/"
        }
      },
      "outputs": [
        {
          "output_type": "stream",
          "name": "stdout",
          "text": [
            "There is no sufficient evidence that having a family history of alzheimers leads to a higher risk of Alzheimer' (p-value = 0.14069795394928386)\n",
            "With Family History of Alzheimers: Proportion with Alzheimer's disease = 0.32656826568265684, n = 542\n",
            "Without Family History of Alzheimers: Proportion with Alzheimer's disease = 0.3627878033602987, n = 1607\n"
          ]
        }
      ],
      "source": [
        "contingency_table = pd.crosstab(data['FamilyHistoryAlzheimers'], data['Diagnosis'])\n",
        "\n",
        "chi2, p_value, dof, expected = chi2_contingency(contingency_table)\n",
        "\n",
        "if p_value < 0.05:\n",
        "    print(f\"There is evidence that having a family history of alzheimers leads to a higher risk of Alzheimer's (p-value = {p_value})\")\n",
        "else:\n",
        "    print(f\"There is no sufficient evidence that having a family history of alzheimers leads to a higher risk of Alzheimer' (p-value = {p_value})\")\n",
        "\n",
        "print(f\"With Family History of Alzheimers: Proportion with Alzheimer's disease = {with_alz['Diagnosis'].mean()}, n = {len(with_alz)}\")\n",
        "print(f\"Without Family History of Alzheimers: Proportion with Alzheimer's disease = {without_alz['Diagnosis'].mean()}, n = {len(without_alz)}\")"
      ]
    },
    {
      "cell_type": "markdown",
      "id": "117232b9-43e1-4f9d-8d5c-f3b89201e7af",
      "metadata": {
        "id": "117232b9-43e1-4f9d-8d5c-f3b89201e7af"
      },
      "source": [
        "Conclusion: In this case, Chi Square is the most reliable for us given the parameters. Hence, this test concludes there isn't sufficient information to prove that a family history of Alzheimer's leads to a higher risk of being diagnosed with Alzheimers."
      ]
    },
    {
      "cell_type": "markdown",
      "id": "398cf543-5111-4c6e-818b-fb9d97a435d1",
      "metadata": {
        "id": "398cf543-5111-4c6e-818b-fb9d97a435d1"
      },
      "source": [
        "# Hypothesis 5:"
      ]
    },
    {
      "cell_type": "markdown",
      "id": "c28ce570-a279-4f53-aba1-54a82a06e7d0",
      "metadata": {
        "id": "c28ce570-a279-4f53-aba1-54a82a06e7d0"
      },
      "source": [
        "Does smoking lead to a higher risk of alzheimers?\n",
        "\n",
        "H0: Smoking does not increase the risk of Alzheimers, H1: Smoking increases the risk of Alzheimers"
      ]
    },
    {
      "cell_type": "markdown",
      "source": [
        "Two Categorical Values: Chi Sqaure Test, Z test for proportion"
      ],
      "metadata": {
        "id": "H_BzFXkv3OKG"
      },
      "id": "H_BzFXkv3OKG"
    },
    {
      "cell_type": "code",
      "execution_count": null,
      "id": "c1ba696e-405e-432a-a62f-f7495314244b",
      "metadata": {
        "id": "c1ba696e-405e-432a-a62f-f7495314244b",
        "outputId": "bdeed826-cfca-4e27-a620-c6620c8a4c5f",
        "colab": {
          "base_uri": "https://localhost:8080/",
          "height": 206
        }
      },
      "outputs": [
        {
          "output_type": "execute_result",
          "data": {
            "text/plain": [
              "   Smoking  Diagnosis\n",
              "0        0          0\n",
              "1        0          0\n",
              "2        0          0\n",
              "3        1          0\n",
              "4        0          0"
            ],
            "text/html": [
              "\n",
              "  <div id=\"df-4174184f-2d04-4c89-bf75-0b7f469bb526\" class=\"colab-df-container\">\n",
              "    <div>\n",
              "<style scoped>\n",
              "    .dataframe tbody tr th:only-of-type {\n",
              "        vertical-align: middle;\n",
              "    }\n",
              "\n",
              "    .dataframe tbody tr th {\n",
              "        vertical-align: top;\n",
              "    }\n",
              "\n",
              "    .dataframe thead th {\n",
              "        text-align: right;\n",
              "    }\n",
              "</style>\n",
              "<table border=\"1\" class=\"dataframe\">\n",
              "  <thead>\n",
              "    <tr style=\"text-align: right;\">\n",
              "      <th></th>\n",
              "      <th>Smoking</th>\n",
              "      <th>Diagnosis</th>\n",
              "    </tr>\n",
              "  </thead>\n",
              "  <tbody>\n",
              "    <tr>\n",
              "      <th>0</th>\n",
              "      <td>0</td>\n",
              "      <td>0</td>\n",
              "    </tr>\n",
              "    <tr>\n",
              "      <th>1</th>\n",
              "      <td>0</td>\n",
              "      <td>0</td>\n",
              "    </tr>\n",
              "    <tr>\n",
              "      <th>2</th>\n",
              "      <td>0</td>\n",
              "      <td>0</td>\n",
              "    </tr>\n",
              "    <tr>\n",
              "      <th>3</th>\n",
              "      <td>1</td>\n",
              "      <td>0</td>\n",
              "    </tr>\n",
              "    <tr>\n",
              "      <th>4</th>\n",
              "      <td>0</td>\n",
              "      <td>0</td>\n",
              "    </tr>\n",
              "  </tbody>\n",
              "</table>\n",
              "</div>\n",
              "    <div class=\"colab-df-buttons\">\n",
              "\n",
              "  <div class=\"colab-df-container\">\n",
              "    <button class=\"colab-df-convert\" onclick=\"convertToInteractive('df-4174184f-2d04-4c89-bf75-0b7f469bb526')\"\n",
              "            title=\"Convert this dataframe to an interactive table.\"\n",
              "            style=\"display:none;\">\n",
              "\n",
              "  <svg xmlns=\"http://www.w3.org/2000/svg\" height=\"24px\" viewBox=\"0 -960 960 960\">\n",
              "    <path d=\"M120-120v-720h720v720H120Zm60-500h600v-160H180v160Zm220 220h160v-160H400v160Zm0 220h160v-160H400v160ZM180-400h160v-160H180v160Zm440 0h160v-160H620v160ZM180-180h160v-160H180v160Zm440 0h160v-160H620v160Z\"/>\n",
              "  </svg>\n",
              "    </button>\n",
              "\n",
              "  <style>\n",
              "    .colab-df-container {\n",
              "      display:flex;\n",
              "      gap: 12px;\n",
              "    }\n",
              "\n",
              "    .colab-df-convert {\n",
              "      background-color: #E8F0FE;\n",
              "      border: none;\n",
              "      border-radius: 50%;\n",
              "      cursor: pointer;\n",
              "      display: none;\n",
              "      fill: #1967D2;\n",
              "      height: 32px;\n",
              "      padding: 0 0 0 0;\n",
              "      width: 32px;\n",
              "    }\n",
              "\n",
              "    .colab-df-convert:hover {\n",
              "      background-color: #E2EBFA;\n",
              "      box-shadow: 0px 1px 2px rgba(60, 64, 67, 0.3), 0px 1px 3px 1px rgba(60, 64, 67, 0.15);\n",
              "      fill: #174EA6;\n",
              "    }\n",
              "\n",
              "    .colab-df-buttons div {\n",
              "      margin-bottom: 4px;\n",
              "    }\n",
              "\n",
              "    [theme=dark] .colab-df-convert {\n",
              "      background-color: #3B4455;\n",
              "      fill: #D2E3FC;\n",
              "    }\n",
              "\n",
              "    [theme=dark] .colab-df-convert:hover {\n",
              "      background-color: #434B5C;\n",
              "      box-shadow: 0px 1px 3px 1px rgba(0, 0, 0, 0.15);\n",
              "      filter: drop-shadow(0px 1px 2px rgba(0, 0, 0, 0.3));\n",
              "      fill: #FFFFFF;\n",
              "    }\n",
              "  </style>\n",
              "\n",
              "    <script>\n",
              "      const buttonEl =\n",
              "        document.querySelector('#df-4174184f-2d04-4c89-bf75-0b7f469bb526 button.colab-df-convert');\n",
              "      buttonEl.style.display =\n",
              "        google.colab.kernel.accessAllowed ? 'block' : 'none';\n",
              "\n",
              "      async function convertToInteractive(key) {\n",
              "        const element = document.querySelector('#df-4174184f-2d04-4c89-bf75-0b7f469bb526');\n",
              "        const dataTable =\n",
              "          await google.colab.kernel.invokeFunction('convertToInteractive',\n",
              "                                                    [key], {});\n",
              "        if (!dataTable) return;\n",
              "\n",
              "        const docLinkHtml = 'Like what you see? Visit the ' +\n",
              "          '<a target=\"_blank\" href=https://colab.research.google.com/notebooks/data_table.ipynb>data table notebook</a>'\n",
              "          + ' to learn more about interactive tables.';\n",
              "        element.innerHTML = '';\n",
              "        dataTable['output_type'] = 'display_data';\n",
              "        await google.colab.output.renderOutput(dataTable, element);\n",
              "        const docLink = document.createElement('div');\n",
              "        docLink.innerHTML = docLinkHtml;\n",
              "        element.appendChild(docLink);\n",
              "      }\n",
              "    </script>\n",
              "  </div>\n",
              "\n",
              "\n",
              "<div id=\"df-5098b978-7f82-43b1-8fcb-e3d160dd5f24\">\n",
              "  <button class=\"colab-df-quickchart\" onclick=\"quickchart('df-5098b978-7f82-43b1-8fcb-e3d160dd5f24')\"\n",
              "            title=\"Suggest charts\"\n",
              "            style=\"display:none;\">\n",
              "\n",
              "<svg xmlns=\"http://www.w3.org/2000/svg\" height=\"24px\"viewBox=\"0 0 24 24\"\n",
              "     width=\"24px\">\n",
              "    <g>\n",
              "        <path d=\"M19 3H5c-1.1 0-2 .9-2 2v14c0 1.1.9 2 2 2h14c1.1 0 2-.9 2-2V5c0-1.1-.9-2-2-2zM9 17H7v-7h2v7zm4 0h-2V7h2v10zm4 0h-2v-4h2v4z\"/>\n",
              "    </g>\n",
              "</svg>\n",
              "  </button>\n",
              "\n",
              "<style>\n",
              "  .colab-df-quickchart {\n",
              "      --bg-color: #E8F0FE;\n",
              "      --fill-color: #1967D2;\n",
              "      --hover-bg-color: #E2EBFA;\n",
              "      --hover-fill-color: #174EA6;\n",
              "      --disabled-fill-color: #AAA;\n",
              "      --disabled-bg-color: #DDD;\n",
              "  }\n",
              "\n",
              "  [theme=dark] .colab-df-quickchart {\n",
              "      --bg-color: #3B4455;\n",
              "      --fill-color: #D2E3FC;\n",
              "      --hover-bg-color: #434B5C;\n",
              "      --hover-fill-color: #FFFFFF;\n",
              "      --disabled-bg-color: #3B4455;\n",
              "      --disabled-fill-color: #666;\n",
              "  }\n",
              "\n",
              "  .colab-df-quickchart {\n",
              "    background-color: var(--bg-color);\n",
              "    border: none;\n",
              "    border-radius: 50%;\n",
              "    cursor: pointer;\n",
              "    display: none;\n",
              "    fill: var(--fill-color);\n",
              "    height: 32px;\n",
              "    padding: 0;\n",
              "    width: 32px;\n",
              "  }\n",
              "\n",
              "  .colab-df-quickchart:hover {\n",
              "    background-color: var(--hover-bg-color);\n",
              "    box-shadow: 0 1px 2px rgba(60, 64, 67, 0.3), 0 1px 3px 1px rgba(60, 64, 67, 0.15);\n",
              "    fill: var(--button-hover-fill-color);\n",
              "  }\n",
              "\n",
              "  .colab-df-quickchart-complete:disabled,\n",
              "  .colab-df-quickchart-complete:disabled:hover {\n",
              "    background-color: var(--disabled-bg-color);\n",
              "    fill: var(--disabled-fill-color);\n",
              "    box-shadow: none;\n",
              "  }\n",
              "\n",
              "  .colab-df-spinner {\n",
              "    border: 2px solid var(--fill-color);\n",
              "    border-color: transparent;\n",
              "    border-bottom-color: var(--fill-color);\n",
              "    animation:\n",
              "      spin 1s steps(1) infinite;\n",
              "  }\n",
              "\n",
              "  @keyframes spin {\n",
              "    0% {\n",
              "      border-color: transparent;\n",
              "      border-bottom-color: var(--fill-color);\n",
              "      border-left-color: var(--fill-color);\n",
              "    }\n",
              "    20% {\n",
              "      border-color: transparent;\n",
              "      border-left-color: var(--fill-color);\n",
              "      border-top-color: var(--fill-color);\n",
              "    }\n",
              "    30% {\n",
              "      border-color: transparent;\n",
              "      border-left-color: var(--fill-color);\n",
              "      border-top-color: var(--fill-color);\n",
              "      border-right-color: var(--fill-color);\n",
              "    }\n",
              "    40% {\n",
              "      border-color: transparent;\n",
              "      border-right-color: var(--fill-color);\n",
              "      border-top-color: var(--fill-color);\n",
              "    }\n",
              "    60% {\n",
              "      border-color: transparent;\n",
              "      border-right-color: var(--fill-color);\n",
              "    }\n",
              "    80% {\n",
              "      border-color: transparent;\n",
              "      border-right-color: var(--fill-color);\n",
              "      border-bottom-color: var(--fill-color);\n",
              "    }\n",
              "    90% {\n",
              "      border-color: transparent;\n",
              "      border-bottom-color: var(--fill-color);\n",
              "    }\n",
              "  }\n",
              "</style>\n",
              "\n",
              "  <script>\n",
              "    async function quickchart(key) {\n",
              "      const quickchartButtonEl =\n",
              "        document.querySelector('#' + key + ' button');\n",
              "      quickchartButtonEl.disabled = true;  // To prevent multiple clicks.\n",
              "      quickchartButtonEl.classList.add('colab-df-spinner');\n",
              "      try {\n",
              "        const charts = await google.colab.kernel.invokeFunction(\n",
              "            'suggestCharts', [key], {});\n",
              "      } catch (error) {\n",
              "        console.error('Error during call to suggestCharts:', error);\n",
              "      }\n",
              "      quickchartButtonEl.classList.remove('colab-df-spinner');\n",
              "      quickchartButtonEl.classList.add('colab-df-quickchart-complete');\n",
              "    }\n",
              "    (() => {\n",
              "      let quickchartButtonEl =\n",
              "        document.querySelector('#df-5098b978-7f82-43b1-8fcb-e3d160dd5f24 button');\n",
              "      quickchartButtonEl.style.display =\n",
              "        google.colab.kernel.accessAllowed ? 'block' : 'none';\n",
              "    })();\n",
              "  </script>\n",
              "</div>\n",
              "\n",
              "    </div>\n",
              "  </div>\n"
            ],
            "application/vnd.google.colaboratory.intrinsic+json": {
              "type": "dataframe",
              "variable_name": "data",
              "summary": "{\n  \"name\": \"data\",\n  \"rows\": 2149,\n  \"fields\": [\n    {\n      \"column\": \"Smoking\",\n      \"properties\": {\n        \"dtype\": \"number\",\n        \"std\": 0,\n        \"min\": 0,\n        \"max\": 1,\n        \"num_unique_values\": 2,\n        \"samples\": [\n          1,\n          0\n        ],\n        \"semantic_type\": \"\",\n        \"description\": \"\"\n      }\n    },\n    {\n      \"column\": \"Diagnosis\",\n      \"properties\": {\n        \"dtype\": \"number\",\n        \"std\": 0,\n        \"min\": 0,\n        \"max\": 1,\n        \"num_unique_values\": 2,\n        \"samples\": [\n          1,\n          0\n        ],\n        \"semantic_type\": \"\",\n        \"description\": \"\"\n      }\n    }\n  ]\n}"
            }
          },
          "metadata": {},
          "execution_count": 64
        }
      ],
      "source": [
        "data = new.copy()\n",
        "data = data.loc[:, df.columns.intersection(['Smoking','Diagnosis'])]\n",
        "data.head()"
      ]
    },
    {
      "cell_type": "code",
      "execution_count": null,
      "id": "595962a3-f098-4bc0-b0c3-7092ebffa437",
      "metadata": {
        "id": "595962a3-f098-4bc0-b0c3-7092ebffa437",
        "outputId": "67fc29b1-b782-4c90-ebd6-a8282b2c8f7a",
        "colab": {
          "base_uri": "https://localhost:8080/"
        }
      },
      "outputs": [
        {
          "output_type": "execute_result",
          "data": {
            "text/plain": [
              "0.9342596611915874"
            ]
          },
          "metadata": {},
          "execution_count": 35
        }
      ],
      "source": [
        "data['Smoking'].skew()"
      ]
    },
    {
      "cell_type": "markdown",
      "source": [
        "Z Test for Proportions"
      ],
      "metadata": {
        "id": "WVfsKlbaP4_u"
      },
      "id": "WVfsKlbaP4_u"
    },
    {
      "cell_type": "code",
      "execution_count": null,
      "id": "eebb92f3-02c5-4855-b070-0ad2d0915d2e",
      "metadata": {
        "id": "eebb92f3-02c5-4855-b070-0ad2d0915d2e",
        "outputId": "a1a062c6-d8da-4ca7-b15b-7f7af57bacf8",
        "colab": {
          "base_uri": "https://localhost:8080/"
        }
      },
      "outputs": [
        {
          "output_type": "stream",
          "name": "stdout",
          "text": [
            "There is no sufficient evidence that smoking leads to a higher risk of Alzheimer' (p-value = 0.8215598288253848)\n",
            "Smoking: Proportion with Alzheimer's disease = 0.35, n = 620\n",
            "No Smoking: Proportion with Alzheimer's disease = 0.355134074558535, n = 1529\n"
          ]
        }
      ],
      "source": [
        "smoking = data[data['Smoking'] == 1]\n",
        "not_smoking = data[data['Smoking'] == 0]\n",
        "\n",
        "count = np.array([\n",
        "    len(smoking[smoking['Diagnosis'] == 1]),\n",
        "    len(not_smoking[not_smoking['Diagnosis'] == 1])\n",
        "])\n",
        "nobs = np.array([len(smoking), len(not_smoking)])\n",
        "\n",
        "z_stat, p_value = proportions_ztest(count, nobs)\n",
        "\n",
        "if p_value < 0.05:\n",
        "    print(f\"There is evidence that smoking leads to a higher risk of Alzheimer's (p-value = {p_value})\")\n",
        "else:\n",
        "    print(f\"There is no sufficient evidence that smoking leads to a higher risk of Alzheimer' (p-value = {p_value})\")\n",
        "print(f\"Smoking: Proportion with Alzheimer's disease = {smoking['Diagnosis'].mean()}, n = {len(smoking)}\")\n",
        "print(f\"No Smoking: Proportion with Alzheimer's disease = {not_smoking['Diagnosis'].mean()}, n = {len(not_smoking)}\")"
      ]
    },
    {
      "cell_type": "markdown",
      "id": "f906a016-82c0-4ef6-8a49-21f4a78367b3",
      "metadata": {
        "id": "f906a016-82c0-4ef6-8a49-21f4a78367b3"
      },
      "source": [
        "Chi Square"
      ]
    },
    {
      "cell_type": "code",
      "execution_count": null,
      "id": "73c08311-3fdd-4d38-b42f-8272af0bd61f",
      "metadata": {
        "id": "73c08311-3fdd-4d38-b42f-8272af0bd61f",
        "outputId": "a5fb5e7c-c134-4aa1-ee87-49228ea14332",
        "colab": {
          "base_uri": "https://localhost:8080/"
        }
      },
      "outputs": [
        {
          "output_type": "stream",
          "name": "stdout",
          "text": [
            "There is no sufficient evidence that smoking leads to a higher risk of Alzheimer' (p-value = 0.860493227376371)\n",
            "Smoking: Proportion with Alzheimer's disease = 0.35, n = 620\n",
            "No Smoking: Proportion with Alzheimer's disease = 0.355134074558535, n = 1529\n"
          ]
        }
      ],
      "source": [
        "contingency_table = pd.crosstab(data['Smoking'], data['Diagnosis'])\n",
        "\n",
        "chi2, p_value, dof, expected = chi2_contingency(contingency_table)\n",
        "if p_value < 0.05:\n",
        "    print(f\"There is evidence that smoking leads to a higher risk of Alzheimer's (p-value = {p_value})\")\n",
        "else:\n",
        "    print(f\"There is no sufficient evidence that smoking leads to a higher risk of Alzheimer' (p-value = {p_value})\")\n",
        "print(f\"Smoking: Proportion with Alzheimer's disease = {smoking['Diagnosis'].mean()}, n = {len(smoking)}\")\n",
        "print(f\"No Smoking: Proportion with Alzheimer's disease = {not_smoking['Diagnosis'].mean()}, n = {len(not_smoking)}\")"
      ]
    },
    {
      "cell_type": "markdown",
      "id": "c07607b2-e3b0-4e00-8cf1-61ded3595eb2",
      "metadata": {
        "id": "c07607b2-e3b0-4e00-8cf1-61ded3595eb2"
      },
      "source": [
        "Conclusion: In this case, Chi Square is the most reliable for us given the parameters. Hence, this test concludes there isn't sufficient information to prove that smoking increases the risk of being diagnosed with Alzheimer's."
      ]
    },
    {
      "cell_type": "markdown",
      "source": [
        "# Hypothesis 6:"
      ],
      "metadata": {
        "id": "CkqbOAOs0zGJ"
      },
      "id": "CkqbOAOs0zGJ"
    },
    {
      "cell_type": "markdown",
      "source": [
        "Do people who drink more on an average at a higher risk of Alzheimer's\n",
        "\n",
        "H0: There is no difference in Alcohol Consumption with respect to Alzheimers , H1: There is a significant difference in Alcohol Consumption with respect to Alzheimers"
      ],
      "metadata": {
        "id": "37ncFaDC010r"
      },
      "id": "37ncFaDC010r"
    },
    {
      "cell_type": "code",
      "source": [
        "data = new.copy()\n",
        "data = data.loc[:, df.columns.intersection(['AlcoholConsumption','Diagnosis'])]\n",
        "data.head()"
      ],
      "metadata": {
        "colab": {
          "base_uri": "https://localhost:8080/",
          "height": 206
        },
        "id": "NSo6Nc-29ikN",
        "outputId": "bec72320-c5cb-4161-f589-69a810b27d99"
      },
      "id": "NSo6Nc-29ikN",
      "execution_count": null,
      "outputs": [
        {
          "output_type": "execute_result",
          "data": {
            "text/plain": [
              "   AlcoholConsumption  Diagnosis\n",
              "0           13.297218          0\n",
              "1            4.542524          0\n",
              "2           19.555085          0\n",
              "3           12.209266          0\n",
              "4           18.454356          0"
            ],
            "text/html": [
              "\n",
              "  <div id=\"df-a19d0e12-70e1-4f9c-9bec-47933ca44c4c\" class=\"colab-df-container\">\n",
              "    <div>\n",
              "<style scoped>\n",
              "    .dataframe tbody tr th:only-of-type {\n",
              "        vertical-align: middle;\n",
              "    }\n",
              "\n",
              "    .dataframe tbody tr th {\n",
              "        vertical-align: top;\n",
              "    }\n",
              "\n",
              "    .dataframe thead th {\n",
              "        text-align: right;\n",
              "    }\n",
              "</style>\n",
              "<table border=\"1\" class=\"dataframe\">\n",
              "  <thead>\n",
              "    <tr style=\"text-align: right;\">\n",
              "      <th></th>\n",
              "      <th>AlcoholConsumption</th>\n",
              "      <th>Diagnosis</th>\n",
              "    </tr>\n",
              "  </thead>\n",
              "  <tbody>\n",
              "    <tr>\n",
              "      <th>0</th>\n",
              "      <td>13.297218</td>\n",
              "      <td>0</td>\n",
              "    </tr>\n",
              "    <tr>\n",
              "      <th>1</th>\n",
              "      <td>4.542524</td>\n",
              "      <td>0</td>\n",
              "    </tr>\n",
              "    <tr>\n",
              "      <th>2</th>\n",
              "      <td>19.555085</td>\n",
              "      <td>0</td>\n",
              "    </tr>\n",
              "    <tr>\n",
              "      <th>3</th>\n",
              "      <td>12.209266</td>\n",
              "      <td>0</td>\n",
              "    </tr>\n",
              "    <tr>\n",
              "      <th>4</th>\n",
              "      <td>18.454356</td>\n",
              "      <td>0</td>\n",
              "    </tr>\n",
              "  </tbody>\n",
              "</table>\n",
              "</div>\n",
              "    <div class=\"colab-df-buttons\">\n",
              "\n",
              "  <div class=\"colab-df-container\">\n",
              "    <button class=\"colab-df-convert\" onclick=\"convertToInteractive('df-a19d0e12-70e1-4f9c-9bec-47933ca44c4c')\"\n",
              "            title=\"Convert this dataframe to an interactive table.\"\n",
              "            style=\"display:none;\">\n",
              "\n",
              "  <svg xmlns=\"http://www.w3.org/2000/svg\" height=\"24px\" viewBox=\"0 -960 960 960\">\n",
              "    <path d=\"M120-120v-720h720v720H120Zm60-500h600v-160H180v160Zm220 220h160v-160H400v160Zm0 220h160v-160H400v160ZM180-400h160v-160H180v160Zm440 0h160v-160H620v160ZM180-180h160v-160H180v160Zm440 0h160v-160H620v160Z\"/>\n",
              "  </svg>\n",
              "    </button>\n",
              "\n",
              "  <style>\n",
              "    .colab-df-container {\n",
              "      display:flex;\n",
              "      gap: 12px;\n",
              "    }\n",
              "\n",
              "    .colab-df-convert {\n",
              "      background-color: #E8F0FE;\n",
              "      border: none;\n",
              "      border-radius: 50%;\n",
              "      cursor: pointer;\n",
              "      display: none;\n",
              "      fill: #1967D2;\n",
              "      height: 32px;\n",
              "      padding: 0 0 0 0;\n",
              "      width: 32px;\n",
              "    }\n",
              "\n",
              "    .colab-df-convert:hover {\n",
              "      background-color: #E2EBFA;\n",
              "      box-shadow: 0px 1px 2px rgba(60, 64, 67, 0.3), 0px 1px 3px 1px rgba(60, 64, 67, 0.15);\n",
              "      fill: #174EA6;\n",
              "    }\n",
              "\n",
              "    .colab-df-buttons div {\n",
              "      margin-bottom: 4px;\n",
              "    }\n",
              "\n",
              "    [theme=dark] .colab-df-convert {\n",
              "      background-color: #3B4455;\n",
              "      fill: #D2E3FC;\n",
              "    }\n",
              "\n",
              "    [theme=dark] .colab-df-convert:hover {\n",
              "      background-color: #434B5C;\n",
              "      box-shadow: 0px 1px 3px 1px rgba(0, 0, 0, 0.15);\n",
              "      filter: drop-shadow(0px 1px 2px rgba(0, 0, 0, 0.3));\n",
              "      fill: #FFFFFF;\n",
              "    }\n",
              "  </style>\n",
              "\n",
              "    <script>\n",
              "      const buttonEl =\n",
              "        document.querySelector('#df-a19d0e12-70e1-4f9c-9bec-47933ca44c4c button.colab-df-convert');\n",
              "      buttonEl.style.display =\n",
              "        google.colab.kernel.accessAllowed ? 'block' : 'none';\n",
              "\n",
              "      async function convertToInteractive(key) {\n",
              "        const element = document.querySelector('#df-a19d0e12-70e1-4f9c-9bec-47933ca44c4c');\n",
              "        const dataTable =\n",
              "          await google.colab.kernel.invokeFunction('convertToInteractive',\n",
              "                                                    [key], {});\n",
              "        if (!dataTable) return;\n",
              "\n",
              "        const docLinkHtml = 'Like what you see? Visit the ' +\n",
              "          '<a target=\"_blank\" href=https://colab.research.google.com/notebooks/data_table.ipynb>data table notebook</a>'\n",
              "          + ' to learn more about interactive tables.';\n",
              "        element.innerHTML = '';\n",
              "        dataTable['output_type'] = 'display_data';\n",
              "        await google.colab.output.renderOutput(dataTable, element);\n",
              "        const docLink = document.createElement('div');\n",
              "        docLink.innerHTML = docLinkHtml;\n",
              "        element.appendChild(docLink);\n",
              "      }\n",
              "    </script>\n",
              "  </div>\n",
              "\n",
              "\n",
              "<div id=\"df-0a2505b1-0fce-48c3-a290-9145a0462318\">\n",
              "  <button class=\"colab-df-quickchart\" onclick=\"quickchart('df-0a2505b1-0fce-48c3-a290-9145a0462318')\"\n",
              "            title=\"Suggest charts\"\n",
              "            style=\"display:none;\">\n",
              "\n",
              "<svg xmlns=\"http://www.w3.org/2000/svg\" height=\"24px\"viewBox=\"0 0 24 24\"\n",
              "     width=\"24px\">\n",
              "    <g>\n",
              "        <path d=\"M19 3H5c-1.1 0-2 .9-2 2v14c0 1.1.9 2 2 2h14c1.1 0 2-.9 2-2V5c0-1.1-.9-2-2-2zM9 17H7v-7h2v7zm4 0h-2V7h2v10zm4 0h-2v-4h2v4z\"/>\n",
              "    </g>\n",
              "</svg>\n",
              "  </button>\n",
              "\n",
              "<style>\n",
              "  .colab-df-quickchart {\n",
              "      --bg-color: #E8F0FE;\n",
              "      --fill-color: #1967D2;\n",
              "      --hover-bg-color: #E2EBFA;\n",
              "      --hover-fill-color: #174EA6;\n",
              "      --disabled-fill-color: #AAA;\n",
              "      --disabled-bg-color: #DDD;\n",
              "  }\n",
              "\n",
              "  [theme=dark] .colab-df-quickchart {\n",
              "      --bg-color: #3B4455;\n",
              "      --fill-color: #D2E3FC;\n",
              "      --hover-bg-color: #434B5C;\n",
              "      --hover-fill-color: #FFFFFF;\n",
              "      --disabled-bg-color: #3B4455;\n",
              "      --disabled-fill-color: #666;\n",
              "  }\n",
              "\n",
              "  .colab-df-quickchart {\n",
              "    background-color: var(--bg-color);\n",
              "    border: none;\n",
              "    border-radius: 50%;\n",
              "    cursor: pointer;\n",
              "    display: none;\n",
              "    fill: var(--fill-color);\n",
              "    height: 32px;\n",
              "    padding: 0;\n",
              "    width: 32px;\n",
              "  }\n",
              "\n",
              "  .colab-df-quickchart:hover {\n",
              "    background-color: var(--hover-bg-color);\n",
              "    box-shadow: 0 1px 2px rgba(60, 64, 67, 0.3), 0 1px 3px 1px rgba(60, 64, 67, 0.15);\n",
              "    fill: var(--button-hover-fill-color);\n",
              "  }\n",
              "\n",
              "  .colab-df-quickchart-complete:disabled,\n",
              "  .colab-df-quickchart-complete:disabled:hover {\n",
              "    background-color: var(--disabled-bg-color);\n",
              "    fill: var(--disabled-fill-color);\n",
              "    box-shadow: none;\n",
              "  }\n",
              "\n",
              "  .colab-df-spinner {\n",
              "    border: 2px solid var(--fill-color);\n",
              "    border-color: transparent;\n",
              "    border-bottom-color: var(--fill-color);\n",
              "    animation:\n",
              "      spin 1s steps(1) infinite;\n",
              "  }\n",
              "\n",
              "  @keyframes spin {\n",
              "    0% {\n",
              "      border-color: transparent;\n",
              "      border-bottom-color: var(--fill-color);\n",
              "      border-left-color: var(--fill-color);\n",
              "    }\n",
              "    20% {\n",
              "      border-color: transparent;\n",
              "      border-left-color: var(--fill-color);\n",
              "      border-top-color: var(--fill-color);\n",
              "    }\n",
              "    30% {\n",
              "      border-color: transparent;\n",
              "      border-left-color: var(--fill-color);\n",
              "      border-top-color: var(--fill-color);\n",
              "      border-right-color: var(--fill-color);\n",
              "    }\n",
              "    40% {\n",
              "      border-color: transparent;\n",
              "      border-right-color: var(--fill-color);\n",
              "      border-top-color: var(--fill-color);\n",
              "    }\n",
              "    60% {\n",
              "      border-color: transparent;\n",
              "      border-right-color: var(--fill-color);\n",
              "    }\n",
              "    80% {\n",
              "      border-color: transparent;\n",
              "      border-right-color: var(--fill-color);\n",
              "      border-bottom-color: var(--fill-color);\n",
              "    }\n",
              "    90% {\n",
              "      border-color: transparent;\n",
              "      border-bottom-color: var(--fill-color);\n",
              "    }\n",
              "  }\n",
              "</style>\n",
              "\n",
              "  <script>\n",
              "    async function quickchart(key) {\n",
              "      const quickchartButtonEl =\n",
              "        document.querySelector('#' + key + ' button');\n",
              "      quickchartButtonEl.disabled = true;  // To prevent multiple clicks.\n",
              "      quickchartButtonEl.classList.add('colab-df-spinner');\n",
              "      try {\n",
              "        const charts = await google.colab.kernel.invokeFunction(\n",
              "            'suggestCharts', [key], {});\n",
              "      } catch (error) {\n",
              "        console.error('Error during call to suggestCharts:', error);\n",
              "      }\n",
              "      quickchartButtonEl.classList.remove('colab-df-spinner');\n",
              "      quickchartButtonEl.classList.add('colab-df-quickchart-complete');\n",
              "    }\n",
              "    (() => {\n",
              "      let quickchartButtonEl =\n",
              "        document.querySelector('#df-0a2505b1-0fce-48c3-a290-9145a0462318 button');\n",
              "      quickchartButtonEl.style.display =\n",
              "        google.colab.kernel.accessAllowed ? 'block' : 'none';\n",
              "    })();\n",
              "  </script>\n",
              "</div>\n",
              "\n",
              "    </div>\n",
              "  </div>\n"
            ],
            "application/vnd.google.colaboratory.intrinsic+json": {
              "type": "dataframe",
              "variable_name": "data",
              "summary": "{\n  \"name\": \"data\",\n  \"rows\": 2149,\n  \"fields\": [\n    {\n      \"column\": \"AlcoholConsumption\",\n      \"properties\": {\n        \"dtype\": \"number\",\n        \"std\": 5.757910298128651,\n        \"min\": 0.0020030991362718,\n        \"max\": 19.98929335906197,\n        \"num_unique_values\": 2149,\n        \"samples\": [\n          17.79386563482942,\n          4.848164935592663,\n          19.57759110365766\n        ],\n        \"semantic_type\": \"\",\n        \"description\": \"\"\n      }\n    },\n    {\n      \"column\": \"Diagnosis\",\n      \"properties\": {\n        \"dtype\": \"number\",\n        \"std\": 0,\n        \"min\": 0,\n        \"max\": 1,\n        \"num_unique_values\": 2,\n        \"samples\": [\n          1,\n          0\n        ],\n        \"semantic_type\": \"\",\n        \"description\": \"\"\n      }\n    }\n  ]\n}"
            }
          },
          "metadata": {},
          "execution_count": 67
        }
      ]
    },
    {
      "cell_type": "code",
      "source": [
        "alcmean = data['AlcoholConsumption'].mean()"
      ],
      "metadata": {
        "id": "j59jSC2g-8O6"
      },
      "id": "j59jSC2g-8O6",
      "execution_count": null,
      "outputs": []
    },
    {
      "cell_type": "code",
      "source": [
        "data['AlcoholConsumption'].skew()"
      ],
      "metadata": {
        "colab": {
          "base_uri": "https://localhost:8080/"
        },
        "id": "SFQDPLUS9lq5",
        "outputId": "6774eb17-82d7-4f2f-c80a-f56b30082913"
      },
      "id": "SFQDPLUS9lq5",
      "execution_count": null,
      "outputs": [
        {
          "output_type": "execute_result",
          "data": {
            "text/plain": [
              "0.018414566988674438"
            ]
          },
          "metadata": {},
          "execution_count": 69
        }
      ]
    },
    {
      "cell_type": "markdown",
      "source": [
        "Z Test for proportions:"
      ],
      "metadata": {
        "id": "fjaBhYGG9wna"
      },
      "id": "fjaBhYGG9wna"
    },
    {
      "cell_type": "code",
      "source": [
        "less_alcohol = data[data['AlcoholConsumption'] <= alcmean]\n",
        "more_alcohol = data[data['AlcoholConsumption'] > alcmean]\n",
        "\n",
        "count = np.array([\n",
        "    len(less_alcohol[less_alcohol['Diagnosis'] == 1]),\n",
        "    len(more_alcohol[more_alcohol['Diagnosis'] == 1])\n",
        "])\n",
        "nobs = np.array([len(less_alcohol), len(more_alcohol)])\n",
        "\n",
        "z_stat, p_value = proportions_ztest(count, nobs)\n",
        "\n",
        "if p_value < 0.05:\n",
        "    print(f\"There is evidence that more drinking leads to a higher risk of Alzheimer's (p-value = {p_value})\")\n",
        "else:\n",
        "    print(f\"There is no sufficient evidence that more drinking leads to a higher risk of Alzheimer' (p-value = {p_value})\")\n",
        "print(f\"More Drinking: Proportion with Alzheimer's disease = {more_alcohol['Diagnosis'].mean()}, n = {len(more_alcohol)}\")\n",
        "print(f\"Less Drinking: Proportion with Alzheimer's disease = {less_alcohol['Diagnosis'].mean()}, n = {len(less_alcohol)}\")"
      ],
      "metadata": {
        "colab": {
          "base_uri": "https://localhost:8080/"
        },
        "id": "GziY6GLw92rw",
        "outputId": "1964d15a-b145-4926-8c8f-f71b8cc5adf0"
      },
      "id": "GziY6GLw92rw",
      "execution_count": null,
      "outputs": [
        {
          "output_type": "stream",
          "name": "stdout",
          "text": [
            "There is no sufficient evidence that more drinking leads to a higher risk of Alzheimer' (p-value = 0.9697177983028393)\n",
            "More Drinking: Proportion with Alzheimer's disease = 0.3540489642184557, n = 1062\n",
            "Less Drinking: Proportion with Alzheimer's disease = 0.3532658693652254, n = 1087\n"
          ]
        }
      ]
    },
    {
      "cell_type": "markdown",
      "source": [
        "Mann-Whitney U Test"
      ],
      "metadata": {
        "id": "LWbO37huTSPg"
      },
      "id": "LWbO37huTSPg"
    },
    {
      "cell_type": "code",
      "source": [
        "less_alcohol = data[data['AlcoholConsumption'] <= alcmean]\n",
        "more_alcohol = data[data['AlcoholConsumption'] > alcmean]\n",
        "\n",
        "statistic, p_value = stats.mannwhitneyu(more_alcohol['Diagnosis'], less_alcohol['Diagnosis'], alternative='two-sided')\n",
        "\n",
        "if p_value < 0.05:\n",
        "    print(f\"There is evidence that more drinking leads to a higher risk of Alzheimer's (p-value = {p_value})\")\n",
        "else:\n",
        "    print(f\"There is no sufficient evidence that more drinking leads to a higher risk of Alzheimer' (p-value = {p_value})\")\n",
        "print(f\"More Drinking: Proportion with Alzheimer's disease = {more_alcohol['Diagnosis'].mean()}, n = {len(more_alcohol)}\")\n",
        "print(f\"Less Drinking: Proportion with Alzheimer's disease = {less_alcohol['Diagnosis'].mean()}, n = {len(less_alcohol)}\")"
      ],
      "metadata": {
        "colab": {
          "base_uri": "https://localhost:8080/"
        },
        "id": "wqV31tqLUeOZ",
        "outputId": "69ce0e94-8e67-41a1-c7ed-665d211da91d"
      },
      "id": "wqV31tqLUeOZ",
      "execution_count": null,
      "outputs": [
        {
          "output_type": "stream",
          "name": "stdout",
          "text": [
            "There is no sufficient evidence that more drinking leads to a higher risk of Alzheimer' (p-value = 0.9697583155580832)\n",
            "More Drinking: Proportion with Alzheimer's disease = 0.3540489642184557, n = 1062\n",
            "Less Drinking: Proportion with Alzheimer's disease = 0.3532658693652254, n = 1087\n"
          ]
        }
      ]
    },
    {
      "cell_type": "markdown",
      "source": [
        "As our data fits better for non parametric tests, it is very likely that Mann-Whitney U is a better and more accurate measure in our case. Hence, we conclude that individuals who drink more on an average is not a higher risk of Alzheimer's."
      ],
      "metadata": {
        "id": "CCnqTeYBVSdV"
      },
      "id": "CCnqTeYBVSdV"
    },
    {
      "cell_type": "markdown",
      "source": [
        "# Hypothesis 7:"
      ],
      "metadata": {
        "id": "I3Ea5BJZVbUA"
      },
      "id": "I3Ea5BJZVbUA"
    },
    {
      "cell_type": "markdown",
      "source": [
        "Does Pyhsical activity influence ADL?\n",
        "\n",
        "H0: There is no influence of PhysicalActivity on ADL, H1: There is influence of PhysicalActivity on ADL"
      ],
      "metadata": {
        "id": "RB7bQ2aBVjAI"
      },
      "id": "RB7bQ2aBVjAI"
    },
    {
      "cell_type": "markdown",
      "source": [
        "Two Numerical Values: Correlation"
      ],
      "metadata": {
        "id": "0X2fy9EjFT-P"
      },
      "id": "0X2fy9EjFT-P"
    },
    {
      "cell_type": "code",
      "source": [
        "data = new.copy()\n",
        "data = data.loc[:, df.columns.intersection(['PhysicalActivity','ADL'])]\n",
        "data.head(3)"
      ],
      "metadata": {
        "colab": {
          "base_uri": "https://localhost:8080/",
          "height": 143
        },
        "id": "5lMHEhqJVhIA",
        "outputId": "7054f552-7d88-429e-8711-6bf1c15b8f5e"
      },
      "id": "5lMHEhqJVhIA",
      "execution_count": null,
      "outputs": [
        {
          "output_type": "execute_result",
          "data": {
            "text/plain": [
              "   PhysicalActivity       ADL\n",
              "0          6.327112  1.725883\n",
              "1          7.619885  2.592424\n",
              "2          7.844988  7.119548"
            ],
            "text/html": [
              "\n",
              "  <div id=\"df-cd2a5aed-aeb4-4a4f-9099-9197831a97bf\" class=\"colab-df-container\">\n",
              "    <div>\n",
              "<style scoped>\n",
              "    .dataframe tbody tr th:only-of-type {\n",
              "        vertical-align: middle;\n",
              "    }\n",
              "\n",
              "    .dataframe tbody tr th {\n",
              "        vertical-align: top;\n",
              "    }\n",
              "\n",
              "    .dataframe thead th {\n",
              "        text-align: right;\n",
              "    }\n",
              "</style>\n",
              "<table border=\"1\" class=\"dataframe\">\n",
              "  <thead>\n",
              "    <tr style=\"text-align: right;\">\n",
              "      <th></th>\n",
              "      <th>PhysicalActivity</th>\n",
              "      <th>ADL</th>\n",
              "    </tr>\n",
              "  </thead>\n",
              "  <tbody>\n",
              "    <tr>\n",
              "      <th>0</th>\n",
              "      <td>6.327112</td>\n",
              "      <td>1.725883</td>\n",
              "    </tr>\n",
              "    <tr>\n",
              "      <th>1</th>\n",
              "      <td>7.619885</td>\n",
              "      <td>2.592424</td>\n",
              "    </tr>\n",
              "    <tr>\n",
              "      <th>2</th>\n",
              "      <td>7.844988</td>\n",
              "      <td>7.119548</td>\n",
              "    </tr>\n",
              "  </tbody>\n",
              "</table>\n",
              "</div>\n",
              "    <div class=\"colab-df-buttons\">\n",
              "\n",
              "  <div class=\"colab-df-container\">\n",
              "    <button class=\"colab-df-convert\" onclick=\"convertToInteractive('df-cd2a5aed-aeb4-4a4f-9099-9197831a97bf')\"\n",
              "            title=\"Convert this dataframe to an interactive table.\"\n",
              "            style=\"display:none;\">\n",
              "\n",
              "  <svg xmlns=\"http://www.w3.org/2000/svg\" height=\"24px\" viewBox=\"0 -960 960 960\">\n",
              "    <path d=\"M120-120v-720h720v720H120Zm60-500h600v-160H180v160Zm220 220h160v-160H400v160Zm0 220h160v-160H400v160ZM180-400h160v-160H180v160Zm440 0h160v-160H620v160ZM180-180h160v-160H180v160Zm440 0h160v-160H620v160Z\"/>\n",
              "  </svg>\n",
              "    </button>\n",
              "\n",
              "  <style>\n",
              "    .colab-df-container {\n",
              "      display:flex;\n",
              "      gap: 12px;\n",
              "    }\n",
              "\n",
              "    .colab-df-convert {\n",
              "      background-color: #E8F0FE;\n",
              "      border: none;\n",
              "      border-radius: 50%;\n",
              "      cursor: pointer;\n",
              "      display: none;\n",
              "      fill: #1967D2;\n",
              "      height: 32px;\n",
              "      padding: 0 0 0 0;\n",
              "      width: 32px;\n",
              "    }\n",
              "\n",
              "    .colab-df-convert:hover {\n",
              "      background-color: #E2EBFA;\n",
              "      box-shadow: 0px 1px 2px rgba(60, 64, 67, 0.3), 0px 1px 3px 1px rgba(60, 64, 67, 0.15);\n",
              "      fill: #174EA6;\n",
              "    }\n",
              "\n",
              "    .colab-df-buttons div {\n",
              "      margin-bottom: 4px;\n",
              "    }\n",
              "\n",
              "    [theme=dark] .colab-df-convert {\n",
              "      background-color: #3B4455;\n",
              "      fill: #D2E3FC;\n",
              "    }\n",
              "\n",
              "    [theme=dark] .colab-df-convert:hover {\n",
              "      background-color: #434B5C;\n",
              "      box-shadow: 0px 1px 3px 1px rgba(0, 0, 0, 0.15);\n",
              "      filter: drop-shadow(0px 1px 2px rgba(0, 0, 0, 0.3));\n",
              "      fill: #FFFFFF;\n",
              "    }\n",
              "  </style>\n",
              "\n",
              "    <script>\n",
              "      const buttonEl =\n",
              "        document.querySelector('#df-cd2a5aed-aeb4-4a4f-9099-9197831a97bf button.colab-df-convert');\n",
              "      buttonEl.style.display =\n",
              "        google.colab.kernel.accessAllowed ? 'block' : 'none';\n",
              "\n",
              "      async function convertToInteractive(key) {\n",
              "        const element = document.querySelector('#df-cd2a5aed-aeb4-4a4f-9099-9197831a97bf');\n",
              "        const dataTable =\n",
              "          await google.colab.kernel.invokeFunction('convertToInteractive',\n",
              "                                                    [key], {});\n",
              "        if (!dataTable) return;\n",
              "\n",
              "        const docLinkHtml = 'Like what you see? Visit the ' +\n",
              "          '<a target=\"_blank\" href=https://colab.research.google.com/notebooks/data_table.ipynb>data table notebook</a>'\n",
              "          + ' to learn more about interactive tables.';\n",
              "        element.innerHTML = '';\n",
              "        dataTable['output_type'] = 'display_data';\n",
              "        await google.colab.output.renderOutput(dataTable, element);\n",
              "        const docLink = document.createElement('div');\n",
              "        docLink.innerHTML = docLinkHtml;\n",
              "        element.appendChild(docLink);\n",
              "      }\n",
              "    </script>\n",
              "  </div>\n",
              "\n",
              "\n",
              "<div id=\"df-fb9fa9bb-d69d-4972-9b67-092f6237000a\">\n",
              "  <button class=\"colab-df-quickchart\" onclick=\"quickchart('df-fb9fa9bb-d69d-4972-9b67-092f6237000a')\"\n",
              "            title=\"Suggest charts\"\n",
              "            style=\"display:none;\">\n",
              "\n",
              "<svg xmlns=\"http://www.w3.org/2000/svg\" height=\"24px\"viewBox=\"0 0 24 24\"\n",
              "     width=\"24px\">\n",
              "    <g>\n",
              "        <path d=\"M19 3H5c-1.1 0-2 .9-2 2v14c0 1.1.9 2 2 2h14c1.1 0 2-.9 2-2V5c0-1.1-.9-2-2-2zM9 17H7v-7h2v7zm4 0h-2V7h2v10zm4 0h-2v-4h2v4z\"/>\n",
              "    </g>\n",
              "</svg>\n",
              "  </button>\n",
              "\n",
              "<style>\n",
              "  .colab-df-quickchart {\n",
              "      --bg-color: #E8F0FE;\n",
              "      --fill-color: #1967D2;\n",
              "      --hover-bg-color: #E2EBFA;\n",
              "      --hover-fill-color: #174EA6;\n",
              "      --disabled-fill-color: #AAA;\n",
              "      --disabled-bg-color: #DDD;\n",
              "  }\n",
              "\n",
              "  [theme=dark] .colab-df-quickchart {\n",
              "      --bg-color: #3B4455;\n",
              "      --fill-color: #D2E3FC;\n",
              "      --hover-bg-color: #434B5C;\n",
              "      --hover-fill-color: #FFFFFF;\n",
              "      --disabled-bg-color: #3B4455;\n",
              "      --disabled-fill-color: #666;\n",
              "  }\n",
              "\n",
              "  .colab-df-quickchart {\n",
              "    background-color: var(--bg-color);\n",
              "    border: none;\n",
              "    border-radius: 50%;\n",
              "    cursor: pointer;\n",
              "    display: none;\n",
              "    fill: var(--fill-color);\n",
              "    height: 32px;\n",
              "    padding: 0;\n",
              "    width: 32px;\n",
              "  }\n",
              "\n",
              "  .colab-df-quickchart:hover {\n",
              "    background-color: var(--hover-bg-color);\n",
              "    box-shadow: 0 1px 2px rgba(60, 64, 67, 0.3), 0 1px 3px 1px rgba(60, 64, 67, 0.15);\n",
              "    fill: var(--button-hover-fill-color);\n",
              "  }\n",
              "\n",
              "  .colab-df-quickchart-complete:disabled,\n",
              "  .colab-df-quickchart-complete:disabled:hover {\n",
              "    background-color: var(--disabled-bg-color);\n",
              "    fill: var(--disabled-fill-color);\n",
              "    box-shadow: none;\n",
              "  }\n",
              "\n",
              "  .colab-df-spinner {\n",
              "    border: 2px solid var(--fill-color);\n",
              "    border-color: transparent;\n",
              "    border-bottom-color: var(--fill-color);\n",
              "    animation:\n",
              "      spin 1s steps(1) infinite;\n",
              "  }\n",
              "\n",
              "  @keyframes spin {\n",
              "    0% {\n",
              "      border-color: transparent;\n",
              "      border-bottom-color: var(--fill-color);\n",
              "      border-left-color: var(--fill-color);\n",
              "    }\n",
              "    20% {\n",
              "      border-color: transparent;\n",
              "      border-left-color: var(--fill-color);\n",
              "      border-top-color: var(--fill-color);\n",
              "    }\n",
              "    30% {\n",
              "      border-color: transparent;\n",
              "      border-left-color: var(--fill-color);\n",
              "      border-top-color: var(--fill-color);\n",
              "      border-right-color: var(--fill-color);\n",
              "    }\n",
              "    40% {\n",
              "      border-color: transparent;\n",
              "      border-right-color: var(--fill-color);\n",
              "      border-top-color: var(--fill-color);\n",
              "    }\n",
              "    60% {\n",
              "      border-color: transparent;\n",
              "      border-right-color: var(--fill-color);\n",
              "    }\n",
              "    80% {\n",
              "      border-color: transparent;\n",
              "      border-right-color: var(--fill-color);\n",
              "      border-bottom-color: var(--fill-color);\n",
              "    }\n",
              "    90% {\n",
              "      border-color: transparent;\n",
              "      border-bottom-color: var(--fill-color);\n",
              "    }\n",
              "  }\n",
              "</style>\n",
              "\n",
              "  <script>\n",
              "    async function quickchart(key) {\n",
              "      const quickchartButtonEl =\n",
              "        document.querySelector('#' + key + ' button');\n",
              "      quickchartButtonEl.disabled = true;  // To prevent multiple clicks.\n",
              "      quickchartButtonEl.classList.add('colab-df-spinner');\n",
              "      try {\n",
              "        const charts = await google.colab.kernel.invokeFunction(\n",
              "            'suggestCharts', [key], {});\n",
              "      } catch (error) {\n",
              "        console.error('Error during call to suggestCharts:', error);\n",
              "      }\n",
              "      quickchartButtonEl.classList.remove('colab-df-spinner');\n",
              "      quickchartButtonEl.classList.add('colab-df-quickchart-complete');\n",
              "    }\n",
              "    (() => {\n",
              "      let quickchartButtonEl =\n",
              "        document.querySelector('#df-fb9fa9bb-d69d-4972-9b67-092f6237000a button');\n",
              "      quickchartButtonEl.style.display =\n",
              "        google.colab.kernel.accessAllowed ? 'block' : 'none';\n",
              "    })();\n",
              "  </script>\n",
              "</div>\n",
              "\n",
              "    </div>\n",
              "  </div>\n"
            ],
            "application/vnd.google.colaboratory.intrinsic+json": {
              "type": "dataframe",
              "variable_name": "data",
              "summary": "{\n  \"name\": \"data\",\n  \"rows\": 2149,\n  \"fields\": [\n    {\n      \"column\": \"PhysicalActivity\",\n      \"properties\": {\n        \"dtype\": \"number\",\n        \"std\": 2.8571911189349275,\n        \"min\": 0.003616016826019,\n        \"max\": 9.987429413422252,\n        \"num_unique_values\": 2149,\n        \"samples\": [\n          1.0160872463134385,\n          0.3777846398072204,\n          9.290182115316902\n        ],\n        \"semantic_type\": \"\",\n        \"description\": \"\"\n      }\n    },\n    {\n      \"column\": \"ADL\",\n      \"properties\": {\n        \"dtype\": \"number\",\n        \"std\": 2.9497747993689742,\n        \"min\": 0.0012879277024868,\n        \"max\": 9.99974712180168,\n        \"num_unique_values\": 2149,\n        \"samples\": [\n          6.800702841611061,\n          7.388050134616232,\n          6.166283278363618\n        ],\n        \"semantic_type\": \"\",\n        \"description\": \"\"\n      }\n    }\n  ]\n}"
            }
          },
          "metadata": {},
          "execution_count": 60
        }
      ]
    },
    {
      "cell_type": "markdown",
      "source": [
        "Pearson’s Coefficient of Correlation"
      ],
      "metadata": {
        "id": "fN3JV2c2I1OT"
      },
      "id": "fN3JV2c2I1OT"
    },
    {
      "cell_type": "code",
      "source": [
        "phy = data['PhysicalActivity']\n",
        "adl = data['ADL']\n",
        "\n",
        "c, p_value = stats.pearsonr(phy, adl)\n",
        "\n",
        "if p_value < 0.05:\n",
        "    print(f\"There is evidence that suggests physical activity is related to ADL (p-value = {p_value})\")\n",
        "else:\n",
        "    print(f\"There is no sufficient evidence that suggests physical activity is related to ADL (p-value = {p_value})\")"
      ],
      "metadata": {
        "colab": {
          "base_uri": "https://localhost:8080/"
        },
        "id": "yIDBsd9TFc5C",
        "outputId": "69d58769-7d47-4741-8618-fd775d810139"
      },
      "id": "yIDBsd9TFc5C",
      "execution_count": null,
      "outputs": [
        {
          "output_type": "stream",
          "name": "stdout",
          "text": [
            "There is no sufficient evidence that suggests physical activity is related to ADL (p-value = 0.5370289641123281)\n"
          ]
        }
      ]
    },
    {
      "cell_type": "markdown",
      "source": [
        "Spearman’s Rank of Correlation\n"
      ],
      "metadata": {
        "id": "bJ3wLCL1I4_A"
      },
      "id": "bJ3wLCL1I4_A"
    },
    {
      "cell_type": "code",
      "source": [
        "phy = data['PhysicalActivity']\n",
        "adl = data['ADL']\n",
        "\n",
        "c, p_value = stats.spearmanr(phy, adl)\n",
        "\n",
        "if p_value < 0.05:\n",
        "    print(f\"There is evidence that suggests physical activity is related to ADL (p-value = {p_value})\")\n",
        "else:\n",
        "    print(f\"There is no sufficient evidence that suggests physical activity is related to ADL (p-value = {p_value})\")"
      ],
      "metadata": {
        "colab": {
          "base_uri": "https://localhost:8080/"
        },
        "id": "ElOzHJx9HQQu",
        "outputId": "2fe74db7-6a4b-4e9c-8f28-745a7e5348c5"
      },
      "id": "ElOzHJx9HQQu",
      "execution_count": null,
      "outputs": [
        {
          "output_type": "stream",
          "name": "stdout",
          "text": [
            "There is no sufficient evidence that suggests physical activity is related to ADL (p-value = 0.5186180187568952)\n"
          ]
        }
      ]
    },
    {
      "cell_type": "markdown",
      "source": [
        "Our Correlation tests indicate that there is no linear as well as non linear relation between PhysicalActivity and ADL."
      ],
      "metadata": {
        "id": "Tv2f_QWfHsgx"
      },
      "id": "Tv2f_QWfHsgx"
    },
    {
      "cell_type": "markdown",
      "source": [
        "# Hypothesis 8:"
      ],
      "metadata": {
        "id": "LVunvobEV3aM"
      },
      "id": "LVunvobEV3aM"
    },
    {
      "cell_type": "markdown",
      "source": [
        "Does ethnicity affect diet quality and alcohol consumption?\n",
        "\n",
        "H0: There is no significant difference in diet quality / alcohol consumption among different ethnicities, H1: There is a significant difference in diet quality / alcohol consumption among different ethnicities"
      ],
      "metadata": {
        "id": "f8EJyWl7qsiD"
      },
      "id": "f8EJyWl7qsiD"
    },
    {
      "cell_type": "markdown",
      "source": [
        "One Categorical Variable and One Numerical Variable: One Way ANOVA"
      ],
      "metadata": {
        "id": "rg02QmkBAk4I"
      },
      "id": "rg02QmkBAk4I"
    },
    {
      "cell_type": "code",
      "source": [
        "data = new.copy()\n",
        "data = data.loc[:, df.columns.intersection(['Ethnicity','AlcoholConsumption','DietQuality'])]\n",
        "data.head()"
      ],
      "metadata": {
        "colab": {
          "base_uri": "https://localhost:8080/",
          "height": 206
        },
        "id": "O0UvUOEXiMtW",
        "outputId": "efab636f-200b-445a-eae4-b8f7e9018e2a"
      },
      "id": "O0UvUOEXiMtW",
      "execution_count": null,
      "outputs": [
        {
          "output_type": "execute_result",
          "data": {
            "text/plain": [
              "   Ethnicity  AlcoholConsumption  DietQuality\n",
              "0          0           13.297218     1.347214\n",
              "1          0            4.542524     0.518767\n",
              "2          3           19.555085     1.826335\n",
              "3          0           12.209266     7.435604\n",
              "4          0           18.454356     0.795498"
            ],
            "text/html": [
              "\n",
              "  <div id=\"df-0c78c57e-1bc6-47b5-b2f0-c31be3d91c80\" class=\"colab-df-container\">\n",
              "    <div>\n",
              "<style scoped>\n",
              "    .dataframe tbody tr th:only-of-type {\n",
              "        vertical-align: middle;\n",
              "    }\n",
              "\n",
              "    .dataframe tbody tr th {\n",
              "        vertical-align: top;\n",
              "    }\n",
              "\n",
              "    .dataframe thead th {\n",
              "        text-align: right;\n",
              "    }\n",
              "</style>\n",
              "<table border=\"1\" class=\"dataframe\">\n",
              "  <thead>\n",
              "    <tr style=\"text-align: right;\">\n",
              "      <th></th>\n",
              "      <th>Ethnicity</th>\n",
              "      <th>AlcoholConsumption</th>\n",
              "      <th>DietQuality</th>\n",
              "    </tr>\n",
              "  </thead>\n",
              "  <tbody>\n",
              "    <tr>\n",
              "      <th>0</th>\n",
              "      <td>0</td>\n",
              "      <td>13.297218</td>\n",
              "      <td>1.347214</td>\n",
              "    </tr>\n",
              "    <tr>\n",
              "      <th>1</th>\n",
              "      <td>0</td>\n",
              "      <td>4.542524</td>\n",
              "      <td>0.518767</td>\n",
              "    </tr>\n",
              "    <tr>\n",
              "      <th>2</th>\n",
              "      <td>3</td>\n",
              "      <td>19.555085</td>\n",
              "      <td>1.826335</td>\n",
              "    </tr>\n",
              "    <tr>\n",
              "      <th>3</th>\n",
              "      <td>0</td>\n",
              "      <td>12.209266</td>\n",
              "      <td>7.435604</td>\n",
              "    </tr>\n",
              "    <tr>\n",
              "      <th>4</th>\n",
              "      <td>0</td>\n",
              "      <td>18.454356</td>\n",
              "      <td>0.795498</td>\n",
              "    </tr>\n",
              "  </tbody>\n",
              "</table>\n",
              "</div>\n",
              "    <div class=\"colab-df-buttons\">\n",
              "\n",
              "  <div class=\"colab-df-container\">\n",
              "    <button class=\"colab-df-convert\" onclick=\"convertToInteractive('df-0c78c57e-1bc6-47b5-b2f0-c31be3d91c80')\"\n",
              "            title=\"Convert this dataframe to an interactive table.\"\n",
              "            style=\"display:none;\">\n",
              "\n",
              "  <svg xmlns=\"http://www.w3.org/2000/svg\" height=\"24px\" viewBox=\"0 -960 960 960\">\n",
              "    <path d=\"M120-120v-720h720v720H120Zm60-500h600v-160H180v160Zm220 220h160v-160H400v160Zm0 220h160v-160H400v160ZM180-400h160v-160H180v160Zm440 0h160v-160H620v160ZM180-180h160v-160H180v160Zm440 0h160v-160H620v160Z\"/>\n",
              "  </svg>\n",
              "    </button>\n",
              "\n",
              "  <style>\n",
              "    .colab-df-container {\n",
              "      display:flex;\n",
              "      gap: 12px;\n",
              "    }\n",
              "\n",
              "    .colab-df-convert {\n",
              "      background-color: #E8F0FE;\n",
              "      border: none;\n",
              "      border-radius: 50%;\n",
              "      cursor: pointer;\n",
              "      display: none;\n",
              "      fill: #1967D2;\n",
              "      height: 32px;\n",
              "      padding: 0 0 0 0;\n",
              "      width: 32px;\n",
              "    }\n",
              "\n",
              "    .colab-df-convert:hover {\n",
              "      background-color: #E2EBFA;\n",
              "      box-shadow: 0px 1px 2px rgba(60, 64, 67, 0.3), 0px 1px 3px 1px rgba(60, 64, 67, 0.15);\n",
              "      fill: #174EA6;\n",
              "    }\n",
              "\n",
              "    .colab-df-buttons div {\n",
              "      margin-bottom: 4px;\n",
              "    }\n",
              "\n",
              "    [theme=dark] .colab-df-convert {\n",
              "      background-color: #3B4455;\n",
              "      fill: #D2E3FC;\n",
              "    }\n",
              "\n",
              "    [theme=dark] .colab-df-convert:hover {\n",
              "      background-color: #434B5C;\n",
              "      box-shadow: 0px 1px 3px 1px rgba(0, 0, 0, 0.15);\n",
              "      filter: drop-shadow(0px 1px 2px rgba(0, 0, 0, 0.3));\n",
              "      fill: #FFFFFF;\n",
              "    }\n",
              "  </style>\n",
              "\n",
              "    <script>\n",
              "      const buttonEl =\n",
              "        document.querySelector('#df-0c78c57e-1bc6-47b5-b2f0-c31be3d91c80 button.colab-df-convert');\n",
              "      buttonEl.style.display =\n",
              "        google.colab.kernel.accessAllowed ? 'block' : 'none';\n",
              "\n",
              "      async function convertToInteractive(key) {\n",
              "        const element = document.querySelector('#df-0c78c57e-1bc6-47b5-b2f0-c31be3d91c80');\n",
              "        const dataTable =\n",
              "          await google.colab.kernel.invokeFunction('convertToInteractive',\n",
              "                                                    [key], {});\n",
              "        if (!dataTable) return;\n",
              "\n",
              "        const docLinkHtml = 'Like what you see? Visit the ' +\n",
              "          '<a target=\"_blank\" href=https://colab.research.google.com/notebooks/data_table.ipynb>data table notebook</a>'\n",
              "          + ' to learn more about interactive tables.';\n",
              "        element.innerHTML = '';\n",
              "        dataTable['output_type'] = 'display_data';\n",
              "        await google.colab.output.renderOutput(dataTable, element);\n",
              "        const docLink = document.createElement('div');\n",
              "        docLink.innerHTML = docLinkHtml;\n",
              "        element.appendChild(docLink);\n",
              "      }\n",
              "    </script>\n",
              "  </div>\n",
              "\n",
              "\n",
              "<div id=\"df-3ae3a2e0-115a-4244-9f26-585724666eb6\">\n",
              "  <button class=\"colab-df-quickchart\" onclick=\"quickchart('df-3ae3a2e0-115a-4244-9f26-585724666eb6')\"\n",
              "            title=\"Suggest charts\"\n",
              "            style=\"display:none;\">\n",
              "\n",
              "<svg xmlns=\"http://www.w3.org/2000/svg\" height=\"24px\"viewBox=\"0 0 24 24\"\n",
              "     width=\"24px\">\n",
              "    <g>\n",
              "        <path d=\"M19 3H5c-1.1 0-2 .9-2 2v14c0 1.1.9 2 2 2h14c1.1 0 2-.9 2-2V5c0-1.1-.9-2-2-2zM9 17H7v-7h2v7zm4 0h-2V7h2v10zm4 0h-2v-4h2v4z\"/>\n",
              "    </g>\n",
              "</svg>\n",
              "  </button>\n",
              "\n",
              "<style>\n",
              "  .colab-df-quickchart {\n",
              "      --bg-color: #E8F0FE;\n",
              "      --fill-color: #1967D2;\n",
              "      --hover-bg-color: #E2EBFA;\n",
              "      --hover-fill-color: #174EA6;\n",
              "      --disabled-fill-color: #AAA;\n",
              "      --disabled-bg-color: #DDD;\n",
              "  }\n",
              "\n",
              "  [theme=dark] .colab-df-quickchart {\n",
              "      --bg-color: #3B4455;\n",
              "      --fill-color: #D2E3FC;\n",
              "      --hover-bg-color: #434B5C;\n",
              "      --hover-fill-color: #FFFFFF;\n",
              "      --disabled-bg-color: #3B4455;\n",
              "      --disabled-fill-color: #666;\n",
              "  }\n",
              "\n",
              "  .colab-df-quickchart {\n",
              "    background-color: var(--bg-color);\n",
              "    border: none;\n",
              "    border-radius: 50%;\n",
              "    cursor: pointer;\n",
              "    display: none;\n",
              "    fill: var(--fill-color);\n",
              "    height: 32px;\n",
              "    padding: 0;\n",
              "    width: 32px;\n",
              "  }\n",
              "\n",
              "  .colab-df-quickchart:hover {\n",
              "    background-color: var(--hover-bg-color);\n",
              "    box-shadow: 0 1px 2px rgba(60, 64, 67, 0.3), 0 1px 3px 1px rgba(60, 64, 67, 0.15);\n",
              "    fill: var(--button-hover-fill-color);\n",
              "  }\n",
              "\n",
              "  .colab-df-quickchart-complete:disabled,\n",
              "  .colab-df-quickchart-complete:disabled:hover {\n",
              "    background-color: var(--disabled-bg-color);\n",
              "    fill: var(--disabled-fill-color);\n",
              "    box-shadow: none;\n",
              "  }\n",
              "\n",
              "  .colab-df-spinner {\n",
              "    border: 2px solid var(--fill-color);\n",
              "    border-color: transparent;\n",
              "    border-bottom-color: var(--fill-color);\n",
              "    animation:\n",
              "      spin 1s steps(1) infinite;\n",
              "  }\n",
              "\n",
              "  @keyframes spin {\n",
              "    0% {\n",
              "      border-color: transparent;\n",
              "      border-bottom-color: var(--fill-color);\n",
              "      border-left-color: var(--fill-color);\n",
              "    }\n",
              "    20% {\n",
              "      border-color: transparent;\n",
              "      border-left-color: var(--fill-color);\n",
              "      border-top-color: var(--fill-color);\n",
              "    }\n",
              "    30% {\n",
              "      border-color: transparent;\n",
              "      border-left-color: var(--fill-color);\n",
              "      border-top-color: var(--fill-color);\n",
              "      border-right-color: var(--fill-color);\n",
              "    }\n",
              "    40% {\n",
              "      border-color: transparent;\n",
              "      border-right-color: var(--fill-color);\n",
              "      border-top-color: var(--fill-color);\n",
              "    }\n",
              "    60% {\n",
              "      border-color: transparent;\n",
              "      border-right-color: var(--fill-color);\n",
              "    }\n",
              "    80% {\n",
              "      border-color: transparent;\n",
              "      border-right-color: var(--fill-color);\n",
              "      border-bottom-color: var(--fill-color);\n",
              "    }\n",
              "    90% {\n",
              "      border-color: transparent;\n",
              "      border-bottom-color: var(--fill-color);\n",
              "    }\n",
              "  }\n",
              "</style>\n",
              "\n",
              "  <script>\n",
              "    async function quickchart(key) {\n",
              "      const quickchartButtonEl =\n",
              "        document.querySelector('#' + key + ' button');\n",
              "      quickchartButtonEl.disabled = true;  // To prevent multiple clicks.\n",
              "      quickchartButtonEl.classList.add('colab-df-spinner');\n",
              "      try {\n",
              "        const charts = await google.colab.kernel.invokeFunction(\n",
              "            'suggestCharts', [key], {});\n",
              "      } catch (error) {\n",
              "        console.error('Error during call to suggestCharts:', error);\n",
              "      }\n",
              "      quickchartButtonEl.classList.remove('colab-df-spinner');\n",
              "      quickchartButtonEl.classList.add('colab-df-quickchart-complete');\n",
              "    }\n",
              "    (() => {\n",
              "      let quickchartButtonEl =\n",
              "        document.querySelector('#df-3ae3a2e0-115a-4244-9f26-585724666eb6 button');\n",
              "      quickchartButtonEl.style.display =\n",
              "        google.colab.kernel.accessAllowed ? 'block' : 'none';\n",
              "    })();\n",
              "  </script>\n",
              "</div>\n",
              "\n",
              "    </div>\n",
              "  </div>\n"
            ],
            "application/vnd.google.colaboratory.intrinsic+json": {
              "type": "dataframe",
              "variable_name": "data",
              "summary": "{\n  \"name\": \"data\",\n  \"rows\": 2149,\n  \"fields\": [\n    {\n      \"column\": \"Ethnicity\",\n      \"properties\": {\n        \"dtype\": \"number\",\n        \"std\": 0,\n        \"min\": 0,\n        \"max\": 3,\n        \"num_unique_values\": 4,\n        \"samples\": [\n          3,\n          2,\n          0\n        ],\n        \"semantic_type\": \"\",\n        \"description\": \"\"\n      }\n    },\n    {\n      \"column\": \"AlcoholConsumption\",\n      \"properties\": {\n        \"dtype\": \"number\",\n        \"std\": 5.757910298128651,\n        \"min\": 0.0020030991362718,\n        \"max\": 19.98929335906197,\n        \"num_unique_values\": 2149,\n        \"samples\": [\n          17.79386563482942,\n          4.848164935592663,\n          19.57759110365766\n        ],\n        \"semantic_type\": \"\",\n        \"description\": \"\"\n      }\n    },\n    {\n      \"column\": \"DietQuality\",\n      \"properties\": {\n        \"dtype\": \"number\",\n        \"std\": 2.90905499985792,\n        \"min\": 0.00938472011623,\n        \"max\": 9.99834567881401,\n        \"num_unique_values\": 2149,\n        \"samples\": [\n          5.708031590789324,\n          3.367394239455842,\n          6.155533625692455\n        ],\n        \"semantic_type\": \"\",\n        \"description\": \"\"\n      }\n    }\n  ]\n}"
            }
          },
          "metadata": {},
          "execution_count": 6
        }
      ]
    },
    {
      "cell_type": "code",
      "source": [
        "data['DietQuality'].skew()"
      ],
      "metadata": {
        "colab": {
          "base_uri": "https://localhost:8080/"
        },
        "id": "G0TTcTe8jox8",
        "outputId": "760b1044-88a7-4ee2-d2b0-73cf0e0aa606"
      },
      "id": "G0TTcTe8jox8",
      "execution_count": null,
      "outputs": [
        {
          "output_type": "execute_result",
          "data": {
            "text/plain": [
              "-0.012057750253574261"
            ]
          },
          "metadata": {},
          "execution_count": 7
        }
      ]
    },
    {
      "cell_type": "code",
      "source": [
        "stat, p_value = stats.f_oneway(df['DietQuality'][df['Ethnicity'] == 0],\n",
        "                               df['DietQuality'][df['Ethnicity'] == 1],\n",
        "                               df['DietQuality'][df['Ethnicity'] == 2],\n",
        "                               df['DietQuality'][df['Ethnicity'] == 3],)\n",
        "\n",
        "if p_value < 0.05:\n",
        "    print(f\"There is a significant difference in diet quality among different ethnicities (p-value = {p_value})\")\n",
        "else:\n",
        "    print(f\"There is no significant difference in diet quality among different ethnicities  (p-value = {p_value})\")"
      ],
      "metadata": {
        "colab": {
          "base_uri": "https://localhost:8080/"
        },
        "id": "nTwnfjoZj8xZ",
        "outputId": "b515a655-a6bc-41d7-865f-c382e495a384"
      },
      "id": "nTwnfjoZj8xZ",
      "execution_count": null,
      "outputs": [
        {
          "output_type": "stream",
          "name": "stdout",
          "text": [
            "There is no significant difference in diet quality among different ethnicities  (p-value = 0.6916933973064661)\n"
          ]
        }
      ]
    },
    {
      "cell_type": "code",
      "source": [
        "stat, p_value = stats.f_oneway(df['AlcoholConsumption'][df['Ethnicity'] == 0],\n",
        "                               df['AlcoholConsumption'][df['Ethnicity'] == 1],\n",
        "                               df['AlcoholConsumption'][df['Ethnicity'] == 2],\n",
        "                               df['AlcoholConsumption'][df['Ethnicity'] == 3],)\n",
        "\n",
        "if p_value < 0.05:\n",
        "    print(f\"There is a significant difference in alcohol consumption among different ethnicities (p-value = {p_value})\")\n",
        "else:\n",
        "    print(f\"There is no significant difference in alcohol consumption among different ethnicities  (p-value = {p_value})\")"
      ],
      "metadata": {
        "colab": {
          "base_uri": "https://localhost:8080/"
        },
        "id": "csAewSLk78S-",
        "outputId": "6d85bc35-8085-4aa9-9e8e-f055fdc86413"
      },
      "id": "csAewSLk78S-",
      "execution_count": null,
      "outputs": [
        {
          "output_type": "stream",
          "name": "stdout",
          "text": [
            "There is no significant difference in alcohol consumption among different ethnicities  (p-value = 0.7100882459442217)\n"
          ]
        }
      ]
    },
    {
      "cell_type": "code",
      "source": [
        "columns_to_plot = ['AlcoholConsumption', 'DietQuality']\n",
        "\n",
        "fig, axes = plt.subplots(figsize=(25,7), ncols=len(columns_to_plot))\n",
        "\n",
        "for c, axis in zip(columns_to_plot, axes):\n",
        "    sns.boxplot(df, x=c, y=df['Ethnicity'] ax = axis)\n",
        "    sns.stripplot(df, x=c, y=df['Ethnicity'], size=4, color=\".3\", ax = axis)\n",
        "\n",
        "plt.tight_layout()\n",
        "plt.show()"
      ],
      "metadata": {
        "id": "58AqiE6wZeuS"
      },
      "id": "58AqiE6wZeuS",
      "execution_count": null,
      "outputs": []
    },
    {
      "cell_type": "markdown",
      "source": [
        "Conclusion: Anova signals that the ethnicity groups have no significant difference in diet quality and alcohol consumption."
      ],
      "metadata": {
        "id": "Kt2ixULVWgdL"
      },
      "id": "Kt2ixULVWgdL"
    },
    {
      "cell_type": "markdown",
      "source": [
        "# Hypothesis 9:"
      ],
      "metadata": {
        "id": "hpfFXs5w_hZ3"
      },
      "id": "hpfFXs5w_hZ3"
    },
    {
      "cell_type": "markdown",
      "source": [
        "Do underlying issues influence BMI / Sleep quality?\n",
        "\n",
        "H0: There is no significant difference in sleep quality based on depression / hypertension, H1: There is a significant difference in sleep quality based on depression / hypertension"
      ],
      "metadata": {
        "id": "eqaM4ZbkaGE7"
      },
      "id": "eqaM4ZbkaGE7"
    },
    {
      "cell_type": "markdown",
      "source": [
        "One Numerical Variables and Two Categorical Variables: Two Way ANOVA"
      ],
      "metadata": {
        "id": "_Q02IgDMBfBJ"
      },
      "id": "_Q02IgDMBfBJ"
    },
    {
      "cell_type": "code",
      "source": [
        "data = new.copy()\n",
        "data = data.loc[:, df.columns.intersection(['SleepQuality','Depression','Hypertension'])]\n",
        "data.head()"
      ],
      "metadata": {
        "colab": {
          "base_uri": "https://localhost:8080/",
          "height": 206
        },
        "id": "_okBPRaqRa1J",
        "outputId": "0aa44c07-71d9-4191-affa-1f5855d96ef7"
      },
      "id": "_okBPRaqRa1J",
      "execution_count": null,
      "outputs": [
        {
          "output_type": "execute_result",
          "data": {
            "text/plain": [
              "   SleepQuality  Depression  Hypertension\n",
              "0      9.025679           1             0\n",
              "1      7.151293           0             0\n",
              "2      9.673574           0             0\n",
              "3      8.392554           0             0\n",
              "4      5.597238           0             0"
            ],
            "text/html": [
              "\n",
              "  <div id=\"df-4bb710af-4ce6-4156-b6cb-d7e0445a3ee7\" class=\"colab-df-container\">\n",
              "    <div>\n",
              "<style scoped>\n",
              "    .dataframe tbody tr th:only-of-type {\n",
              "        vertical-align: middle;\n",
              "    }\n",
              "\n",
              "    .dataframe tbody tr th {\n",
              "        vertical-align: top;\n",
              "    }\n",
              "\n",
              "    .dataframe thead th {\n",
              "        text-align: right;\n",
              "    }\n",
              "</style>\n",
              "<table border=\"1\" class=\"dataframe\">\n",
              "  <thead>\n",
              "    <tr style=\"text-align: right;\">\n",
              "      <th></th>\n",
              "      <th>SleepQuality</th>\n",
              "      <th>Depression</th>\n",
              "      <th>Hypertension</th>\n",
              "    </tr>\n",
              "  </thead>\n",
              "  <tbody>\n",
              "    <tr>\n",
              "      <th>0</th>\n",
              "      <td>9.025679</td>\n",
              "      <td>1</td>\n",
              "      <td>0</td>\n",
              "    </tr>\n",
              "    <tr>\n",
              "      <th>1</th>\n",
              "      <td>7.151293</td>\n",
              "      <td>0</td>\n",
              "      <td>0</td>\n",
              "    </tr>\n",
              "    <tr>\n",
              "      <th>2</th>\n",
              "      <td>9.673574</td>\n",
              "      <td>0</td>\n",
              "      <td>0</td>\n",
              "    </tr>\n",
              "    <tr>\n",
              "      <th>3</th>\n",
              "      <td>8.392554</td>\n",
              "      <td>0</td>\n",
              "      <td>0</td>\n",
              "    </tr>\n",
              "    <tr>\n",
              "      <th>4</th>\n",
              "      <td>5.597238</td>\n",
              "      <td>0</td>\n",
              "      <td>0</td>\n",
              "    </tr>\n",
              "  </tbody>\n",
              "</table>\n",
              "</div>\n",
              "    <div class=\"colab-df-buttons\">\n",
              "\n",
              "  <div class=\"colab-df-container\">\n",
              "    <button class=\"colab-df-convert\" onclick=\"convertToInteractive('df-4bb710af-4ce6-4156-b6cb-d7e0445a3ee7')\"\n",
              "            title=\"Convert this dataframe to an interactive table.\"\n",
              "            style=\"display:none;\">\n",
              "\n",
              "  <svg xmlns=\"http://www.w3.org/2000/svg\" height=\"24px\" viewBox=\"0 -960 960 960\">\n",
              "    <path d=\"M120-120v-720h720v720H120Zm60-500h600v-160H180v160Zm220 220h160v-160H400v160Zm0 220h160v-160H400v160ZM180-400h160v-160H180v160Zm440 0h160v-160H620v160ZM180-180h160v-160H180v160Zm440 0h160v-160H620v160Z\"/>\n",
              "  </svg>\n",
              "    </button>\n",
              "\n",
              "  <style>\n",
              "    .colab-df-container {\n",
              "      display:flex;\n",
              "      gap: 12px;\n",
              "    }\n",
              "\n",
              "    .colab-df-convert {\n",
              "      background-color: #E8F0FE;\n",
              "      border: none;\n",
              "      border-radius: 50%;\n",
              "      cursor: pointer;\n",
              "      display: none;\n",
              "      fill: #1967D2;\n",
              "      height: 32px;\n",
              "      padding: 0 0 0 0;\n",
              "      width: 32px;\n",
              "    }\n",
              "\n",
              "    .colab-df-convert:hover {\n",
              "      background-color: #E2EBFA;\n",
              "      box-shadow: 0px 1px 2px rgba(60, 64, 67, 0.3), 0px 1px 3px 1px rgba(60, 64, 67, 0.15);\n",
              "      fill: #174EA6;\n",
              "    }\n",
              "\n",
              "    .colab-df-buttons div {\n",
              "      margin-bottom: 4px;\n",
              "    }\n",
              "\n",
              "    [theme=dark] .colab-df-convert {\n",
              "      background-color: #3B4455;\n",
              "      fill: #D2E3FC;\n",
              "    }\n",
              "\n",
              "    [theme=dark] .colab-df-convert:hover {\n",
              "      background-color: #434B5C;\n",
              "      box-shadow: 0px 1px 3px 1px rgba(0, 0, 0, 0.15);\n",
              "      filter: drop-shadow(0px 1px 2px rgba(0, 0, 0, 0.3));\n",
              "      fill: #FFFFFF;\n",
              "    }\n",
              "  </style>\n",
              "\n",
              "    <script>\n",
              "      const buttonEl =\n",
              "        document.querySelector('#df-4bb710af-4ce6-4156-b6cb-d7e0445a3ee7 button.colab-df-convert');\n",
              "      buttonEl.style.display =\n",
              "        google.colab.kernel.accessAllowed ? 'block' : 'none';\n",
              "\n",
              "      async function convertToInteractive(key) {\n",
              "        const element = document.querySelector('#df-4bb710af-4ce6-4156-b6cb-d7e0445a3ee7');\n",
              "        const dataTable =\n",
              "          await google.colab.kernel.invokeFunction('convertToInteractive',\n",
              "                                                    [key], {});\n",
              "        if (!dataTable) return;\n",
              "\n",
              "        const docLinkHtml = 'Like what you see? Visit the ' +\n",
              "          '<a target=\"_blank\" href=https://colab.research.google.com/notebooks/data_table.ipynb>data table notebook</a>'\n",
              "          + ' to learn more about interactive tables.';\n",
              "        element.innerHTML = '';\n",
              "        dataTable['output_type'] = 'display_data';\n",
              "        await google.colab.output.renderOutput(dataTable, element);\n",
              "        const docLink = document.createElement('div');\n",
              "        docLink.innerHTML = docLinkHtml;\n",
              "        element.appendChild(docLink);\n",
              "      }\n",
              "    </script>\n",
              "  </div>\n",
              "\n",
              "\n",
              "<div id=\"df-54b72ddb-41e8-4ef7-900a-86174a898337\">\n",
              "  <button class=\"colab-df-quickchart\" onclick=\"quickchart('df-54b72ddb-41e8-4ef7-900a-86174a898337')\"\n",
              "            title=\"Suggest charts\"\n",
              "            style=\"display:none;\">\n",
              "\n",
              "<svg xmlns=\"http://www.w3.org/2000/svg\" height=\"24px\"viewBox=\"0 0 24 24\"\n",
              "     width=\"24px\">\n",
              "    <g>\n",
              "        <path d=\"M19 3H5c-1.1 0-2 .9-2 2v14c0 1.1.9 2 2 2h14c1.1 0 2-.9 2-2V5c0-1.1-.9-2-2-2zM9 17H7v-7h2v7zm4 0h-2V7h2v10zm4 0h-2v-4h2v4z\"/>\n",
              "    </g>\n",
              "</svg>\n",
              "  </button>\n",
              "\n",
              "<style>\n",
              "  .colab-df-quickchart {\n",
              "      --bg-color: #E8F0FE;\n",
              "      --fill-color: #1967D2;\n",
              "      --hover-bg-color: #E2EBFA;\n",
              "      --hover-fill-color: #174EA6;\n",
              "      --disabled-fill-color: #AAA;\n",
              "      --disabled-bg-color: #DDD;\n",
              "  }\n",
              "\n",
              "  [theme=dark] .colab-df-quickchart {\n",
              "      --bg-color: #3B4455;\n",
              "      --fill-color: #D2E3FC;\n",
              "      --hover-bg-color: #434B5C;\n",
              "      --hover-fill-color: #FFFFFF;\n",
              "      --disabled-bg-color: #3B4455;\n",
              "      --disabled-fill-color: #666;\n",
              "  }\n",
              "\n",
              "  .colab-df-quickchart {\n",
              "    background-color: var(--bg-color);\n",
              "    border: none;\n",
              "    border-radius: 50%;\n",
              "    cursor: pointer;\n",
              "    display: none;\n",
              "    fill: var(--fill-color);\n",
              "    height: 32px;\n",
              "    padding: 0;\n",
              "    width: 32px;\n",
              "  }\n",
              "\n",
              "  .colab-df-quickchart:hover {\n",
              "    background-color: var(--hover-bg-color);\n",
              "    box-shadow: 0 1px 2px rgba(60, 64, 67, 0.3), 0 1px 3px 1px rgba(60, 64, 67, 0.15);\n",
              "    fill: var(--button-hover-fill-color);\n",
              "  }\n",
              "\n",
              "  .colab-df-quickchart-complete:disabled,\n",
              "  .colab-df-quickchart-complete:disabled:hover {\n",
              "    background-color: var(--disabled-bg-color);\n",
              "    fill: var(--disabled-fill-color);\n",
              "    box-shadow: none;\n",
              "  }\n",
              "\n",
              "  .colab-df-spinner {\n",
              "    border: 2px solid var(--fill-color);\n",
              "    border-color: transparent;\n",
              "    border-bottom-color: var(--fill-color);\n",
              "    animation:\n",
              "      spin 1s steps(1) infinite;\n",
              "  }\n",
              "\n",
              "  @keyframes spin {\n",
              "    0% {\n",
              "      border-color: transparent;\n",
              "      border-bottom-color: var(--fill-color);\n",
              "      border-left-color: var(--fill-color);\n",
              "    }\n",
              "    20% {\n",
              "      border-color: transparent;\n",
              "      border-left-color: var(--fill-color);\n",
              "      border-top-color: var(--fill-color);\n",
              "    }\n",
              "    30% {\n",
              "      border-color: transparent;\n",
              "      border-left-color: var(--fill-color);\n",
              "      border-top-color: var(--fill-color);\n",
              "      border-right-color: var(--fill-color);\n",
              "    }\n",
              "    40% {\n",
              "      border-color: transparent;\n",
              "      border-right-color: var(--fill-color);\n",
              "      border-top-color: var(--fill-color);\n",
              "    }\n",
              "    60% {\n",
              "      border-color: transparent;\n",
              "      border-right-color: var(--fill-color);\n",
              "    }\n",
              "    80% {\n",
              "      border-color: transparent;\n",
              "      border-right-color: var(--fill-color);\n",
              "      border-bottom-color: var(--fill-color);\n",
              "    }\n",
              "    90% {\n",
              "      border-color: transparent;\n",
              "      border-bottom-color: var(--fill-color);\n",
              "    }\n",
              "  }\n",
              "</style>\n",
              "\n",
              "  <script>\n",
              "    async function quickchart(key) {\n",
              "      const quickchartButtonEl =\n",
              "        document.querySelector('#' + key + ' button');\n",
              "      quickchartButtonEl.disabled = true;  // To prevent multiple clicks.\n",
              "      quickchartButtonEl.classList.add('colab-df-spinner');\n",
              "      try {\n",
              "        const charts = await google.colab.kernel.invokeFunction(\n",
              "            'suggestCharts', [key], {});\n",
              "      } catch (error) {\n",
              "        console.error('Error during call to suggestCharts:', error);\n",
              "      }\n",
              "      quickchartButtonEl.classList.remove('colab-df-spinner');\n",
              "      quickchartButtonEl.classList.add('colab-df-quickchart-complete');\n",
              "    }\n",
              "    (() => {\n",
              "      let quickchartButtonEl =\n",
              "        document.querySelector('#df-54b72ddb-41e8-4ef7-900a-86174a898337 button');\n",
              "      quickchartButtonEl.style.display =\n",
              "        google.colab.kernel.accessAllowed ? 'block' : 'none';\n",
              "    })();\n",
              "  </script>\n",
              "</div>\n",
              "\n",
              "    </div>\n",
              "  </div>\n"
            ],
            "application/vnd.google.colaboratory.intrinsic+json": {
              "type": "dataframe",
              "variable_name": "data",
              "summary": "{\n  \"name\": \"data\",\n  \"rows\": 2149,\n  \"fields\": [\n    {\n      \"column\": \"SleepQuality\",\n      \"properties\": {\n        \"dtype\": \"number\",\n        \"std\": 1.7635729490512948,\n        \"min\": 4.002628659826611,\n        \"max\": 9.99984031668144,\n        \"num_unique_values\": 2149,\n        \"samples\": [\n          9.325018261775718,\n          7.872985406665506,\n          8.472929252349832\n        ],\n        \"semantic_type\": \"\",\n        \"description\": \"\"\n      }\n    },\n    {\n      \"column\": \"Depression\",\n      \"properties\": {\n        \"dtype\": \"number\",\n        \"std\": 0,\n        \"min\": 0,\n        \"max\": 1,\n        \"num_unique_values\": 2,\n        \"samples\": [\n          0,\n          1\n        ],\n        \"semantic_type\": \"\",\n        \"description\": \"\"\n      }\n    },\n    {\n      \"column\": \"Hypertension\",\n      \"properties\": {\n        \"dtype\": \"number\",\n        \"std\": 0,\n        \"min\": 0,\n        \"max\": 1,\n        \"num_unique_values\": 2,\n        \"samples\": [\n          1,\n          0\n        ],\n        \"semantic_type\": \"\",\n        \"description\": \"\"\n      }\n    }\n  ]\n}"
            }
          },
          "metadata": {},
          "execution_count": 12
        }
      ]
    },
    {
      "cell_type": "code",
      "source": [
        "stat, p_value = stats.f_oneway(df['SleepQuality'][df['Depression'] == 0],\n",
        "                               df['SleepQuality'][df['Depression'] == 1])\n",
        "\n",
        "if p_value < 0.05:\n",
        "    print(f\"There is a significant difference in SleepQuality based on Depression (p-value = {p_value})\")\n",
        "else:\n",
        "    print(f\"There is no significant difference in SleepQuality based on Depression (p-value = {p_value})\")"
      ],
      "metadata": {
        "colab": {
          "base_uri": "https://localhost:8080/"
        },
        "id": "UB1zEOdBAXol",
        "outputId": "73e9242f-6521-4df7-a30e-abda61fd67fd"
      },
      "id": "UB1zEOdBAXol",
      "execution_count": null,
      "outputs": [
        {
          "output_type": "stream",
          "name": "stdout",
          "text": [
            "There is no significant difference in SleepQuality based on Depression (p-value = 0.28662787420582264)\n"
          ]
        }
      ]
    },
    {
      "cell_type": "code",
      "source": [
        "stat, p_value = stats.f_oneway(df['SleepQuality'][df['Hypertension'] == 0],\n",
        "                               df['SleepQuality'][df['Hypertension'] == 1])\n",
        "\n",
        "if p_value < 0.05:\n",
        "    print(f\"Reject the null hypothesis. There is a significant difference in SleepQuality based on Hypertension (p-value = {p_value})\")\n",
        "else:\n",
        "    print(f\"Fail to reject the null hypothesis. There is no significant difference in SleepQuality based on Hypertension (p-value = {p_value})\")"
      ],
      "metadata": {
        "colab": {
          "base_uri": "https://localhost:8080/"
        },
        "id": "8ouGILSkUXDR",
        "outputId": "5321dc8a-c2bc-4ab6-e809-81bdd44c95a4"
      },
      "id": "8ouGILSkUXDR",
      "execution_count": null,
      "outputs": [
        {
          "output_type": "stream",
          "name": "stdout",
          "text": [
            "Fail to reject the null hypothesis. There is no significant difference in SleepQuality based on Hypertension (p-value = 0.07310765216732684)\n"
          ]
        }
      ]
    },
    {
      "cell_type": "code",
      "source": [
        "moore = ols('SleepQuality ~ C(Depression) * C(Hypertension)',data=data).fit()\n",
        "\n",
        "table = sm.stats.anova_lm(moore, typ=2)\n",
        "\n",
        "print(table)"
      ],
      "metadata": {
        "colab": {
          "base_uri": "https://localhost:8080/"
        },
        "id": "70P2sUjBS37h",
        "outputId": "83f0a7c7-5cbc-49d1-c987-034385f9d744"
      },
      "id": "70P2sUjBS37h",
      "execution_count": null,
      "outputs": [
        {
          "output_type": "stream",
          "name": "stdout",
          "text": [
            "                                    sum_sq      df         F    PR(>F)\n",
            "C(Depression)                     3.928038     1.0  1.264493  0.260928\n",
            "C(Hypertension)                  10.384123     1.0  3.342802  0.067638\n",
            "C(Depression):C(Hypertension)     3.513909     1.0  1.131179  0.287644\n",
            "Residual                       6663.256293  2145.0       NaN       NaN\n"
          ]
        }
      ]
    },
    {
      "cell_type": "markdown",
      "source": [
        "Two Way ANOVA signals that neither hypertension and depression affect sleep quality nor do they influence each other."
      ],
      "metadata": {
        "id": "ALUbdtfmDTHd"
      },
      "id": "ALUbdtfmDTHd"
    },
    {
      "cell_type": "markdown",
      "source": [
        "Is the proportion of mean age same among different ethnicities who develop alzheimers?\n",
        "\n",
        "H0: There is no difference among means of age among different ethnicities"
      ],
      "metadata": {
        "id": "A4V1uF8VJg0t"
      },
      "id": "A4V1uF8VJg0t"
    },
    {
      "cell_type": "code",
      "source": [
        "data = new.copy()\n",
        "data = data.loc[:, df.columns.intersection(['Age','Ethnicity','Diagnosis'])]\n",
        "data.head()"
      ],
      "metadata": {
        "colab": {
          "base_uri": "https://localhost:8080/",
          "height": 206
        },
        "id": "2Y7W-2t9Jgn5",
        "outputId": "19bd2423-adc5-4011-ef37-1967212a30d9"
      },
      "id": "2Y7W-2t9Jgn5",
      "execution_count": null,
      "outputs": [
        {
          "output_type": "execute_result",
          "data": {
            "text/plain": [
              "   Age  Ethnicity  Diagnosis\n",
              "0   73          0          0\n",
              "1   89          0          0\n",
              "2   73          3          0\n",
              "3   74          0          0\n",
              "4   89          0          0"
            ],
            "text/html": [
              "\n",
              "  <div id=\"df-82c1359d-a248-42ae-a578-5158eadb9cd7\" class=\"colab-df-container\">\n",
              "    <div>\n",
              "<style scoped>\n",
              "    .dataframe tbody tr th:only-of-type {\n",
              "        vertical-align: middle;\n",
              "    }\n",
              "\n",
              "    .dataframe tbody tr th {\n",
              "        vertical-align: top;\n",
              "    }\n",
              "\n",
              "    .dataframe thead th {\n",
              "        text-align: right;\n",
              "    }\n",
              "</style>\n",
              "<table border=\"1\" class=\"dataframe\">\n",
              "  <thead>\n",
              "    <tr style=\"text-align: right;\">\n",
              "      <th></th>\n",
              "      <th>Age</th>\n",
              "      <th>Ethnicity</th>\n",
              "      <th>Diagnosis</th>\n",
              "    </tr>\n",
              "  </thead>\n",
              "  <tbody>\n",
              "    <tr>\n",
              "      <th>0</th>\n",
              "      <td>73</td>\n",
              "      <td>0</td>\n",
              "      <td>0</td>\n",
              "    </tr>\n",
              "    <tr>\n",
              "      <th>1</th>\n",
              "      <td>89</td>\n",
              "      <td>0</td>\n",
              "      <td>0</td>\n",
              "    </tr>\n",
              "    <tr>\n",
              "      <th>2</th>\n",
              "      <td>73</td>\n",
              "      <td>3</td>\n",
              "      <td>0</td>\n",
              "    </tr>\n",
              "    <tr>\n",
              "      <th>3</th>\n",
              "      <td>74</td>\n",
              "      <td>0</td>\n",
              "      <td>0</td>\n",
              "    </tr>\n",
              "    <tr>\n",
              "      <th>4</th>\n",
              "      <td>89</td>\n",
              "      <td>0</td>\n",
              "      <td>0</td>\n",
              "    </tr>\n",
              "  </tbody>\n",
              "</table>\n",
              "</div>\n",
              "    <div class=\"colab-df-buttons\">\n",
              "\n",
              "  <div class=\"colab-df-container\">\n",
              "    <button class=\"colab-df-convert\" onclick=\"convertToInteractive('df-82c1359d-a248-42ae-a578-5158eadb9cd7')\"\n",
              "            title=\"Convert this dataframe to an interactive table.\"\n",
              "            style=\"display:none;\">\n",
              "\n",
              "  <svg xmlns=\"http://www.w3.org/2000/svg\" height=\"24px\" viewBox=\"0 -960 960 960\">\n",
              "    <path d=\"M120-120v-720h720v720H120Zm60-500h600v-160H180v160Zm220 220h160v-160H400v160Zm0 220h160v-160H400v160ZM180-400h160v-160H180v160Zm440 0h160v-160H620v160ZM180-180h160v-160H180v160Zm440 0h160v-160H620v160Z\"/>\n",
              "  </svg>\n",
              "    </button>\n",
              "\n",
              "  <style>\n",
              "    .colab-df-container {\n",
              "      display:flex;\n",
              "      gap: 12px;\n",
              "    }\n",
              "\n",
              "    .colab-df-convert {\n",
              "      background-color: #E8F0FE;\n",
              "      border: none;\n",
              "      border-radius: 50%;\n",
              "      cursor: pointer;\n",
              "      display: none;\n",
              "      fill: #1967D2;\n",
              "      height: 32px;\n",
              "      padding: 0 0 0 0;\n",
              "      width: 32px;\n",
              "    }\n",
              "\n",
              "    .colab-df-convert:hover {\n",
              "      background-color: #E2EBFA;\n",
              "      box-shadow: 0px 1px 2px rgba(60, 64, 67, 0.3), 0px 1px 3px 1px rgba(60, 64, 67, 0.15);\n",
              "      fill: #174EA6;\n",
              "    }\n",
              "\n",
              "    .colab-df-buttons div {\n",
              "      margin-bottom: 4px;\n",
              "    }\n",
              "\n",
              "    [theme=dark] .colab-df-convert {\n",
              "      background-color: #3B4455;\n",
              "      fill: #D2E3FC;\n",
              "    }\n",
              "\n",
              "    [theme=dark] .colab-df-convert:hover {\n",
              "      background-color: #434B5C;\n",
              "      box-shadow: 0px 1px 3px 1px rgba(0, 0, 0, 0.15);\n",
              "      filter: drop-shadow(0px 1px 2px rgba(0, 0, 0, 0.3));\n",
              "      fill: #FFFFFF;\n",
              "    }\n",
              "  </style>\n",
              "\n",
              "    <script>\n",
              "      const buttonEl =\n",
              "        document.querySelector('#df-82c1359d-a248-42ae-a578-5158eadb9cd7 button.colab-df-convert');\n",
              "      buttonEl.style.display =\n",
              "        google.colab.kernel.accessAllowed ? 'block' : 'none';\n",
              "\n",
              "      async function convertToInteractive(key) {\n",
              "        const element = document.querySelector('#df-82c1359d-a248-42ae-a578-5158eadb9cd7');\n",
              "        const dataTable =\n",
              "          await google.colab.kernel.invokeFunction('convertToInteractive',\n",
              "                                                    [key], {});\n",
              "        if (!dataTable) return;\n",
              "\n",
              "        const docLinkHtml = 'Like what you see? Visit the ' +\n",
              "          '<a target=\"_blank\" href=https://colab.research.google.com/notebooks/data_table.ipynb>data table notebook</a>'\n",
              "          + ' to learn more about interactive tables.';\n",
              "        element.innerHTML = '';\n",
              "        dataTable['output_type'] = 'display_data';\n",
              "        await google.colab.output.renderOutput(dataTable, element);\n",
              "        const docLink = document.createElement('div');\n",
              "        docLink.innerHTML = docLinkHtml;\n",
              "        element.appendChild(docLink);\n",
              "      }\n",
              "    </script>\n",
              "  </div>\n",
              "\n",
              "\n",
              "<div id=\"df-6453561b-e1ec-40e2-bb32-cbbc5f845b21\">\n",
              "  <button class=\"colab-df-quickchart\" onclick=\"quickchart('df-6453561b-e1ec-40e2-bb32-cbbc5f845b21')\"\n",
              "            title=\"Suggest charts\"\n",
              "            style=\"display:none;\">\n",
              "\n",
              "<svg xmlns=\"http://www.w3.org/2000/svg\" height=\"24px\"viewBox=\"0 0 24 24\"\n",
              "     width=\"24px\">\n",
              "    <g>\n",
              "        <path d=\"M19 3H5c-1.1 0-2 .9-2 2v14c0 1.1.9 2 2 2h14c1.1 0 2-.9 2-2V5c0-1.1-.9-2-2-2zM9 17H7v-7h2v7zm4 0h-2V7h2v10zm4 0h-2v-4h2v4z\"/>\n",
              "    </g>\n",
              "</svg>\n",
              "  </button>\n",
              "\n",
              "<style>\n",
              "  .colab-df-quickchart {\n",
              "      --bg-color: #E8F0FE;\n",
              "      --fill-color: #1967D2;\n",
              "      --hover-bg-color: #E2EBFA;\n",
              "      --hover-fill-color: #174EA6;\n",
              "      --disabled-fill-color: #AAA;\n",
              "      --disabled-bg-color: #DDD;\n",
              "  }\n",
              "\n",
              "  [theme=dark] .colab-df-quickchart {\n",
              "      --bg-color: #3B4455;\n",
              "      --fill-color: #D2E3FC;\n",
              "      --hover-bg-color: #434B5C;\n",
              "      --hover-fill-color: #FFFFFF;\n",
              "      --disabled-bg-color: #3B4455;\n",
              "      --disabled-fill-color: #666;\n",
              "  }\n",
              "\n",
              "  .colab-df-quickchart {\n",
              "    background-color: var(--bg-color);\n",
              "    border: none;\n",
              "    border-radius: 50%;\n",
              "    cursor: pointer;\n",
              "    display: none;\n",
              "    fill: var(--fill-color);\n",
              "    height: 32px;\n",
              "    padding: 0;\n",
              "    width: 32px;\n",
              "  }\n",
              "\n",
              "  .colab-df-quickchart:hover {\n",
              "    background-color: var(--hover-bg-color);\n",
              "    box-shadow: 0 1px 2px rgba(60, 64, 67, 0.3), 0 1px 3px 1px rgba(60, 64, 67, 0.15);\n",
              "    fill: var(--button-hover-fill-color);\n",
              "  }\n",
              "\n",
              "  .colab-df-quickchart-complete:disabled,\n",
              "  .colab-df-quickchart-complete:disabled:hover {\n",
              "    background-color: var(--disabled-bg-color);\n",
              "    fill: var(--disabled-fill-color);\n",
              "    box-shadow: none;\n",
              "  }\n",
              "\n",
              "  .colab-df-spinner {\n",
              "    border: 2px solid var(--fill-color);\n",
              "    border-color: transparent;\n",
              "    border-bottom-color: var(--fill-color);\n",
              "    animation:\n",
              "      spin 1s steps(1) infinite;\n",
              "  }\n",
              "\n",
              "  @keyframes spin {\n",
              "    0% {\n",
              "      border-color: transparent;\n",
              "      border-bottom-color: var(--fill-color);\n",
              "      border-left-color: var(--fill-color);\n",
              "    }\n",
              "    20% {\n",
              "      border-color: transparent;\n",
              "      border-left-color: var(--fill-color);\n",
              "      border-top-color: var(--fill-color);\n",
              "    }\n",
              "    30% {\n",
              "      border-color: transparent;\n",
              "      border-left-color: var(--fill-color);\n",
              "      border-top-color: var(--fill-color);\n",
              "      border-right-color: var(--fill-color);\n",
              "    }\n",
              "    40% {\n",
              "      border-color: transparent;\n",
              "      border-right-color: var(--fill-color);\n",
              "      border-top-color: var(--fill-color);\n",
              "    }\n",
              "    60% {\n",
              "      border-color: transparent;\n",
              "      border-right-color: var(--fill-color);\n",
              "    }\n",
              "    80% {\n",
              "      border-color: transparent;\n",
              "      border-right-color: var(--fill-color);\n",
              "      border-bottom-color: var(--fill-color);\n",
              "    }\n",
              "    90% {\n",
              "      border-color: transparent;\n",
              "      border-bottom-color: var(--fill-color);\n",
              "    }\n",
              "  }\n",
              "</style>\n",
              "\n",
              "  <script>\n",
              "    async function quickchart(key) {\n",
              "      const quickchartButtonEl =\n",
              "        document.querySelector('#' + key + ' button');\n",
              "      quickchartButtonEl.disabled = true;  // To prevent multiple clicks.\n",
              "      quickchartButtonEl.classList.add('colab-df-spinner');\n",
              "      try {\n",
              "        const charts = await google.colab.kernel.invokeFunction(\n",
              "            'suggestCharts', [key], {});\n",
              "      } catch (error) {\n",
              "        console.error('Error during call to suggestCharts:', error);\n",
              "      }\n",
              "      quickchartButtonEl.classList.remove('colab-df-spinner');\n",
              "      quickchartButtonEl.classList.add('colab-df-quickchart-complete');\n",
              "    }\n",
              "    (() => {\n",
              "      let quickchartButtonEl =\n",
              "        document.querySelector('#df-6453561b-e1ec-40e2-bb32-cbbc5f845b21 button');\n",
              "      quickchartButtonEl.style.display =\n",
              "        google.colab.kernel.accessAllowed ? 'block' : 'none';\n",
              "    })();\n",
              "  </script>\n",
              "</div>\n",
              "\n",
              "    </div>\n",
              "  </div>\n"
            ],
            "application/vnd.google.colaboratory.intrinsic+json": {
              "type": "dataframe",
              "variable_name": "data",
              "summary": "{\n  \"name\": \"data\",\n  \"rows\": 2149,\n  \"fields\": [\n    {\n      \"column\": \"Age\",\n      \"properties\": {\n        \"dtype\": \"number\",\n        \"std\": 8,\n        \"min\": 60,\n        \"max\": 90,\n        \"num_unique_values\": 31,\n        \"samples\": [\n          61,\n          77,\n          60\n        ],\n        \"semantic_type\": \"\",\n        \"description\": \"\"\n      }\n    },\n    {\n      \"column\": \"Ethnicity\",\n      \"properties\": {\n        \"dtype\": \"number\",\n        \"std\": 0,\n        \"min\": 0,\n        \"max\": 3,\n        \"num_unique_values\": 4,\n        \"samples\": [\n          3,\n          2,\n          0\n        ],\n        \"semantic_type\": \"\",\n        \"description\": \"\"\n      }\n    },\n    {\n      \"column\": \"Diagnosis\",\n      \"properties\": {\n        \"dtype\": \"number\",\n        \"std\": 0,\n        \"min\": 0,\n        \"max\": 1,\n        \"num_unique_values\": 2,\n        \"samples\": [\n          1,\n          0\n        ],\n        \"semantic_type\": \"\",\n        \"description\": \"\"\n      }\n    }\n  ]\n}"
            }
          },
          "metadata": {},
          "execution_count": 187
        }
      ]
    },
    {
      "cell_type": "code",
      "source": [
        "data = data.loc[data['Diagnosis'] == 0]"
      ],
      "metadata": {
        "id": "QYjq1OlWPVYo"
      },
      "id": "QYjq1OlWPVYo",
      "execution_count": null,
      "outputs": []
    },
    {
      "cell_type": "code",
      "source": [
        "stat, p_value = stats.f_oneway(data['Age'][data['Ethnicity'] == 0],\n",
        "                               data['Age'][data['Ethnicity'] == 1],\n",
        "                               data['Age'][data['Ethnicity'] == 2],\n",
        "                               data['Age'][data['Ethnicity'] == 3],)\n",
        "\n",
        "if p_value < 0.05:\n",
        "    print(f\"There is a significant difference in age among different ethnicities (p-value = {p_value})\")\n",
        "else:\n",
        "    print(f\"There is no significant difference in age among different ethnicities  (p-value = {p_value})\")"
      ],
      "metadata": {
        "colab": {
          "base_uri": "https://localhost:8080/"
        },
        "id": "3_EveWvbLxAz",
        "outputId": "fa00701d-dabc-466f-a9c8-b106453c3bd8"
      },
      "id": "3_EveWvbLxAz",
      "execution_count": null,
      "outputs": [
        {
          "output_type": "stream",
          "name": "stdout",
          "text": [
            "There is no significant difference in age among different ethnicities  (p-value = 0.13892834278611002)\n"
          ]
        }
      ]
    },
    {
      "cell_type": "markdown",
      "source": [
        "Conclusion: ANOVA suggest that there is no significant difference in age when it comes to different ethnicities"
      ],
      "metadata": {
        "id": "xdZHIgcQTmNr"
      },
      "id": "xdZHIgcQTmNr"
    },
    {
      "cell_type": "markdown",
      "source": [
        "# Hypothesis 10:"
      ],
      "metadata": {
        "id": "uaZzQrHZUXrt"
      },
      "id": "uaZzQrHZUXrt"
    },
    {
      "cell_type": "code",
      "source": [
        "data = new.copy()\n",
        "data = data.loc[:, df.columns.intersection(['Age','Diagnosis'])]\n",
        "data['AgeGroup'] = data['Age'].apply(lambda x: 'Above 80' if x > 80 else '80 or below')\n",
        "data.head()"
      ],
      "metadata": {
        "colab": {
          "base_uri": "https://localhost:8080/",
          "height": 206
        },
        "id": "4gEDdkH9UUus",
        "outputId": "8ca62320-2a30-4573-d526-46644614527b"
      },
      "id": "4gEDdkH9UUus",
      "execution_count": null,
      "outputs": [
        {
          "output_type": "execute_result",
          "data": {
            "text/plain": [
              "   Age  Diagnosis     AgeGroup\n",
              "0   73          0  80 or below\n",
              "1   89          0     Above 80\n",
              "2   73          0  80 or below\n",
              "3   74          0  80 or below\n",
              "4   89          0     Above 80"
            ],
            "text/html": [
              "\n",
              "  <div id=\"df-2d2bbd29-82ae-438a-89a9-ec867d3fe4d9\" class=\"colab-df-container\">\n",
              "    <div>\n",
              "<style scoped>\n",
              "    .dataframe tbody tr th:only-of-type {\n",
              "        vertical-align: middle;\n",
              "    }\n",
              "\n",
              "    .dataframe tbody tr th {\n",
              "        vertical-align: top;\n",
              "    }\n",
              "\n",
              "    .dataframe thead th {\n",
              "        text-align: right;\n",
              "    }\n",
              "</style>\n",
              "<table border=\"1\" class=\"dataframe\">\n",
              "  <thead>\n",
              "    <tr style=\"text-align: right;\">\n",
              "      <th></th>\n",
              "      <th>Age</th>\n",
              "      <th>Diagnosis</th>\n",
              "      <th>AgeGroup</th>\n",
              "    </tr>\n",
              "  </thead>\n",
              "  <tbody>\n",
              "    <tr>\n",
              "      <th>0</th>\n",
              "      <td>73</td>\n",
              "      <td>0</td>\n",
              "      <td>80 or below</td>\n",
              "    </tr>\n",
              "    <tr>\n",
              "      <th>1</th>\n",
              "      <td>89</td>\n",
              "      <td>0</td>\n",
              "      <td>Above 80</td>\n",
              "    </tr>\n",
              "    <tr>\n",
              "      <th>2</th>\n",
              "      <td>73</td>\n",
              "      <td>0</td>\n",
              "      <td>80 or below</td>\n",
              "    </tr>\n",
              "    <tr>\n",
              "      <th>3</th>\n",
              "      <td>74</td>\n",
              "      <td>0</td>\n",
              "      <td>80 or below</td>\n",
              "    </tr>\n",
              "    <tr>\n",
              "      <th>4</th>\n",
              "      <td>89</td>\n",
              "      <td>0</td>\n",
              "      <td>Above 80</td>\n",
              "    </tr>\n",
              "  </tbody>\n",
              "</table>\n",
              "</div>\n",
              "    <div class=\"colab-df-buttons\">\n",
              "\n",
              "  <div class=\"colab-df-container\">\n",
              "    <button class=\"colab-df-convert\" onclick=\"convertToInteractive('df-2d2bbd29-82ae-438a-89a9-ec867d3fe4d9')\"\n",
              "            title=\"Convert this dataframe to an interactive table.\"\n",
              "            style=\"display:none;\">\n",
              "\n",
              "  <svg xmlns=\"http://www.w3.org/2000/svg\" height=\"24px\" viewBox=\"0 -960 960 960\">\n",
              "    <path d=\"M120-120v-720h720v720H120Zm60-500h600v-160H180v160Zm220 220h160v-160H400v160Zm0 220h160v-160H400v160ZM180-400h160v-160H180v160Zm440 0h160v-160H620v160ZM180-180h160v-160H180v160Zm440 0h160v-160H620v160Z\"/>\n",
              "  </svg>\n",
              "    </button>\n",
              "\n",
              "  <style>\n",
              "    .colab-df-container {\n",
              "      display:flex;\n",
              "      gap: 12px;\n",
              "    }\n",
              "\n",
              "    .colab-df-convert {\n",
              "      background-color: #E8F0FE;\n",
              "      border: none;\n",
              "      border-radius: 50%;\n",
              "      cursor: pointer;\n",
              "      display: none;\n",
              "      fill: #1967D2;\n",
              "      height: 32px;\n",
              "      padding: 0 0 0 0;\n",
              "      width: 32px;\n",
              "    }\n",
              "\n",
              "    .colab-df-convert:hover {\n",
              "      background-color: #E2EBFA;\n",
              "      box-shadow: 0px 1px 2px rgba(60, 64, 67, 0.3), 0px 1px 3px 1px rgba(60, 64, 67, 0.15);\n",
              "      fill: #174EA6;\n",
              "    }\n",
              "\n",
              "    .colab-df-buttons div {\n",
              "      margin-bottom: 4px;\n",
              "    }\n",
              "\n",
              "    [theme=dark] .colab-df-convert {\n",
              "      background-color: #3B4455;\n",
              "      fill: #D2E3FC;\n",
              "    }\n",
              "\n",
              "    [theme=dark] .colab-df-convert:hover {\n",
              "      background-color: #434B5C;\n",
              "      box-shadow: 0px 1px 3px 1px rgba(0, 0, 0, 0.15);\n",
              "      filter: drop-shadow(0px 1px 2px rgba(0, 0, 0, 0.3));\n",
              "      fill: #FFFFFF;\n",
              "    }\n",
              "  </style>\n",
              "\n",
              "    <script>\n",
              "      const buttonEl =\n",
              "        document.querySelector('#df-2d2bbd29-82ae-438a-89a9-ec867d3fe4d9 button.colab-df-convert');\n",
              "      buttonEl.style.display =\n",
              "        google.colab.kernel.accessAllowed ? 'block' : 'none';\n",
              "\n",
              "      async function convertToInteractive(key) {\n",
              "        const element = document.querySelector('#df-2d2bbd29-82ae-438a-89a9-ec867d3fe4d9');\n",
              "        const dataTable =\n",
              "          await google.colab.kernel.invokeFunction('convertToInteractive',\n",
              "                                                    [key], {});\n",
              "        if (!dataTable) return;\n",
              "\n",
              "        const docLinkHtml = 'Like what you see? Visit the ' +\n",
              "          '<a target=\"_blank\" href=https://colab.research.google.com/notebooks/data_table.ipynb>data table notebook</a>'\n",
              "          + ' to learn more about interactive tables.';\n",
              "        element.innerHTML = '';\n",
              "        dataTable['output_type'] = 'display_data';\n",
              "        await google.colab.output.renderOutput(dataTable, element);\n",
              "        const docLink = document.createElement('div');\n",
              "        docLink.innerHTML = docLinkHtml;\n",
              "        element.appendChild(docLink);\n",
              "      }\n",
              "    </script>\n",
              "  </div>\n",
              "\n",
              "\n",
              "<div id=\"df-3eabbcd8-7357-49a0-a4b8-7f17f467bb3a\">\n",
              "  <button class=\"colab-df-quickchart\" onclick=\"quickchart('df-3eabbcd8-7357-49a0-a4b8-7f17f467bb3a')\"\n",
              "            title=\"Suggest charts\"\n",
              "            style=\"display:none;\">\n",
              "\n",
              "<svg xmlns=\"http://www.w3.org/2000/svg\" height=\"24px\"viewBox=\"0 0 24 24\"\n",
              "     width=\"24px\">\n",
              "    <g>\n",
              "        <path d=\"M19 3H5c-1.1 0-2 .9-2 2v14c0 1.1.9 2 2 2h14c1.1 0 2-.9 2-2V5c0-1.1-.9-2-2-2zM9 17H7v-7h2v7zm4 0h-2V7h2v10zm4 0h-2v-4h2v4z\"/>\n",
              "    </g>\n",
              "</svg>\n",
              "  </button>\n",
              "\n",
              "<style>\n",
              "  .colab-df-quickchart {\n",
              "      --bg-color: #E8F0FE;\n",
              "      --fill-color: #1967D2;\n",
              "      --hover-bg-color: #E2EBFA;\n",
              "      --hover-fill-color: #174EA6;\n",
              "      --disabled-fill-color: #AAA;\n",
              "      --disabled-bg-color: #DDD;\n",
              "  }\n",
              "\n",
              "  [theme=dark] .colab-df-quickchart {\n",
              "      --bg-color: #3B4455;\n",
              "      --fill-color: #D2E3FC;\n",
              "      --hover-bg-color: #434B5C;\n",
              "      --hover-fill-color: #FFFFFF;\n",
              "      --disabled-bg-color: #3B4455;\n",
              "      --disabled-fill-color: #666;\n",
              "  }\n",
              "\n",
              "  .colab-df-quickchart {\n",
              "    background-color: var(--bg-color);\n",
              "    border: none;\n",
              "    border-radius: 50%;\n",
              "    cursor: pointer;\n",
              "    display: none;\n",
              "    fill: var(--fill-color);\n",
              "    height: 32px;\n",
              "    padding: 0;\n",
              "    width: 32px;\n",
              "  }\n",
              "\n",
              "  .colab-df-quickchart:hover {\n",
              "    background-color: var(--hover-bg-color);\n",
              "    box-shadow: 0 1px 2px rgba(60, 64, 67, 0.3), 0 1px 3px 1px rgba(60, 64, 67, 0.15);\n",
              "    fill: var(--button-hover-fill-color);\n",
              "  }\n",
              "\n",
              "  .colab-df-quickchart-complete:disabled,\n",
              "  .colab-df-quickchart-complete:disabled:hover {\n",
              "    background-color: var(--disabled-bg-color);\n",
              "    fill: var(--disabled-fill-color);\n",
              "    box-shadow: none;\n",
              "  }\n",
              "\n",
              "  .colab-df-spinner {\n",
              "    border: 2px solid var(--fill-color);\n",
              "    border-color: transparent;\n",
              "    border-bottom-color: var(--fill-color);\n",
              "    animation:\n",
              "      spin 1s steps(1) infinite;\n",
              "  }\n",
              "\n",
              "  @keyframes spin {\n",
              "    0% {\n",
              "      border-color: transparent;\n",
              "      border-bottom-color: var(--fill-color);\n",
              "      border-left-color: var(--fill-color);\n",
              "    }\n",
              "    20% {\n",
              "      border-color: transparent;\n",
              "      border-left-color: var(--fill-color);\n",
              "      border-top-color: var(--fill-color);\n",
              "    }\n",
              "    30% {\n",
              "      border-color: transparent;\n",
              "      border-left-color: var(--fill-color);\n",
              "      border-top-color: var(--fill-color);\n",
              "      border-right-color: var(--fill-color);\n",
              "    }\n",
              "    40% {\n",
              "      border-color: transparent;\n",
              "      border-right-color: var(--fill-color);\n",
              "      border-top-color: var(--fill-color);\n",
              "    }\n",
              "    60% {\n",
              "      border-color: transparent;\n",
              "      border-right-color: var(--fill-color);\n",
              "    }\n",
              "    80% {\n",
              "      border-color: transparent;\n",
              "      border-right-color: var(--fill-color);\n",
              "      border-bottom-color: var(--fill-color);\n",
              "    }\n",
              "    90% {\n",
              "      border-color: transparent;\n",
              "      border-bottom-color: var(--fill-color);\n",
              "    }\n",
              "  }\n",
              "</style>\n",
              "\n",
              "  <script>\n",
              "    async function quickchart(key) {\n",
              "      const quickchartButtonEl =\n",
              "        document.querySelector('#' + key + ' button');\n",
              "      quickchartButtonEl.disabled = true;  // To prevent multiple clicks.\n",
              "      quickchartButtonEl.classList.add('colab-df-spinner');\n",
              "      try {\n",
              "        const charts = await google.colab.kernel.invokeFunction(\n",
              "            'suggestCharts', [key], {});\n",
              "      } catch (error) {\n",
              "        console.error('Error during call to suggestCharts:', error);\n",
              "      }\n",
              "      quickchartButtonEl.classList.remove('colab-df-spinner');\n",
              "      quickchartButtonEl.classList.add('colab-df-quickchart-complete');\n",
              "    }\n",
              "    (() => {\n",
              "      let quickchartButtonEl =\n",
              "        document.querySelector('#df-3eabbcd8-7357-49a0-a4b8-7f17f467bb3a button');\n",
              "      quickchartButtonEl.style.display =\n",
              "        google.colab.kernel.accessAllowed ? 'block' : 'none';\n",
              "    })();\n",
              "  </script>\n",
              "</div>\n",
              "\n",
              "    </div>\n",
              "  </div>\n"
            ],
            "application/vnd.google.colaboratory.intrinsic+json": {
              "type": "dataframe",
              "variable_name": "data",
              "summary": "{\n  \"name\": \"data\",\n  \"rows\": 2149,\n  \"fields\": [\n    {\n      \"column\": \"Age\",\n      \"properties\": {\n        \"dtype\": \"number\",\n        \"std\": 8,\n        \"min\": 60,\n        \"max\": 90,\n        \"num_unique_values\": 31,\n        \"samples\": [\n          61,\n          77,\n          60\n        ],\n        \"semantic_type\": \"\",\n        \"description\": \"\"\n      }\n    },\n    {\n      \"column\": \"Diagnosis\",\n      \"properties\": {\n        \"dtype\": \"number\",\n        \"std\": 0,\n        \"min\": 0,\n        \"max\": 1,\n        \"num_unique_values\": 2,\n        \"samples\": [\n          1,\n          0\n        ],\n        \"semantic_type\": \"\",\n        \"description\": \"\"\n      }\n    },\n    {\n      \"column\": \"AgeGroup\",\n      \"properties\": {\n        \"dtype\": \"category\",\n        \"num_unique_values\": 2,\n        \"samples\": [\n          \"Above 80\",\n          \"80 or below\"\n        ],\n        \"semantic_type\": \"\",\n        \"description\": \"\"\n      }\n    }\n  ]\n}"
            }
          },
          "metadata": {},
          "execution_count": 81
        }
      ]
    },
    {
      "cell_type": "markdown",
      "source": [
        "Z test for proportions"
      ],
      "metadata": {
        "id": "4lN4KI7AWSEt"
      },
      "id": "4lN4KI7AWSEt"
    },
    {
      "cell_type": "code",
      "source": [
        "above80 = data[data['Age'] > 80]\n",
        "below80 = data[data['Age'] <= 80]\n",
        "\n",
        "count = np.array([\n",
        "    len(above80[above80['Diagnosis'] == 1]),\n",
        "    len(below80[below80['Diagnosis'] == 1])\n",
        "])\n",
        "nobs = np.array([len(above80), len(below80)])\n",
        "\n",
        "z_stat, p_value = proportions_ztest(count, nobs)\n",
        "\n",
        "if p_value < 0.05:\n",
        "    print(f\"There is a significant difference in diagnosis of Alzheimer's with respect to age (p-value = {p_value})\")\n",
        "else:\n",
        "    print(f\"There is no significant difference in diagnosis of Alzheimer's with respect to age (p-value = {p_value})\")\n",
        "print(f\"Diagnosed: Proportion with Alzheimer's disease = {above80['Diagnosis'].mean()}, n = {len(above80)}\")\n",
        "print(f\"Not Diagnosed: Proportion with Alzheimer's disease = {below80['Diagnosis'].mean()}, n = {len(below80)}\")"
      ],
      "metadata": {
        "colab": {
          "base_uri": "https://localhost:8080/"
        },
        "id": "a5l1GCGzWX9P",
        "outputId": "3cec7420-3284-4b5c-d5a4-cc397a04084e"
      },
      "id": "a5l1GCGzWX9P",
      "execution_count": null,
      "outputs": [
        {
          "output_type": "stream",
          "name": "stdout",
          "text": [
            "There is no significant difference in diagnosis of Alzheimer's with respect to age (p-value = 0.878261459937511)\n",
            "Diagnosed: Proportion with Alzheimer's disease = 0.3559822747415066, n = 677\n",
            "Not Diagnosed: Proportion with Alzheimer's disease = 0.35258152173913043, n = 1472\n"
          ]
        }
      ]
    },
    {
      "cell_type": "markdown",
      "source": [
        "Chi Sqaure"
      ],
      "metadata": {
        "id": "nOIEA_bQWYm3"
      },
      "id": "nOIEA_bQWYm3"
    },
    {
      "cell_type": "code",
      "source": [
        "contingency_table = pd.crosstab(data['AgeGroup'], data['Diagnosis'])\n",
        "\n",
        "chi2, p_value, dof, expected = chi2_contingency(contingency_table)\n",
        "if p_value < 0.05:\n",
        "    print(f\"There is a significant difference in diagnosis of Alzheimer's with respect to age (p-value = {p_value})\")\n",
        "else:\n",
        "    print(f\"There is no significant difference in diagnosis of Alzheimer's with respect to age (p-value = {p_value})\")\n",
        "print(f\"Diagnosed: Proportion with Alzheimer's disease = {data['Diagnosis'].mean()}, n = {len(data[data['AgeGroup'] == 'Above 80'])}\")\n",
        "print(f\"Not Diagnosed: Proportion with Alzheimer's disease = {data['Diagnosis'].mean()}, n = {len(data[data['AgeGroup'] == '80 or below'])}\")"
      ],
      "metadata": {
        "colab": {
          "base_uri": "https://localhost:8080/"
        },
        "id": "OsD-WT1TWaZf",
        "outputId": "9731c1d2-5185-4d87-9a00-c00a6577c3d0"
      },
      "id": "OsD-WT1TWaZf",
      "execution_count": null,
      "outputs": [
        {
          "output_type": "stream",
          "name": "stdout",
          "text": [
            "There is no significant difference in diagnosis of Alzheimer's with respect to age (p-value = 0.9166860377574)\n",
            "Diagnosed: Proportion with Alzheimer's disease = 0.35365286179618427, n = 677\n",
            "Not Diagnosed: Proportion with Alzheimer's disease = 0.35365286179618427, n = 1472\n"
          ]
        }
      ]
    },
    {
      "cell_type": "markdown",
      "source": [
        "Our tests conclude that there isn't a significant difference in diagnosis of Alzheimers when it comes to individuals older than 80 when compared to indivudals younger than them"
      ],
      "metadata": {
        "id": "4rYIEPpMX9P2"
      },
      "id": "4rYIEPpMX9P2"
    },
    {
      "cell_type": "markdown",
      "source": [
        "# Testing ANOVA"
      ],
      "metadata": {
        "id": "f-hgr8ktmO-E"
      },
      "id": "f-hgr8ktmO-E"
    },
    {
      "cell_type": "code",
      "source": [
        "moore = ols('AlcoholConsumption ~ C(EducationLevel)',data=df).fit()\n",
        "\n",
        "table = sm.stats.anova_lm(moore, typ=2)\n",
        "\n",
        "print(table)"
      ],
      "metadata": {
        "colab": {
          "base_uri": "https://localhost:8080/"
        },
        "id": "2dyeJ4fgmMi0",
        "outputId": "36acd4ae-4ebe-49ed-83f9-c875d433ef16"
      },
      "id": "2dyeJ4fgmMi0",
      "execution_count": null,
      "outputs": [
        {
          "output_type": "stream",
          "name": "stdout",
          "text": [
            "                         sum_sq      df         F    PR(>F)\n",
            "C(EducationLevel)    213.872811     3.0  2.153792  0.091528\n",
            "Residual           70999.911779  2145.0       NaN       NaN\n"
          ]
        }
      ]
    },
    {
      "cell_type": "markdown",
      "source": [
        "EducationLevel ANOVA on DietQuality"
      ],
      "metadata": {
        "id": "OkkOJgtMzfPV"
      },
      "id": "OkkOJgtMzfPV"
    },
    {
      "cell_type": "markdown",
      "source": [
        "CardiovascularDisease ANOVA on DiastolicBP"
      ],
      "metadata": {
        "id": "eWpi4d2Aoth8"
      },
      "id": "eWpi4d2Aoth8"
    },
    {
      "cell_type": "code",
      "source": [
        "data = new.copy()\n",
        "data = data.loc[:, df.columns.intersection(['MMSE','Diagnosis'])]\n",
        "data.head()"
      ],
      "metadata": {
        "colab": {
          "base_uri": "https://localhost:8080/",
          "height": 206
        },
        "id": "IB85XpBupJ5c",
        "outputId": "54912a57-5850-471d-acc1-3c5bac4f21b1"
      },
      "id": "IB85XpBupJ5c",
      "execution_count": null,
      "outputs": [
        {
          "output_type": "execute_result",
          "data": {
            "text/plain": [
              "        MMSE  Diagnosis\n",
              "0  21.463532          0\n",
              "1  20.613267          0\n",
              "2   7.356249          0\n",
              "3  13.991127          0\n",
              "4  13.517609          0"
            ],
            "text/html": [
              "\n",
              "  <div id=\"df-e3c923fb-fbc4-43b6-bfe0-3595f7f80eba\" class=\"colab-df-container\">\n",
              "    <div>\n",
              "<style scoped>\n",
              "    .dataframe tbody tr th:only-of-type {\n",
              "        vertical-align: middle;\n",
              "    }\n",
              "\n",
              "    .dataframe tbody tr th {\n",
              "        vertical-align: top;\n",
              "    }\n",
              "\n",
              "    .dataframe thead th {\n",
              "        text-align: right;\n",
              "    }\n",
              "</style>\n",
              "<table border=\"1\" class=\"dataframe\">\n",
              "  <thead>\n",
              "    <tr style=\"text-align: right;\">\n",
              "      <th></th>\n",
              "      <th>MMSE</th>\n",
              "      <th>Diagnosis</th>\n",
              "    </tr>\n",
              "  </thead>\n",
              "  <tbody>\n",
              "    <tr>\n",
              "      <th>0</th>\n",
              "      <td>21.463532</td>\n",
              "      <td>0</td>\n",
              "    </tr>\n",
              "    <tr>\n",
              "      <th>1</th>\n",
              "      <td>20.613267</td>\n",
              "      <td>0</td>\n",
              "    </tr>\n",
              "    <tr>\n",
              "      <th>2</th>\n",
              "      <td>7.356249</td>\n",
              "      <td>0</td>\n",
              "    </tr>\n",
              "    <tr>\n",
              "      <th>3</th>\n",
              "      <td>13.991127</td>\n",
              "      <td>0</td>\n",
              "    </tr>\n",
              "    <tr>\n",
              "      <th>4</th>\n",
              "      <td>13.517609</td>\n",
              "      <td>0</td>\n",
              "    </tr>\n",
              "  </tbody>\n",
              "</table>\n",
              "</div>\n",
              "    <div class=\"colab-df-buttons\">\n",
              "\n",
              "  <div class=\"colab-df-container\">\n",
              "    <button class=\"colab-df-convert\" onclick=\"convertToInteractive('df-e3c923fb-fbc4-43b6-bfe0-3595f7f80eba')\"\n",
              "            title=\"Convert this dataframe to an interactive table.\"\n",
              "            style=\"display:none;\">\n",
              "\n",
              "  <svg xmlns=\"http://www.w3.org/2000/svg\" height=\"24px\" viewBox=\"0 -960 960 960\">\n",
              "    <path d=\"M120-120v-720h720v720H120Zm60-500h600v-160H180v160Zm220 220h160v-160H400v160Zm0 220h160v-160H400v160ZM180-400h160v-160H180v160Zm440 0h160v-160H620v160ZM180-180h160v-160H180v160Zm440 0h160v-160H620v160Z\"/>\n",
              "  </svg>\n",
              "    </button>\n",
              "\n",
              "  <style>\n",
              "    .colab-df-container {\n",
              "      display:flex;\n",
              "      gap: 12px;\n",
              "    }\n",
              "\n",
              "    .colab-df-convert {\n",
              "      background-color: #E8F0FE;\n",
              "      border: none;\n",
              "      border-radius: 50%;\n",
              "      cursor: pointer;\n",
              "      display: none;\n",
              "      fill: #1967D2;\n",
              "      height: 32px;\n",
              "      padding: 0 0 0 0;\n",
              "      width: 32px;\n",
              "    }\n",
              "\n",
              "    .colab-df-convert:hover {\n",
              "      background-color: #E2EBFA;\n",
              "      box-shadow: 0px 1px 2px rgba(60, 64, 67, 0.3), 0px 1px 3px 1px rgba(60, 64, 67, 0.15);\n",
              "      fill: #174EA6;\n",
              "    }\n",
              "\n",
              "    .colab-df-buttons div {\n",
              "      margin-bottom: 4px;\n",
              "    }\n",
              "\n",
              "    [theme=dark] .colab-df-convert {\n",
              "      background-color: #3B4455;\n",
              "      fill: #D2E3FC;\n",
              "    }\n",
              "\n",
              "    [theme=dark] .colab-df-convert:hover {\n",
              "      background-color: #434B5C;\n",
              "      box-shadow: 0px 1px 3px 1px rgba(0, 0, 0, 0.15);\n",
              "      filter: drop-shadow(0px 1px 2px rgba(0, 0, 0, 0.3));\n",
              "      fill: #FFFFFF;\n",
              "    }\n",
              "  </style>\n",
              "\n",
              "    <script>\n",
              "      const buttonEl =\n",
              "        document.querySelector('#df-e3c923fb-fbc4-43b6-bfe0-3595f7f80eba button.colab-df-convert');\n",
              "      buttonEl.style.display =\n",
              "        google.colab.kernel.accessAllowed ? 'block' : 'none';\n",
              "\n",
              "      async function convertToInteractive(key) {\n",
              "        const element = document.querySelector('#df-e3c923fb-fbc4-43b6-bfe0-3595f7f80eba');\n",
              "        const dataTable =\n",
              "          await google.colab.kernel.invokeFunction('convertToInteractive',\n",
              "                                                    [key], {});\n",
              "        if (!dataTable) return;\n",
              "\n",
              "        const docLinkHtml = 'Like what you see? Visit the ' +\n",
              "          '<a target=\"_blank\" href=https://colab.research.google.com/notebooks/data_table.ipynb>data table notebook</a>'\n",
              "          + ' to learn more about interactive tables.';\n",
              "        element.innerHTML = '';\n",
              "        dataTable['output_type'] = 'display_data';\n",
              "        await google.colab.output.renderOutput(dataTable, element);\n",
              "        const docLink = document.createElement('div');\n",
              "        docLink.innerHTML = docLinkHtml;\n",
              "        element.appendChild(docLink);\n",
              "      }\n",
              "    </script>\n",
              "  </div>\n",
              "\n",
              "\n",
              "<div id=\"df-103efb7f-aa7c-498b-b338-d231bec10c90\">\n",
              "  <button class=\"colab-df-quickchart\" onclick=\"quickchart('df-103efb7f-aa7c-498b-b338-d231bec10c90')\"\n",
              "            title=\"Suggest charts\"\n",
              "            style=\"display:none;\">\n",
              "\n",
              "<svg xmlns=\"http://www.w3.org/2000/svg\" height=\"24px\"viewBox=\"0 0 24 24\"\n",
              "     width=\"24px\">\n",
              "    <g>\n",
              "        <path d=\"M19 3H5c-1.1 0-2 .9-2 2v14c0 1.1.9 2 2 2h14c1.1 0 2-.9 2-2V5c0-1.1-.9-2-2-2zM9 17H7v-7h2v7zm4 0h-2V7h2v10zm4 0h-2v-4h2v4z\"/>\n",
              "    </g>\n",
              "</svg>\n",
              "  </button>\n",
              "\n",
              "<style>\n",
              "  .colab-df-quickchart {\n",
              "      --bg-color: #E8F0FE;\n",
              "      --fill-color: #1967D2;\n",
              "      --hover-bg-color: #E2EBFA;\n",
              "      --hover-fill-color: #174EA6;\n",
              "      --disabled-fill-color: #AAA;\n",
              "      --disabled-bg-color: #DDD;\n",
              "  }\n",
              "\n",
              "  [theme=dark] .colab-df-quickchart {\n",
              "      --bg-color: #3B4455;\n",
              "      --fill-color: #D2E3FC;\n",
              "      --hover-bg-color: #434B5C;\n",
              "      --hover-fill-color: #FFFFFF;\n",
              "      --disabled-bg-color: #3B4455;\n",
              "      --disabled-fill-color: #666;\n",
              "  }\n",
              "\n",
              "  .colab-df-quickchart {\n",
              "    background-color: var(--bg-color);\n",
              "    border: none;\n",
              "    border-radius: 50%;\n",
              "    cursor: pointer;\n",
              "    display: none;\n",
              "    fill: var(--fill-color);\n",
              "    height: 32px;\n",
              "    padding: 0;\n",
              "    width: 32px;\n",
              "  }\n",
              "\n",
              "  .colab-df-quickchart:hover {\n",
              "    background-color: var(--hover-bg-color);\n",
              "    box-shadow: 0 1px 2px rgba(60, 64, 67, 0.3), 0 1px 3px 1px rgba(60, 64, 67, 0.15);\n",
              "    fill: var(--button-hover-fill-color);\n",
              "  }\n",
              "\n",
              "  .colab-df-quickchart-complete:disabled,\n",
              "  .colab-df-quickchart-complete:disabled:hover {\n",
              "    background-color: var(--disabled-bg-color);\n",
              "    fill: var(--disabled-fill-color);\n",
              "    box-shadow: none;\n",
              "  }\n",
              "\n",
              "  .colab-df-spinner {\n",
              "    border: 2px solid var(--fill-color);\n",
              "    border-color: transparent;\n",
              "    border-bottom-color: var(--fill-color);\n",
              "    animation:\n",
              "      spin 1s steps(1) infinite;\n",
              "  }\n",
              "\n",
              "  @keyframes spin {\n",
              "    0% {\n",
              "      border-color: transparent;\n",
              "      border-bottom-color: var(--fill-color);\n",
              "      border-left-color: var(--fill-color);\n",
              "    }\n",
              "    20% {\n",
              "      border-color: transparent;\n",
              "      border-left-color: var(--fill-color);\n",
              "      border-top-color: var(--fill-color);\n",
              "    }\n",
              "    30% {\n",
              "      border-color: transparent;\n",
              "      border-left-color: var(--fill-color);\n",
              "      border-top-color: var(--fill-color);\n",
              "      border-right-color: var(--fill-color);\n",
              "    }\n",
              "    40% {\n",
              "      border-color: transparent;\n",
              "      border-right-color: var(--fill-color);\n",
              "      border-top-color: var(--fill-color);\n",
              "    }\n",
              "    60% {\n",
              "      border-color: transparent;\n",
              "      border-right-color: var(--fill-color);\n",
              "    }\n",
              "    80% {\n",
              "      border-color: transparent;\n",
              "      border-right-color: var(--fill-color);\n",
              "      border-bottom-color: var(--fill-color);\n",
              "    }\n",
              "    90% {\n",
              "      border-color: transparent;\n",
              "      border-bottom-color: var(--fill-color);\n",
              "    }\n",
              "  }\n",
              "</style>\n",
              "\n",
              "  <script>\n",
              "    async function quickchart(key) {\n",
              "      const quickchartButtonEl =\n",
              "        document.querySelector('#' + key + ' button');\n",
              "      quickchartButtonEl.disabled = true;  // To prevent multiple clicks.\n",
              "      quickchartButtonEl.classList.add('colab-df-spinner');\n",
              "      try {\n",
              "        const charts = await google.colab.kernel.invokeFunction(\n",
              "            'suggestCharts', [key], {});\n",
              "      } catch (error) {\n",
              "        console.error('Error during call to suggestCharts:', error);\n",
              "      }\n",
              "      quickchartButtonEl.classList.remove('colab-df-spinner');\n",
              "      quickchartButtonEl.classList.add('colab-df-quickchart-complete');\n",
              "    }\n",
              "    (() => {\n",
              "      let quickchartButtonEl =\n",
              "        document.querySelector('#df-103efb7f-aa7c-498b-b338-d231bec10c90 button');\n",
              "      quickchartButtonEl.style.display =\n",
              "        google.colab.kernel.accessAllowed ? 'block' : 'none';\n",
              "    })();\n",
              "  </script>\n",
              "</div>\n",
              "\n",
              "    </div>\n",
              "  </div>\n"
            ],
            "application/vnd.google.colaboratory.intrinsic+json": {
              "type": "dataframe",
              "variable_name": "data",
              "summary": "{\n  \"name\": \"data\",\n  \"rows\": 2149,\n  \"fields\": [\n    {\n      \"column\": \"MMSE\",\n      \"properties\": {\n        \"dtype\": \"number\",\n        \"std\": 8.613151282098933,\n        \"min\": 0.0053121464417005,\n        \"max\": 29.991380560529063,\n        \"num_unique_values\": 2149,\n        \"samples\": [\n          14.48864071302017,\n          14.200630848821229,\n          10.811238697003482\n        ],\n        \"semantic_type\": \"\",\n        \"description\": \"\"\n      }\n    },\n    {\n      \"column\": \"Diagnosis\",\n      \"properties\": {\n        \"dtype\": \"number\",\n        \"std\": 0,\n        \"min\": 0,\n        \"max\": 1,\n        \"num_unique_values\": 2,\n        \"samples\": [\n          1,\n          0\n        ],\n        \"semantic_type\": \"\",\n        \"description\": \"\"\n      }\n    }\n  ]\n}"
            }
          },
          "metadata": {},
          "execution_count": 53
        }
      ]
    },
    {
      "cell_type": "markdown",
      "source": [
        "T Test"
      ],
      "metadata": {
        "id": "kspf7ANHq1PX"
      },
      "id": "kspf7ANHq1PX"
    },
    {
      "cell_type": "code",
      "source": [
        "diagnosed = data[data['Diagnosis'] == 1]\n",
        "notdiagnosed = data[data['Diagnosis'] == 0]\n",
        "\n",
        "t_stat, p_value = stats.ttest_ind(diagnosed['MMSE'], notdiagnosed['MMSE'])\n",
        "\n",
        "if p_value < 0.05:\n",
        "    print(f\"There is significant difference in MMSE based on Diagnosis (p-value = {p_value})\")\n",
        "else:\n",
        "    print(f\"There is no significant difference in MMSE based on Diagnosis (p-value = {p_value})\")\n",
        "print(f\"Diagnosed: Proportion with Alzheimer's disease = {diagnosed['MMSE'].mean()}, n = {len(diagnosed)}\")\n",
        "print(f\"Not Diagnosed: Proportion with Alzheimer's disease = {notdiagnosed['MMSE'].mean()}, n = {len(notdiagnosed)}\")"
      ],
      "metadata": {
        "colab": {
          "base_uri": "https://localhost:8080/"
        },
        "id": "YhZKyLz3qR4A",
        "outputId": "9eface10-ba59-43f7-9b8e-f5bd7dd55d1b"
      },
      "id": "YhZKyLz3qR4A",
      "execution_count": null,
      "outputs": [
        {
          "output_type": "stream",
          "name": "stdout",
          "text": [
            "There is significant difference in MMSE based on Diagnosis (p-value = 7.537247541446761e-29)\n",
            "Diagnosed: Proportion with Alzheimer's disease = 11.994657167887603, n = 760\n",
            "Not Diagnosed: Proportion with Alzheimer's disease = 16.26554296165207, n = 1389\n"
          ]
        }
      ]
    },
    {
      "cell_type": "markdown",
      "source": [
        "Z Test"
      ],
      "metadata": {
        "id": "86blT6QWq3WS"
      },
      "id": "86blT6QWq3WS"
    },
    {
      "cell_type": "code",
      "source": [
        "diagnosed = data[data['Diagnosis'] == 1]\n",
        "notdiagnosed = data[data['Diagnosis'] == 0]\n",
        "\n",
        "z_stat, p_value = ztest(diagnosed['MMSE'], notdiagnosed['MMSE'])\n",
        "\n",
        "if p_value < 0.05:\n",
        "    print(f\"There is significant difference in MMSE based on Diagnosis (p-value = {p_value})\")\n",
        "else:\n",
        "    print(f\"There is no significant difference in MMSE based on Diagnosis (p-value = {p_value})\")\n",
        "print(f\"Diagnosed: Proportion with Alzheimer's disease = {diagnosed['MMSE'].mean()}, n = {len(diagnosed)}\")\n",
        "print(f\"Not Diagnosed: Proportion with Alzheimer's disease = {notdiagnosed['MMSE'].mean()}, n = {len(notdiagnosed)}\")\n"
      ],
      "metadata": {
        "colab": {
          "base_uri": "https://localhost:8080/"
        },
        "id": "Txw7ht0rqYDh",
        "outputId": "e7ed1c3b-d179-4744-ea17-03e073430bd9"
      },
      "id": "Txw7ht0rqYDh",
      "execution_count": null,
      "outputs": [
        {
          "output_type": "stream",
          "name": "stdout",
          "text": [
            "There is significant difference in MMSE based on Diagnosis (p-value = 1.1714319036906476e-29)\n",
            "Diagnosed: Proportion with Alzheimer's disease = 11.994657167887603, n = 760\n",
            "Not Diagnosed: Proportion with Alzheimer's disease = 16.26554296165207, n = 1389\n"
          ]
        }
      ]
    },
    {
      "cell_type": "markdown",
      "source": [
        "Mann-Whitney U Test"
      ],
      "metadata": {
        "id": "Nre_K_vVq6f2"
      },
      "id": "Nre_K_vVq6f2"
    },
    {
      "cell_type": "code",
      "source": [
        "diagnosed = data[data['Diagnosis'] == 1]\n",
        "notdiagnosed = data[data['Diagnosis'] == 0]\n",
        "\n",
        "statistic, p_value = stats.mannwhitneyu(diagnosed['MMSE'], notdiagnosed['MMSE'], alternative='two-sided')\n",
        "\n",
        "if p_value < 0.05:\n",
        "    print(f\"There is significant difference in MMSE based on Diagnosis (p-value = {p_value})\")\n",
        "else:\n",
        "    print(f\"There is no significant difference in MMSE based on Diagnosis (p-value = {p_value})\")\n",
        "print(f\"Diagnosed: Proportion with Alzheimer's disease = {diagnosed['MMSE'].mean()}, n = {len(diagnosed)}\")\n",
        "print(f\"Not Diagnosed: Proportion with Alzheimer's disease = {notdiagnosed['MMSE'].mean()}, n = {len(notdiagnosed)}\")"
      ],
      "metadata": {
        "colab": {
          "base_uri": "https://localhost:8080/"
        },
        "id": "bOSofIPeqckw",
        "outputId": "5f9d4010-9b0b-4abc-fd20-2d500406fe4f"
      },
      "id": "bOSofIPeqckw",
      "execution_count": null,
      "outputs": [
        {
          "output_type": "stream",
          "name": "stdout",
          "text": [
            "There is significant difference in MMSE based on Diagnosis (p-value = 6.623802197153537e-28)\n",
            "Diagnosed: Proportion with Alzheimer's disease = 11.994657167887603, n = 760\n",
            "Not Diagnosed: Proportion with Alzheimer's disease = 16.26554296165207, n = 1389\n"
          ]
        }
      ]
    },
    {
      "cell_type": "markdown",
      "source": [
        "This similar pattern is observed with Functional Assessment & ADL"
      ],
      "metadata": {
        "id": "AjkUL5lSyDc2"
      },
      "id": "AjkUL5lSyDc2"
    }
  ],
  "metadata": {
    "kernelspec": {
      "display_name": "Python 3 (ipykernel)",
      "language": "python",
      "name": "python3"
    },
    "language_info": {
      "codemirror_mode": {
        "name": "ipython",
        "version": 3
      },
      "file_extension": ".py",
      "mimetype": "text/x-python",
      "name": "python",
      "nbconvert_exporter": "python",
      "pygments_lexer": "ipython3",
      "version": "3.12.4"
    },
    "colab": {
      "provenance": [],
      "collapsed_sections": [
        "ad1f9348-04b2-44bf-8b6d-dccd8f6bfe16",
        "5621625a-a3e9-411c-8b5b-c638d67c8a41",
        "f8e52995-4948-4120-9b25-788a9fdf7625",
        "qnRshTQ7SGV9",
        "52e0b196-1b0a-407f-b45f-694aa4639834",
        "d4957c32-c2e1-4370-8964-5306d3ce268e",
        "398cf543-5111-4c6e-818b-fb9d97a435d1",
        "CkqbOAOs0zGJ",
        "I3Ea5BJZVbUA",
        "LVunvobEV3aM",
        "hpfFXs5w_hZ3",
        "uaZzQrHZUXrt",
        "f-hgr8ktmO-E"
      ]
    }
  },
  "nbformat": 4,
  "nbformat_minor": 5
}